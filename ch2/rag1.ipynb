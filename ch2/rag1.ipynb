{
 "cells": [
  {
   "cell_type": "code",
   "execution_count": 1,
   "id": "8ccf04cf",
   "metadata": {},
   "outputs": [],
   "source": [
    "from langchain_ollama import ChatOllama\n",
    "from langchain_core.prompts import ChatPromptTemplate, PromptTemplate\n",
    "from langchain_core.messages import HumanMessage, SystemMessage\n",
    "from pydantic import BaseModel"
   ]
  },
  {
   "cell_type": "code",
   "execution_count": 2,
   "id": "2f8d69bb",
   "metadata": {},
   "outputs": [
    {
     "data": {
      "text/plain": [
       "AIMessage(content='<think>\\n\\n</think>\\n\\nHello! How can I assist you today? 😊', additional_kwargs={}, response_metadata={'model': 'deepseek-r1:1.5b', 'created_at': '2025-07-30T12:29:43.3359255Z', 'done': True, 'done_reason': 'stop', 'total_duration': 4609569300, 'load_duration': 3474870100, 'prompt_eval_count': 5, 'prompt_eval_duration': 147768600, 'eval_count': 16, 'eval_duration': 978133700, 'model_name': 'deepseek-r1:1.5b'}, id='run--ee466577-ece3-495c-bd32-efc72a2d092b-0', usage_metadata={'input_tokens': 5, 'output_tokens': 16, 'total_tokens': 21})"
      ]
     },
     "execution_count": 2,
     "metadata": {},
     "output_type": "execute_result"
    }
   ],
   "source": [
    "ollama_model = ChatOllama(\n",
    "    base_url='http://127.0.0.1:11434',\n",
    "    model=\"deepseek-r1:1.5b\"\n",
    ")\n",
    "\n",
    "ollama_model.invoke(\"Hi!\")"
   ]
  },
  {
   "cell_type": "markdown",
   "id": "3f43b7ba",
   "metadata": {},
   "source": [
    "Indexing and retrieving"
   ]
  },
  {
   "cell_type": "markdown",
   "id": "5a123ed4",
   "metadata": {},
   "source": [
    "### Indexing, Ingestion, Embeddings and VectorStore"
   ]
  },
  {
   "cell_type": "markdown",
   "id": "9a9051ca",
   "metadata": {},
   "source": [
    "## Embeddings\n",
    "\n",
    "- Bag of Words\n",
    "- LLM-Based"
   ]
  },
  {
   "cell_type": "code",
   "execution_count": 3,
   "id": "34fd94af",
   "metadata": {},
   "outputs": [
    {
     "data": {
      "text/plain": [
       "[Document(metadata={'source': '../data/test.txt'}, page_content='Test text\\n\\nAnd Chunks just in case. Fatal\\n\\nOr not\\n\\nGreat President and friend')]"
      ]
     },
     "execution_count": 3,
     "metadata": {},
     "output_type": "execute_result"
    }
   ],
   "source": [
    "#Load\n",
    "from langchain_community.document_loaders import TextLoader\n",
    "path = '../data/test.txt'\n",
    "\n",
    "loader = TextLoader(path)\n",
    "\n",
    "docs = loader.load()\n",
    "docs"
   ]
  },
  {
   "cell_type": "code",
   "execution_count": 4,
   "id": "283b52f8",
   "metadata": {},
   "outputs": [
    {
     "name": "stderr",
     "output_type": "stream",
     "text": [
      "USER_AGENT environment variable not set, consider setting it to identify your requests.\n"
     ]
    }
   ],
   "source": [
    "from langchain_community.document_loaders import WebBaseLoader\n",
    "#\n",
    "#loader = WebBaseLoader(\"https://www.langchain.com/\")\n",
    "#docs = loader.load()\n",
    "#\n",
    "#docs"
   ]
  },
  {
   "cell_type": "code",
   "execution_count": 5,
   "id": "bce25997",
   "metadata": {},
   "outputs": [
    {
     "name": "stdout",
     "output_type": "stream",
     "text": [
      "[Document(metadata={'producer': 'MiKTeX-dvipdfmx (20220710)', 'creator': 'LaTeX with hyperref', 'creationdate': '2025-07-10T17:14:12-04:00', 'source': '../data/test.pdf', 'total_pages': 4, 'page': 0, 'page_label': '1'}, page_content='Alejandro Cespón\\nARTiFiCiALINTELLiGENCERESEARCHER · SOFTWAREMiDDEVELOPER\\nSanta Clara, Villa Clara, Cuba\\nć cesponalejandro@gmail.com | ^ acferriol | ] alejandro-cespon-b36771209 | Ȉ 0000-0002-8584-6958 | Ƹ Alejandro-Cespon-Ferriol | Ǒ alejandrocespon\\n| ŵ Alejandro Cespón Ferriol | 24 years\\n“Lifeisthis...,Ilikethis”\\nHarveySpecter\\nEducation\\nGranadaUniversity Granada,Spain\\nPHDONCOMPUTERSCiENCE Nov. 2024‑Present\\n• DoctoralProgrammeinInformationandCommunicationTechnologies(B25/56/1).\\nUCLV(CentralUniversity”MartaAbreu”ofLasVillas) VillaClara,Cuba\\nMASTERONCOMPUTERSCiENCE Dec. 2023‑Sept. 2024\\n• Studyingfromundergraduatebyaspecialtrainingplan\\nUCLV(CentralUniversity”MartaAbreu”ofLasVillas) VillaClara,Cuba\\nB.S.ONCOMPUTERSCiENCE Sep. 2019‑Dec. 2023\\n• GotmydirectadmissionbybelongingtoMathematicsHigh‑SchoolCubanPreselection.\\nVocationalInstituteofExactScience”ErnestoGuevara” VillaClara,Cuba\\nHiGHSCHOOL Sep. 2015‑Jun. 2018\\n• Mathematicshighperformingstudent\\nSkills\\nBack‑end Django,PostgreSQL,API‑REST,PlayFramework\\nFront‑end HTML5,CSS3,JavaScript,Bootstrap\\nProgrammingLanguages Python,Java,C++,SQL,Scala\\nAIandMachineLearning Numpy,Pandas,Matplotlib,Scikit‑learn,Tensorflow,PyTorch,PySpark,LangChain\\nOthers Git,LaTex,Markdown,JupyterNotebooks,Storytelling\\nLanguages Spanish(native),English(B1)\\nResearch MachineLearning,DistributedConvexOptimization,GANs,FederatedLearning,XAI,LLMs\\nExperience\\nAndalusianInteruniversityInstituteofDataScienceandComputationalIntelligence Granada,Spain\\nRESEARCHER Jan. 2025‑Present\\n• ResearchonXAIandLLMs\\n• Profile: https://dasci.es/investigador/alejandro‑cespon‑ferriol/\\nUCLVComputerScienceDepartment&InformaticsInvestigationCenter VillaClara,Cuba\\nPROFESSOR&RESEARCHER Dec. 2023‑Present\\n• TeachDiscreteMathematicsandNumericalAnalysisinBachelor’sDegreeonComputerScience.\\n• Researchonconvexoptimization,outlierdetection,distancemetriclearning,distributedalghoritms,XAIandLLMs\\n• WorkingonNationalandLocalProjectsaboutArtificialIntelligenceandPatternRecognition\\nUndergraduateResearch,ArtificialIntelligence VillaClara,Cuba\\nRESEARCHER Mar. 2022‑Dec. 2023\\n• Researchonconvexoptimizationforthedevelopmentofanomalydetectionalgorithms.\\n• Developmentofasystemforclimaticforecastingoflateblightinpotato.\\nDATYSVillaClara VillaClara,Cuba\\nINTERNSHiP Jan. 2021\\n• Assimilatecompanytechnologies\\n• Developmentofaprojectonfixedassetinventorycontrol\\n• Useoftechnologiessuchas: ScalaProgrammingLanguage,PlayFramework,Bootstrap,GitandGitLab\\nJULY10,2025 ALEJANDROCESPÓN · CURRiCULUMViTAE 1'), Document(metadata={'producer': 'MiKTeX-dvipdfmx (20220710)', 'creator': 'LaTeX with hyperref', 'creationdate': '2025-07-10T17:14:12-04:00', 'source': '../data/test.pdf', 'total_pages': 4, 'page': 1, 'page_label': '2'}, page_content='Memberships\\nORGANiZATiONS\\n2024‑\\nPresent Member,InternationalAssociationforPatternRecognition Global\\n2024‑\\nPresent Member,NationalAssociationforPatternRecognition Cuba\\n2024‑\\nPresent Member,MathematicandComputationCubanSociety Cuba\\n2025‑\\nPresent Member,YoungResearchersNetwork“PhDJoséLuisGarcíaCuevas´´ Cuba\\nPROJECTS\\n2024‑\\nPresent\\nMember,Developmentofmethodsandsoftwaretoolsforfederatedlearningandgenerativeneural\\nnetworksfortheefficientandsafeuseofrestrictedmedicalimages(Automation,RoboticsandArtificial\\nIntelligenceProgram)\\nCuba‑Belarus\\n2024‑\\nPresent\\nMember,TheoreticalcontributionstoAIinhandlingproblemswithcomplexdata(Automation,Robotics\\nandArtificialIntelligenceProgram) Cuba\\nHonors,Events&Awards\\nINTERNATiONALAWARDS\\n2024 Participant,19thInternationalConventionandFairINFORMATICA2024 LaHabana,Cuba\\n2023 Participant,IVInternationalScientificConventionUCLV2023 CayoSantaMaría,\\nCuba\\n2021 Participant,IberoamericanMathematicsOlympiad Online\\nNATiONALAWARDS\\n2024 MentionPrize,NationalForumofSciences. Thesismodality. Mathematics,PhysicsandComputerScience Cienfuegos,Cuba\\n2024 RelevantPrize,NationalComputationContest Online,Cuba\\n2024 SpecialDistinction,MiIdea3CEContest LaHabana,Cuba\\n2023 Participant,NationalForumofTechnicalSciences SantiagodeCuba,\\nCuba\\n2023 Participant,ArtificialIntelligenceforsustainabledevelopmentworkshop(IADES) LaHabana,Cuba\\n2021 BronzeMedal,IberoamericanMathematicsOlympiadatNationalLevel Online\\n2020 Participant,ICPC‑UCLVFallCamp VillaClara,Cuba\\n2019 Finalist,ACM‑ICPCCubanFinal Cuba\\nINSTiTUTiONAWARDS\\n2023 ComputerScienceGoldenDegree ,67thgraduationoftheUCLV VillaClara,Cuba\\n2023 ScientificMeritAward ,67thgraduationoftheUCLV VillaClara,Cuba\\n2023 Bestacademicgraduateoftheuniversity ,67thgraduationoftheUCLV VillaClara,Cuba\\nHiGH‑SCHOOLAWARDS\\n2019 3rdplace,VIUCLVCompetitveProgrammingCup VillaClara,Cuba\\n2018 GoldMedal1stplace(AccessNationalCubanTeam) ,NationalMathematicsContest Cuba\\n2017 2ndplace,NationalKnowledgeCup(Mathematics) VillaClara,Cuba\\n2017 SilverMedal12thPlace ,NationalMathematicsContest Cuba\\nJULY10,2025 ALEJANDROCESPÓN · CURRiCULUMViTAE 2'), Document(metadata={'producer': 'MiKTeX-dvipdfmx (20220710)', 'creator': 'LaTeX with hyperref', 'creationdate': '2025-07-10T17:14:12-04:00', 'source': '../data/test.pdf', 'total_pages': 4, 'page': 2, 'page_label': '3'}, page_content='Certificates\\n2025 EthicsandIntegrityinResearchandPublication ,GranadaUniversity\\n2025 WritingscientifictextswithLaTeXandversioncontrolwithGit ,GranadaUniversity\\n2025 CommunicateFools!,GranadaUniversity\\n2024 DataVisualization,Kaggle\\n2024 ArtificialIntelligencein360 ,GranadaUniversity\\n2024 IntrotoDeepLearning ,Kaggle\\n2024 IntermediateMachineLearning ,Kaggle\\n2023 Pandas,Kaggle\\n2023 IntrotoMachineLearning ,Kaggle\\n2022 Python,Kaggle\\n2022 IntrotoProgramming ,Kaggle\\n2022 ElementsofAI ,MinnaLearn\\nWriting\\nDevelopmentofaDistributedOutlierDetectionMethodbasedonTheAlternating\\nDirectionMethodofMultipliers\\nJournalofAutomation,Mobile\\nRoboticsandIntelligentSystems\\n(JAMRIS)\\nWRiTER/CONTRiBUTOR 2025\\n• AlejandroCesponFerriol,HéctorR.González,CarlosA.MorellPerez\\n• DOI:https://doi.org/10.14313/jamris‑2025‑009\\nDevelopmentofaDistributedOutlierDetectionMethodbasedonTheAlternating\\nDirectionMethodofMultipliers\\nEventMemories19thInternational\\nConventionandFairINFORMATICA\\nWRiTER/CONTRiBUTOR 2024\\n• HéctorR.GonzálezDiez,CarlosA.MorellPérez,AlejandroCespónFerriol\\n• ISBN:978‑959‑7255‑03‑1\\nDevelopmentofaDistributedOutlierDetectionMethodbasedonTheAlternating\\nDirectionMethodofMultipliers\\nEventMemoriesIVInternational\\nScientificCconventionUCLV2023\\nWRiTER/CONTRiBUTOR 2023\\n• HéctorR.GonzálezDiez,CarlosA.MorellPérez,AlejandroCespónFerriol\\n• ISBN:978‑959‑312‑570‑3\\nExpertsystemfordetectionofendophthalmitisaftercataractsurgery\\nEventMemoriesInnovationand\\nScientificApplicationFair.\\nEureka2023\\nWRiTER/CONTRiBUTOR 2023\\n• AlejandroCesponFerriol,MichelAlvarezMorales,DarianFernandezGutierrez,DanielAlfonsoLeón\\n• https://eureka.sld.cu/index.php/ucmvc23/2023/paper/view/55\\nShortandmedium‑termclimaticforecastoflateblight\\nEventMemoriesInnovationand\\nScientificApplicationFair.\\nEureka2023\\nWRiTER/CONTRiBUTOR 2023\\n• AlejandroCespónFerriol,DanielaGonzálezEscobar,OrlandoMiguelSaucedoCastillo,CarlosAlexisMorellPerez\\n• https://eureka.sld.cu/index.php/ucmvc23/2023/paper/view/54\\nPost‑COVID‑19surgicalspecialtyresidentsstateexamperformance EDUMECENTRO.2021;13(3):132‑146.\\nWRiTER/CONTRiBUTOR 2021\\n• MadrigalML,FerriolRMR,MenesesFÁ,FerriolAC\\n• ISSN2077‑2874(Electronic)\\nPatents\\nCLIMTIZV1.0 CENDA,LaHabana,Cuba\\nDEVELOPER/CONTRiBUTOR 2024\\n• CarlosA.MorellPérez,AlejandroCespónFerriol,OrlandoM.Saucedo\\n• WebappforShortandmedium‑termclimaticforecastoflateblight\\nJULY10,2025 ALEJANDROCESPÓN · CURRiCULUMViTAE 3'), Document(metadata={'producer': 'MiKTeX-dvipdfmx (20220710)', 'creator': 'LaTeX with hyperref', 'creationdate': '2025-07-10T17:14:12-04:00', 'source': '../data/test.pdf', 'total_pages': 4, 'page': 3, 'page_label': '4'}, page_content='ProgramCommittees\\n2024 ProblemWriter,AbelSantamaríaCup VillaClara,Cuba\\n2022 ProblemWriter,AbelSantamaríaCup VillaClara,Cuba\\nJULY10,2025 ALEJANDROCESPÓN · CURRiCULUMViTAE 4')]\n"
     ]
    }
   ],
   "source": [
    "from langchain_community.document_loaders import PyPDFLoader\n",
    "\n",
    "loader = PyPDFLoader('../data/test.pdf')\n",
    "\n",
    "pages = loader.load()\n",
    "\n",
    "print(pages)\n"
   ]
  },
  {
   "cell_type": "markdown",
   "id": "8d0034e1",
   "metadata": {},
   "source": [
    "### Chunks"
   ]
  },
  {
   "cell_type": "code",
   "execution_count": 6,
   "id": "90e2bd81",
   "metadata": {},
   "outputs": [
    {
     "name": "stdout",
     "output_type": "stream",
     "text": [
      "11\n"
     ]
    }
   ],
   "source": [
    "from langchain_text_splitters import RecursiveCharacterTextSplitter\n",
    "\n",
    "loader = TextLoader(\"../data/test.txt\") \n",
    "docs = loader.load()\n",
    "\n",
    "splitter = RecursiveCharacterTextSplitter(\n",
    "    chunk_size=10,\n",
    "    chunk_overlap=2,\n",
    ")\n",
    "splitted_docs = splitter.split_documents(docs)\n",
    "\n",
    "print(len(splitted_docs))"
   ]
  },
  {
   "cell_type": "code",
   "execution_count": 7,
   "id": "bba48d03",
   "metadata": {},
   "outputs": [
    {
     "data": {
      "text/plain": [
       "[Document(metadata={'source': '../data/test.txt'}, page_content='Test text'),\n",
       " Document(metadata={'source': '../data/test.txt'}, page_content='And'),\n",
       " Document(metadata={'source': '../data/test.txt'}, page_content='Chunks'),\n",
       " Document(metadata={'source': '../data/test.txt'}, page_content='just in'),\n",
       " Document(metadata={'source': '../data/test.txt'}, page_content='case.'),\n",
       " Document(metadata={'source': '../data/test.txt'}, page_content='Fatal'),\n",
       " Document(metadata={'source': '../data/test.txt'}, page_content='Or not'),\n",
       " Document(metadata={'source': '../data/test.txt'}, page_content='Great'),\n",
       " Document(metadata={'source': '../data/test.txt'}, page_content='President'),\n",
       " Document(metadata={'source': '../data/test.txt'}, page_content='and'),\n",
       " Document(metadata={'source': '../data/test.txt'}, page_content='friend')]"
      ]
     },
     "execution_count": 7,
     "metadata": {},
     "output_type": "execute_result"
    }
   ],
   "source": [
    "splitted_docs"
   ]
  },
  {
   "cell_type": "code",
   "execution_count": 8,
   "id": "6ab7d8f0",
   "metadata": {},
   "outputs": [
    {
     "name": "stdout",
     "output_type": "stream",
     "text": [
      "[Document(metadata={}, page_content='def hello_world():\\n    print(\"Hello, World!\")'), Document(metadata={}, page_content='# Call the function\\nhello_world()')]\n"
     ]
    }
   ],
   "source": [
    "### Programming Language\n",
    "from langchain_text_splitters import (\n",
    "    Language,\n",
    "    RecursiveCharacterTextSplitter,\n",
    ")\n",
    "\n",
    "PYTHON_CODE = \"\"\"\n",
    "def hello_world():\n",
    "    print(\"Hello, World!\")\n",
    "\n",
    "# Call the function\n",
    "hello_world()\n",
    "\"\"\"\n",
    "python_splitter = RecursiveCharacterTextSplitter.from_language( #From language for Languages\n",
    "    language=Language.PYTHON, chunk_size=50, chunk_overlap=0\n",
    ")\n",
    "python_docs = python_splitter.create_documents([PYTHON_CODE]) #Create documents for str(not docs)\n",
    "\n",
    "print(python_docs)"
   ]
  },
  {
   "cell_type": "code",
   "execution_count": 9,
   "id": "b3b96d80",
   "metadata": {},
   "outputs": [
    {
     "name": "stdout",
     "output_type": "stream",
     "text": [
      "[Document(metadata={'source': 'https://www.langchain.com'}, page_content='# LangChain'), Document(metadata={'source': 'https://www.langchain.com'}, page_content='⚡ Building applications with LLMs through composability ⚡'), Document(metadata={'source': 'https://www.langchain.com'}, page_content='## Quick Install\\n\\n```bash\\npip install langchain'), Document(metadata={'source': 'https://www.langchain.com'}, page_content='```'), Document(metadata={'source': 'https://www.langchain.com'}, page_content='As an open source project in a rapidly developing field, we'), Document(metadata={'source': 'https://www.langchain.com'}, page_content='are extremely open'), Document(metadata={'source': 'https://www.langchain.com'}, page_content='to contributions.')]\n"
     ]
    }
   ],
   "source": [
    "markdown_text = \"\"\"\n",
    "# LangChain\n",
    "\n",
    "⚡ Building applications with LLMs through composability ⚡\n",
    "\n",
    "## Quick Install\n",
    "\n",
    "```bash\n",
    "pip install langchain\n",
    "```\n",
    "\n",
    "As an open source project in a rapidly developing field, we are extremely open \n",
    "    to contributions.\n",
    "\"\"\"\n",
    "\n",
    "md_splitter = RecursiveCharacterTextSplitter.from_language(\n",
    "    language=Language.MARKDOWN, chunk_size=60, chunk_overlap=0\n",
    ")\n",
    "md_docs = md_splitter.create_documents(texts = [markdown_text], #List of Texts\n",
    "    metadatas=[{\"source\": \"https://www.langchain.com\"}]) #List of metadata\n",
    "\n",
    "print(md_docs)"
   ]
  },
  {
   "cell_type": "markdown",
   "id": "7cc12fb1",
   "metadata": {},
   "source": [
    "### Generate Embeddings"
   ]
  },
  {
   "cell_type": "code",
   "execution_count": 10,
   "id": "184c3752",
   "metadata": {},
   "outputs": [],
   "source": [
    "from langchain_ollama import OllamaEmbeddings\n",
    "\n",
    "model = OllamaEmbeddings(\n",
    "    base_url='http://127.0.0.1:11434',\n",
    "    model=\"deepseek-r1:1.5b\"\n",
    ")"
   ]
  },
  {
   "cell_type": "code",
   "execution_count": 11,
   "id": "1236b7ff",
   "metadata": {},
   "outputs": [],
   "source": [
    "embeddings = model.embed_documents([\n",
    "    \"Hi there!\",\n",
    "    \"Oh, hello!\",\n",
    "    \"What's your name?\",\n",
    "    \"My friends call me World\",\n",
    "    \"Hello World!\"\n",
    "])"
   ]
  },
  {
   "cell_type": "code",
   "execution_count": 12,
   "id": "30052a45",
   "metadata": {},
   "outputs": [
    {
     "data": {
      "text/plain": [
       "5"
      ]
     },
     "execution_count": 12,
     "metadata": {},
     "output_type": "execute_result"
    }
   ],
   "source": [
    "len(embeddings)"
   ]
  },
  {
   "cell_type": "code",
   "execution_count": 13,
   "id": "d136216c",
   "metadata": {},
   "outputs": [],
   "source": [
    "## Complete pipeline\n",
    "from langchain_community.document_loaders import PyPDFLoader\n",
    "from langchain_text_splitters import RecursiveCharacterTextSplitter\n",
    "from langchain_ollama import OllamaEmbeddings\n",
    "\n",
    "pdfloader = PyPDFLoader('../data/test.pdf')\n",
    "doc = pdfloader.load()"
   ]
  },
  {
   "cell_type": "code",
   "execution_count": 14,
   "id": "708b5600",
   "metadata": {},
   "outputs": [
    {
     "data": {
      "text/plain": [
       "[Document(metadata={'producer': 'MiKTeX-dvipdfmx (20220710)', 'creator': 'LaTeX with hyperref', 'creationdate': '2025-07-10T17:14:12-04:00', 'source': '../data/test.pdf', 'total_pages': 4, 'page': 0, 'page_label': '1'}, page_content='Alejandro Cespón\\nARTiFiCiALINTELLiGENCERESEARCHER · SOFTWAREMiDDEVELOPER\\nSanta Clara, Villa Clara, Cuba\\nć cesponalejandro@gmail.com | ^ acferriol | ] alejandro-cespon-b36771209 | Ȉ 0000-0002-8584-6958 | Ƹ Alejandro-Cespon-Ferriol | Ǒ alejandrocespon\\n| ŵ Alejandro Cespón Ferriol | 24 years\\n“Lifeisthis...,Ilikethis”\\nHarveySpecter\\nEducation\\nGranadaUniversity Granada,Spain\\nPHDONCOMPUTERSCiENCE Nov. 2024‑Present\\n• DoctoralProgrammeinInformationandCommunicationTechnologies(B25/56/1).\\nUCLV(CentralUniversity”MartaAbreu”ofLasVillas) VillaClara,Cuba\\nMASTERONCOMPUTERSCiENCE Dec. 2023‑Sept. 2024\\n• Studyingfromundergraduatebyaspecialtrainingplan\\nUCLV(CentralUniversity”MartaAbreu”ofLasVillas) VillaClara,Cuba\\nB.S.ONCOMPUTERSCiENCE Sep. 2019‑Dec. 2023\\n• GotmydirectadmissionbybelongingtoMathematicsHigh‑SchoolCubanPreselection.\\nVocationalInstituteofExactScience”ErnestoGuevara” VillaClara,Cuba\\nHiGHSCHOOL Sep. 2015‑Jun. 2018\\n• Mathematicshighperformingstudent\\nSkills'),\n",
       " Document(metadata={'producer': 'MiKTeX-dvipdfmx (20220710)', 'creator': 'LaTeX with hyperref', 'creationdate': '2025-07-10T17:14:12-04:00', 'source': '../data/test.pdf', 'total_pages': 4, 'page': 0, 'page_label': '1'}, page_content='VocationalInstituteofExactScience”ErnestoGuevara” VillaClara,Cuba\\nHiGHSCHOOL Sep. 2015‑Jun. 2018\\n• Mathematicshighperformingstudent\\nSkills\\nBack‑end Django,PostgreSQL,API‑REST,PlayFramework\\nFront‑end HTML5,CSS3,JavaScript,Bootstrap\\nProgrammingLanguages Python,Java,C++,SQL,Scala\\nAIandMachineLearning Numpy,Pandas,Matplotlib,Scikit‑learn,Tensorflow,PyTorch,PySpark,LangChain\\nOthers Git,LaTex,Markdown,JupyterNotebooks,Storytelling\\nLanguages Spanish(native),English(B1)\\nResearch MachineLearning,DistributedConvexOptimization,GANs,FederatedLearning,XAI,LLMs\\nExperience\\nAndalusianInteruniversityInstituteofDataScienceandComputationalIntelligence Granada,Spain\\nRESEARCHER Jan. 2025‑Present\\n• ResearchonXAIandLLMs\\n• Profile: https://dasci.es/investigador/alejandro‑cespon‑ferriol/\\nUCLVComputerScienceDepartment&InformaticsInvestigationCenter VillaClara,Cuba\\nPROFESSOR&RESEARCHER Dec. 2023‑Present\\n• TeachDiscreteMathematicsandNumericalAnalysisinBachelor’sDegreeonComputerScience.'),\n",
       " Document(metadata={'producer': 'MiKTeX-dvipdfmx (20220710)', 'creator': 'LaTeX with hyperref', 'creationdate': '2025-07-10T17:14:12-04:00', 'source': '../data/test.pdf', 'total_pages': 4, 'page': 0, 'page_label': '1'}, page_content='UCLVComputerScienceDepartment&InformaticsInvestigationCenter VillaClara,Cuba\\nPROFESSOR&RESEARCHER Dec. 2023‑Present\\n• TeachDiscreteMathematicsandNumericalAnalysisinBachelor’sDegreeonComputerScience.\\n• Researchonconvexoptimization,outlierdetection,distancemetriclearning,distributedalghoritms,XAIandLLMs\\n• WorkingonNationalandLocalProjectsaboutArtificialIntelligenceandPatternRecognition\\nUndergraduateResearch,ArtificialIntelligence VillaClara,Cuba\\nRESEARCHER Mar. 2022‑Dec. 2023\\n• Researchonconvexoptimizationforthedevelopmentofanomalydetectionalgorithms.\\n• Developmentofasystemforclimaticforecastingoflateblightinpotato.\\nDATYSVillaClara VillaClara,Cuba\\nINTERNSHiP Jan. 2021\\n• Assimilatecompanytechnologies\\n• Developmentofaprojectonfixedassetinventorycontrol\\n• Useoftechnologiessuchas: ScalaProgrammingLanguage,PlayFramework,Bootstrap,GitandGitLab\\nJULY10,2025 ALEJANDROCESPÓN · CURRiCULUMViTAE 1'),\n",
       " Document(metadata={'producer': 'MiKTeX-dvipdfmx (20220710)', 'creator': 'LaTeX with hyperref', 'creationdate': '2025-07-10T17:14:12-04:00', 'source': '../data/test.pdf', 'total_pages': 4, 'page': 1, 'page_label': '2'}, page_content='Memberships\\nORGANiZATiONS\\n2024‑\\nPresent Member,InternationalAssociationforPatternRecognition Global\\n2024‑\\nPresent Member,NationalAssociationforPatternRecognition Cuba\\n2024‑\\nPresent Member,MathematicandComputationCubanSociety Cuba\\n2025‑\\nPresent Member,YoungResearchersNetwork“PhDJoséLuisGarcíaCuevas´´ Cuba\\nPROJECTS\\n2024‑\\nPresent\\nMember,Developmentofmethodsandsoftwaretoolsforfederatedlearningandgenerativeneural\\nnetworksfortheefficientandsafeuseofrestrictedmedicalimages(Automation,RoboticsandArtificial\\nIntelligenceProgram)\\nCuba‑Belarus\\n2024‑\\nPresent\\nMember,TheoreticalcontributionstoAIinhandlingproblemswithcomplexdata(Automation,Robotics\\nandArtificialIntelligenceProgram) Cuba\\nHonors,Events&Awards\\nINTERNATiONALAWARDS\\n2024 Participant,19thInternationalConventionandFairINFORMATICA2024 LaHabana,Cuba\\n2023 Participant,IVInternationalScientificConventionUCLV2023 CayoSantaMaría,\\nCuba\\n2021 Participant,IberoamericanMathematicsOlympiad Online\\nNATiONALAWARDS'),\n",
       " Document(metadata={'producer': 'MiKTeX-dvipdfmx (20220710)', 'creator': 'LaTeX with hyperref', 'creationdate': '2025-07-10T17:14:12-04:00', 'source': '../data/test.pdf', 'total_pages': 4, 'page': 1, 'page_label': '2'}, page_content='2023 Participant,IVInternationalScientificConventionUCLV2023 CayoSantaMaría,\\nCuba\\n2021 Participant,IberoamericanMathematicsOlympiad Online\\nNATiONALAWARDS\\n2024 MentionPrize,NationalForumofSciences. Thesismodality. Mathematics,PhysicsandComputerScience Cienfuegos,Cuba\\n2024 RelevantPrize,NationalComputationContest Online,Cuba\\n2024 SpecialDistinction,MiIdea3CEContest LaHabana,Cuba\\n2023 Participant,NationalForumofTechnicalSciences SantiagodeCuba,\\nCuba\\n2023 Participant,ArtificialIntelligenceforsustainabledevelopmentworkshop(IADES) LaHabana,Cuba\\n2021 BronzeMedal,IberoamericanMathematicsOlympiadatNationalLevel Online\\n2020 Participant,ICPC‑UCLVFallCamp VillaClara,Cuba\\n2019 Finalist,ACM‑ICPCCubanFinal Cuba\\nINSTiTUTiONAWARDS\\n2023 ComputerScienceGoldenDegree ,67thgraduationoftheUCLV VillaClara,Cuba\\n2023 ScientificMeritAward ,67thgraduationoftheUCLV VillaClara,Cuba\\n2023 Bestacademicgraduateoftheuniversity ,67thgraduationoftheUCLV VillaClara,Cuba\\nHiGH‑SCHOOLAWARDS'),\n",
       " Document(metadata={'producer': 'MiKTeX-dvipdfmx (20220710)', 'creator': 'LaTeX with hyperref', 'creationdate': '2025-07-10T17:14:12-04:00', 'source': '../data/test.pdf', 'total_pages': 4, 'page': 1, 'page_label': '2'}, page_content='2023 ScientificMeritAward ,67thgraduationoftheUCLV VillaClara,Cuba\\n2023 Bestacademicgraduateoftheuniversity ,67thgraduationoftheUCLV VillaClara,Cuba\\nHiGH‑SCHOOLAWARDS\\n2019 3rdplace,VIUCLVCompetitveProgrammingCup VillaClara,Cuba\\n2018 GoldMedal1stplace(AccessNationalCubanTeam) ,NationalMathematicsContest Cuba\\n2017 2ndplace,NationalKnowledgeCup(Mathematics) VillaClara,Cuba\\n2017 SilverMedal12thPlace ,NationalMathematicsContest Cuba\\nJULY10,2025 ALEJANDROCESPÓN · CURRiCULUMViTAE 2'),\n",
       " Document(metadata={'producer': 'MiKTeX-dvipdfmx (20220710)', 'creator': 'LaTeX with hyperref', 'creationdate': '2025-07-10T17:14:12-04:00', 'source': '../data/test.pdf', 'total_pages': 4, 'page': 2, 'page_label': '3'}, page_content='Certificates\\n2025 EthicsandIntegrityinResearchandPublication ,GranadaUniversity\\n2025 WritingscientifictextswithLaTeXandversioncontrolwithGit ,GranadaUniversity\\n2025 CommunicateFools!,GranadaUniversity\\n2024 DataVisualization,Kaggle\\n2024 ArtificialIntelligencein360 ,GranadaUniversity\\n2024 IntrotoDeepLearning ,Kaggle\\n2024 IntermediateMachineLearning ,Kaggle\\n2023 Pandas,Kaggle\\n2023 IntrotoMachineLearning ,Kaggle\\n2022 Python,Kaggle\\n2022 IntrotoProgramming ,Kaggle\\n2022 ElementsofAI ,MinnaLearn\\nWriting\\nDevelopmentofaDistributedOutlierDetectionMethodbasedonTheAlternating\\nDirectionMethodofMultipliers\\nJournalofAutomation,Mobile\\nRoboticsandIntelligentSystems\\n(JAMRIS)\\nWRiTER/CONTRiBUTOR 2025\\n• AlejandroCesponFerriol,HéctorR.González,CarlosA.MorellPerez\\n• DOI:https://doi.org/10.14313/jamris‑2025‑009\\nDevelopmentofaDistributedOutlierDetectionMethodbasedonTheAlternating\\nDirectionMethodofMultipliers\\nEventMemories19thInternational\\nConventionandFairINFORMATICA\\nWRiTER/CONTRiBUTOR 2024'),\n",
       " Document(metadata={'producer': 'MiKTeX-dvipdfmx (20220710)', 'creator': 'LaTeX with hyperref', 'creationdate': '2025-07-10T17:14:12-04:00', 'source': '../data/test.pdf', 'total_pages': 4, 'page': 2, 'page_label': '3'}, page_content='DevelopmentofaDistributedOutlierDetectionMethodbasedonTheAlternating\\nDirectionMethodofMultipliers\\nEventMemories19thInternational\\nConventionandFairINFORMATICA\\nWRiTER/CONTRiBUTOR 2024\\n• HéctorR.GonzálezDiez,CarlosA.MorellPérez,AlejandroCespónFerriol\\n• ISBN:978‑959‑7255‑03‑1\\nDevelopmentofaDistributedOutlierDetectionMethodbasedonTheAlternating\\nDirectionMethodofMultipliers\\nEventMemoriesIVInternational\\nScientificCconventionUCLV2023\\nWRiTER/CONTRiBUTOR 2023\\n• HéctorR.GonzálezDiez,CarlosA.MorellPérez,AlejandroCespónFerriol\\n• ISBN:978‑959‑312‑570‑3\\nExpertsystemfordetectionofendophthalmitisaftercataractsurgery\\nEventMemoriesInnovationand\\nScientificApplicationFair.\\nEureka2023\\nWRiTER/CONTRiBUTOR 2023\\n• AlejandroCesponFerriol,MichelAlvarezMorales,DarianFernandezGutierrez,DanielAlfonsoLeón\\n• https://eureka.sld.cu/index.php/ucmvc23/2023/paper/view/55\\nShortandmedium‑termclimaticforecastoflateblight\\nEventMemoriesInnovationand\\nScientificApplicationFair.\\nEureka2023\\nWRiTER/CONTRiBUTOR 2023'),\n",
       " Document(metadata={'producer': 'MiKTeX-dvipdfmx (20220710)', 'creator': 'LaTeX with hyperref', 'creationdate': '2025-07-10T17:14:12-04:00', 'source': '../data/test.pdf', 'total_pages': 4, 'page': 2, 'page_label': '3'}, page_content='• https://eureka.sld.cu/index.php/ucmvc23/2023/paper/view/55\\nShortandmedium‑termclimaticforecastoflateblight\\nEventMemoriesInnovationand\\nScientificApplicationFair.\\nEureka2023\\nWRiTER/CONTRiBUTOR 2023\\n• AlejandroCespónFerriol,DanielaGonzálezEscobar,OrlandoMiguelSaucedoCastillo,CarlosAlexisMorellPerez\\n• https://eureka.sld.cu/index.php/ucmvc23/2023/paper/view/54\\nPost‑COVID‑19surgicalspecialtyresidentsstateexamperformance EDUMECENTRO.2021;13(3):132‑146.\\nWRiTER/CONTRiBUTOR 2021\\n• MadrigalML,FerriolRMR,MenesesFÁ,FerriolAC\\n• ISSN2077‑2874(Electronic)\\nPatents\\nCLIMTIZV1.0 CENDA,LaHabana,Cuba\\nDEVELOPER/CONTRiBUTOR 2024\\n• CarlosA.MorellPérez,AlejandroCespónFerriol,OrlandoM.Saucedo\\n• WebappforShortandmedium‑termclimaticforecastoflateblight\\nJULY10,2025 ALEJANDROCESPÓN · CURRiCULUMViTAE 3'),\n",
       " Document(metadata={'producer': 'MiKTeX-dvipdfmx (20220710)', 'creator': 'LaTeX with hyperref', 'creationdate': '2025-07-10T17:14:12-04:00', 'source': '../data/test.pdf', 'total_pages': 4, 'page': 3, 'page_label': '4'}, page_content='ProgramCommittees\\n2024 ProblemWriter,AbelSantamaríaCup VillaClara,Cuba\\n2022 ProblemWriter,AbelSantamaríaCup VillaClara,Cuba\\nJULY10,2025 ALEJANDROCESPÓN · CURRiCULUMViTAE 4')]"
      ]
     },
     "execution_count": 14,
     "metadata": {},
     "output_type": "execute_result"
    }
   ],
   "source": [
    "splitter = RecursiveCharacterTextSplitter(\n",
    "    chunk_size=1000,\n",
    "    chunk_overlap=200,\n",
    ")\n",
    "splitted_docs = splitter.split_documents(doc)\n",
    "\n",
    "splitted_docs"
   ]
  },
  {
   "cell_type": "code",
   "execution_count": 15,
   "id": "34851397",
   "metadata": {},
   "outputs": [],
   "source": [
    "embedding_model = OllamaEmbeddings(\n",
    "    base_url='http://127.0.0.1:11434',\n",
    "    model=\"deepseek-r1:1.5b\"\n",
    ")"
   ]
  },
  {
   "cell_type": "code",
   "execution_count": 16,
   "id": "af225f34",
   "metadata": {},
   "outputs": [],
   "source": [
    "embeddings = embedding_model.embed_documents([chunk.page_content for chunk in splitted_docs])\n",
    "#embeddings"
   ]
  },
  {
   "cell_type": "code",
   "execution_count": 17,
   "id": "ae2f8e53",
   "metadata": {},
   "outputs": [
    {
     "data": {
      "text/plain": [
       "10"
      ]
     },
     "execution_count": 17,
     "metadata": {},
     "output_type": "execute_result"
    }
   ],
   "source": [
    "len(embeddings)"
   ]
  },
  {
   "cell_type": "markdown",
   "id": "062f607b",
   "metadata": {},
   "source": [
    "### Vector Store (Using opensearch)"
   ]
  },
  {
   "cell_type": "code",
   "execution_count": 22,
   "id": "a13db59e",
   "metadata": {},
   "outputs": [
    {
     "data": {
      "text/plain": [
       "<langchain_community.vectorstores.opensearch_vector_search.OpenSearchVectorSearch at 0x24291662fb0>"
      ]
     },
     "execution_count": 22,
     "metadata": {},
     "output_type": "execute_result"
    }
   ],
   "source": [
    "from langchain_community.document_loaders import TextLoader\n",
    "from langchain_openai import OpenAIEmbeddings\n",
    "from langchain_text_splitters import RecursiveCharacterTextSplitter\n",
    "from langchain_community.vectorstores import OpenSearchVectorSearch\n",
    "from langchain_core.documents import Document\n",
    "import uuid\n",
    "import os\n",
    "\n",
    "# Load the document, split it into chunks\n",
    "raw_documents = TextLoader('../data/test.txt').load()\n",
    "text_splitter = RecursiveCharacterTextSplitter(chunk_size=10, \n",
    "    chunk_overlap=2)\n",
    "documents = text_splitter.split_documents(raw_documents)\n",
    "\n",
    "# embed each chunk and insert it into the vector store\n",
    "embeddings = OllamaEmbeddings(\n",
    "    base_url=\"http://127.0.0.1:11434\", model=\"deepseek-r1:1.5b\"\n",
    ")\n",
    "\n",
    "os_key = os.getenv(\"OPENSEARCH_INITIAL_ADMIN_PASSWORD\")\n",
    "\n",
    "docsearch = OpenSearchVectorSearch.from_documents(\n",
    "    docs,\n",
    "    embeddings,\n",
    "    opensearch_url=\"https://localhost:9200\",\n",
    "    http_auth=(\"admin\", os_key),\n",
    "    use_ssl=False,\n",
    "    verify_certs=False,\n",
    "    ssl_assert_hostname=False,\n",
    "    ssl_show_warn=False,\n",
    "    engine=\"faiss\",\n",
    ")\n",
    "\n",
    "docsearch"
   ]
  },
  {
   "cell_type": "markdown",
   "id": "8034c309",
   "metadata": {},
   "source": [
    "### Search"
   ]
  },
  {
   "cell_type": "code",
   "execution_count": 23,
   "id": "ef1a6cca",
   "metadata": {},
   "outputs": [
    {
     "data": {
      "text/plain": [
       "[Document(id='2a385fa7-c0b8-4e4e-8efe-00e0b5d7eb48', metadata={'id': 1, 'source': 'cats.txt'}, page_content='there are cats in the pond'),\n",
       " Document(id='b0297389-6ab4-4b75-930a-7611941ab29f', metadata={'id': 2, 'source': 'ducks.txt'}, page_content='ducks are also found in the pond')]"
      ]
     },
     "execution_count": 23,
     "metadata": {},
     "output_type": "execute_result"
    }
   ],
   "source": [
    "results = docsearch.similarity_search(\"query\", k=4)\n",
    "results"
   ]
  },
  {
   "cell_type": "markdown",
   "id": "7e5b46a2",
   "metadata": {},
   "source": [
    "### Add docs"
   ]
  },
  {
   "cell_type": "code",
   "execution_count": 24,
   "id": "4d135123",
   "metadata": {},
   "outputs": [
    {
     "data": {
      "text/plain": [
       "['d585f69b-4f10-409f-a02b-5252101f05db',\n",
       " '8869f9e4-1b30-412c-8dc9-1c881f3f6fe3']"
      ]
     },
     "execution_count": 24,
     "metadata": {},
     "output_type": "execute_result"
    }
   ],
   "source": [
    "ids = [str(uuid.uuid4()), str(uuid.uuid4())]\n",
    "docsearch.add_documents(\n",
    "    [\n",
    "        Document(\n",
    "            page_content=\"there are cats in the pond\",\n",
    "            metadata={\"location\": \"pond\", \"topic\": \"animals\"},\n",
    "        ),\n",
    "        Document(\n",
    "            page_content=\"ducks are also found in the pond\",\n",
    "            metadata={\"location\": \"pond\", \"topic\": \"animals\"},\n",
    "        ),\n",
    "    ],\n",
    "    ids=ids,\n",
    ")"
   ]
  },
  {
   "cell_type": "markdown",
   "id": "ae51b79c",
   "metadata": {},
   "source": [
    "### Delete docs"
   ]
  },
  {
   "cell_type": "code",
   "execution_count": 25,
   "id": "d0e2a62a",
   "metadata": {},
   "outputs": [
    {
     "data": {
      "text/plain": [
       "True"
      ]
     },
     "execution_count": 25,
     "metadata": {},
     "output_type": "execute_result"
    }
   ],
   "source": [
    "docsearch.delete(ids=[0])"
   ]
  },
  {
   "cell_type": "markdown",
   "id": "02e81d99",
   "metadata": {},
   "source": [
    "## Tracking changes (Step by step with opensearch)"
   ]
  },
  {
   "cell_type": "code",
   "execution_count": 26,
   "id": "ad3080fe",
   "metadata": {},
   "outputs": [],
   "source": [
    "from langchain.indexes import SQLRecordManager, index\n",
    "from langchain_core.documents import Document\n",
    "from langchain_elasticsearch import ElasticsearchStore"
   ]
  },
  {
   "cell_type": "code",
   "execution_count": 27,
   "id": "0ea5ea54",
   "metadata": {},
   "outputs": [],
   "source": [
    "collection_name = \"test_index\"\n",
    "\n",
    "vectorstore = OpenSearchVectorSearch(\n",
    "    opensearch_url=\"https://localhost:9200\",\n",
    "    embedding_function=embeddings,\n",
    "    index_name=collection_name,\n",
    "    http_auth=(\"admin\", os_key),\n",
    "    use_ssl=False,\n",
    "    verify_certs=False,\n",
    "    ssl_assert_hostname=False,\n",
    "    ssl_show_warn=False,\n",
    "    engine=\"faiss\",\n",
    ")"
   ]
  },
  {
   "cell_type": "code",
   "execution_count": 28,
   "id": "5b40bf28",
   "metadata": {},
   "outputs": [],
   "source": [
    "namespace = f\"elasticsearch/{collection_name}\"\n",
    "record_manager = SQLRecordManager(\n",
    "    namespace, db_url=\"sqlite:///record_manager_cache.sql\"\n",
    ")"
   ]
  },
  {
   "cell_type": "code",
   "execution_count": 29,
   "id": "5bdf0884",
   "metadata": {},
   "outputs": [],
   "source": [
    "record_manager.create_schema()"
   ]
  },
  {
   "cell_type": "code",
   "execution_count": 30,
   "id": "f00f5fc0",
   "metadata": {},
   "outputs": [],
   "source": [
    "doc1 = Document(page_content=\"kitty\", metadata={\"source\": \"kitty.txt\"})\n",
    "doc2 = Document(page_content=\"doggy\", metadata={\"source\": \"doggy.txt\"})"
   ]
  },
  {
   "cell_type": "code",
   "execution_count": 31,
   "id": "57488c7d",
   "metadata": {},
   "outputs": [],
   "source": [
    "def _clear():\n",
    "    \"\"\"Hacky helper method to clear content. See the `full` mode section to to understand why it works.\"\"\"\n",
    "    index([], record_manager, vectorstore, cleanup=\"full\", source_id_key=\"source\")"
   ]
  },
  {
   "cell_type": "code",
   "execution_count": 32,
   "id": "55f6fbd9",
   "metadata": {},
   "outputs": [
    {
     "name": "stderr",
     "output_type": "stream",
     "text": [
      "c:\\Users\\User\\Documents\\Chatbots\\Learning Langchain\\learning-langchain\\venv\\lib\\site-packages\\langchain_core\\indexing\\api.py:385: UserWarning: Using SHA-1 for document hashing. SHA-1 is *not* collision-resistant; a motivated attacker can construct distinct inputs that map to the same fingerprint. If this matters in your threat model, switch to a stronger algorithm such as 'blake2b', 'sha256', or 'sha512' by specifying  `key_encoder` parameter in the the `index` or `aindex` function. \n",
      "  _warn_about_sha1()\n"
     ]
    }
   ],
   "source": [
    "_clear()"
   ]
  },
  {
   "cell_type": "code",
   "execution_count": 33,
   "id": "6c461ddb",
   "metadata": {},
   "outputs": [
    {
     "data": {
      "text/plain": [
       "{'num_added': 1, 'num_updated': 0, 'num_skipped': 0, 'num_deleted': 0}"
      ]
     },
     "execution_count": 33,
     "metadata": {},
     "output_type": "execute_result"
    }
   ],
   "source": [
    "index(\n",
    "    [doc1, doc1, doc1, doc1, doc1],\n",
    "    record_manager,\n",
    "    vectorstore,\n",
    "    cleanup=None,\n",
    "    source_id_key=\"source\",\n",
    ")"
   ]
  },
  {
   "cell_type": "code",
   "execution_count": 34,
   "id": "ef9d599f",
   "metadata": {},
   "outputs": [
    {
     "data": {
      "text/plain": [
       "{'num_added': 1, 'num_updated': 0, 'num_skipped': 1, 'num_deleted': 0}"
      ]
     },
     "execution_count": 34,
     "metadata": {},
     "output_type": "execute_result"
    }
   ],
   "source": [
    "index([doc1, doc2], record_manager, vectorstore, cleanup=None, source_id_key=\"source\")"
   ]
  },
  {
   "cell_type": "code",
   "execution_count": 35,
   "id": "31053e0e",
   "metadata": {},
   "outputs": [],
   "source": [
    "docs = [\n",
    "    Document(page_content='there are cats in the pond',\n",
    "        metadata={\"id\": 1, \"source\": \"cats.txt\"}),\n",
    "    Document(page_content='ducks are also found in the pond',\n",
    "        metadata={\"id\": 2, \"source\": \"ducks.txt\"}),\n",
    "]"
   ]
  },
  {
   "cell_type": "code",
   "execution_count": 36,
   "id": "b72a3940",
   "metadata": {},
   "outputs": [
    {
     "name": "stdout",
     "output_type": "stream",
     "text": [
      "Index 1:  {'num_added': 2, 'num_updated': 0, 'num_skipped': 0, 'num_deleted': 0}\n"
     ]
    }
   ],
   "source": [
    "index_1 = index(\n",
    "    docs,\n",
    "    record_manager,\n",
    "    vectorstore,\n",
    "    cleanup=\"incremental\",\n",
    "    source_id_key=\"source\"\n",
    ")\n",
    "\n",
    "print(\"Index 1: \", index_1)"
   ]
  },
  {
   "cell_type": "code",
   "execution_count": 37,
   "id": "adff4742",
   "metadata": {},
   "outputs": [
    {
     "name": "stdout",
     "output_type": "stream",
     "text": [
      "Index 2:  {'num_added': 0, 'num_updated': 0, 'num_skipped': 2, 'num_deleted': 0}\n"
     ]
    }
   ],
   "source": [
    "index_2 = index(\n",
    "    docs,\n",
    "    record_manager,\n",
    "    vectorstore,\n",
    "    cleanup=\"incremental\",\n",
    "    source_id_key=\"source\"\n",
    ")\n",
    "\n",
    "print(\"Index 2: \", index_2)"
   ]
  },
  {
   "cell_type": "code",
   "execution_count": 38,
   "id": "9970ab38",
   "metadata": {},
   "outputs": [
    {
     "name": "stdout",
     "output_type": "stream",
     "text": [
      "Index 3:  {'num_added': 1, 'num_updated': 0, 'num_skipped': 1, 'num_deleted': 1}\n"
     ]
    }
   ],
   "source": [
    "## Change document\n",
    "docs[0].page_content = \"Modifications\"\n",
    "\n",
    "index_3 = index(\n",
    "    docs,\n",
    "    record_manager,\n",
    "    vectorstore,\n",
    "    cleanup=\"incremental\",\n",
    "    source_id_key=\"source\"\n",
    ")\n",
    "\n",
    "print(\"Index 3: \", index_3)"
   ]
  },
  {
   "cell_type": "markdown",
   "id": "88da07ef",
   "metadata": {},
   "source": [
    ">  First, you create a record manager, which keeps track of which documents have been indexed before. Then you use the index function to synchronize your vector store with the new list of documents. In this example, we’re using the incremental mode, so any documents that have the same ID as previous ones will be replaced with the new version."
   ]
  }
 ],
 "metadata": {
  "kernelspec": {
   "display_name": "venv",
   "language": "python",
   "name": "python3"
  },
  "language_info": {
   "codemirror_mode": {
    "name": "ipython",
    "version": 3
   },
   "file_extension": ".py",
   "mimetype": "text/x-python",
   "name": "python",
   "nbconvert_exporter": "python",
   "pygments_lexer": "ipython3",
   "version": "3.10.0"
  }
 },
 "nbformat": 4,
 "nbformat_minor": 5
}
