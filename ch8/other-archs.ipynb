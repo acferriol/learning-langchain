{
 "cells": [
  {
   "cell_type": "markdown",
   "id": "640f7fd5",
   "metadata": {},
   "source": [
    "# Architecture considerations\n",
    "\n",
    "- Trade-Off Agency-Reliabilty\n",
    "- Latency\n",
    "- Autonomy\n",
    "- Variance"
   ]
  },
  {
   "cell_type": "markdown",
   "id": "51588539",
   "metadata": {},
   "source": [
    "# Architecture Techniques\n",
    "\n",
    "- Streaming/ Intermediate Outputs\n",
    "- Structured Outputs\n",
    "- Human in the Loop\n",
    "- Double texting modes"
   ]
  },
  {
   "cell_type": "markdown",
   "id": "755d7e00",
   "metadata": {},
   "source": [
    "### Structured output\n",
    "\n",
    "- Prompting\n",
    "- Tool calling\n",
    "- JSON Mode"
   ]
  },
  {
   "cell_type": "code",
   "execution_count": 19,
   "id": "f7eb2fcb",
   "metadata": {},
   "outputs": [],
   "source": [
    "from pydantic import BaseModel, Field\n",
    "\n",
    "class Joke(BaseModel):\n",
    "    setup: str = Field(description=\"Setup of the joke\")\n",
    "    punchline: str = Field(description=\"Punchline to the joke\")"
   ]
  },
  {
   "cell_type": "code",
   "execution_count": 20,
   "id": "e8ce7981",
   "metadata": {},
   "outputs": [
    {
     "data": {
      "text/plain": [
       "Joke(setup='cat', punchline='Why did the cat join a band?')"
      ]
     },
     "execution_count": 20,
     "metadata": {},
     "output_type": "execute_result"
    }
   ],
   "source": [
    "from langchain_ollama import ChatOllama\n",
    "\n",
    "model = ChatOllama(model=\"llama3.2:1b\")\n",
    "model = model.with_structured_output(Joke)\n",
    "\n",
    "model.invoke(\"Tell me a joke about cats\")"
   ]
  },
  {
   "cell_type": "markdown",
   "id": "928659a5",
   "metadata": {},
   "source": [
    "- Low temperatures\n",
    "- Validation errors"
   ]
  },
  {
   "cell_type": "markdown",
   "id": "369f51d6",
   "metadata": {},
   "source": [
    "### Intermediate output"
   ]
  },
  {
   "cell_type": "markdown",
   "id": "c7c499a1",
   "metadata": {},
   "source": [
    "#### Re-Act agent"
   ]
  },
  {
   "cell_type": "code",
   "execution_count": 21,
   "id": "0ce60470",
   "metadata": {},
   "outputs": [],
   "source": [
    "import ast\n",
    "from typing import Annotated, TypedDict\n",
    "\n",
    "#from langchain_community.tools import DuckDuckGoSearchResults\n",
    "from langchain_core.tools import tool\n",
    "from langchain_ollama import ChatOllama, OllamaLLM\n",
    "\n",
    "from langgraph.graph import START, StateGraph\n",
    "from langgraph.graph.message import add_messages\n",
    "from langgraph.prebuilt import ToolNode, tools_condition"
   ]
  },
  {
   "cell_type": "code",
   "execution_count": 22,
   "id": "37866135",
   "metadata": {},
   "outputs": [],
   "source": [
    "@tool\n",
    "def suma(query: str) -> str:\n",
    "    \"\"\"A simple calculator tool. Input should be a sum expression.\"\"\"\n",
    "    print(query)\n",
    "    return eval(query)\n",
    "\n",
    "@tool\n",
    "def resta(query: str) -> str:\n",
    "    \"\"\"A simple calculator tool. Input should be a substract expression.\"\"\"\n",
    "    print(query)\n",
    "    return eval(query)\n",
    "\n",
    "@tool\n",
    "def multiply(query: str) -> str:\n",
    "    \"\"\"A simple calculator tool. Input should be a multiply expression.\"\"\"\n",
    "    print(query)\n",
    "    return eval(query)\n",
    "\n",
    "@tool\n",
    "def division(query: str) -> str:\n",
    "    \"\"\"A simple calculator tool. Input should be a division expression.\"\"\"\n",
    "    print(query)\n",
    "    return eval(query)\n",
    "\n",
    "#search = DuckDuckGoSearchResults()\n",
    "tools = [suma, resta, multiply,division]\n",
    "\n",
    "############### TEST ONLINE MODEL ##################\n",
    "#import dotenv\n",
    "#import os\n",
    "#from langchain_openai.chat_models import ChatOpenAI\n",
    "#\n",
    "#dotenv.load_dotenv()\n",
    "#apikey = os.getenv(\"AI-API-KEY\")\n",
    "#model_sel = os.getenv(\"MODEL\")\n",
    "#url = os.getenv(\"BASE-URL\")\n",
    "\n",
    "#model = ChatOpenAI(\n",
    "#    base_url=url,\n",
    "#    api_key=apikey,\n",
    "#    model=model_sel\n",
    "#).bind_tools(tools)\n",
    "\n",
    "####################################################\n",
    "model = ChatOllama(model=\"llama3.2:1b\", temperature=0).bind_tools(tools)\n",
    "\n",
    "class State(TypedDict):\n",
    "    messages: Annotated[list, add_messages]\n",
    "\n",
    "def model_node(state: State) -> State:\n",
    "    res = model.invoke(state[\"messages\"])\n",
    "    return {\"messages\": res}"
   ]
  },
  {
   "cell_type": "code",
   "execution_count": 23,
   "id": "ae7b8afc",
   "metadata": {},
   "outputs": [],
   "source": [
    "builder = StateGraph(State)\n",
    "builder.add_node(\"model\", model_node)\n",
    "builder.add_node(\"tools\", ToolNode(tools))\n",
    "builder.add_edge(START, \"model\")\n",
    "builder.add_conditional_edges(\"model\", tools_condition)\n",
    "builder.add_edge(\"tools\", \"model\")\n",
    "\n",
    "graph = builder.compile()"
   ]
  },
  {
   "cell_type": "code",
   "execution_count": 24,
   "id": "ff15b9ed",
   "metadata": {},
   "outputs": [
    {
     "name": "stdout",
     "output_type": "stream",
     "text": [
      "{'model': {'messages': AIMessage(content='', additional_kwargs={}, response_metadata={'model': 'llama3.2:1b', 'created_at': '2025-08-23T13:01:01.8918304Z', 'done': True, 'done_reason': 'stop', 'total_duration': 7238069500, 'load_duration': 26877300, 'prompt_eval_count': 314, 'prompt_eval_duration': 4857409200, 'eval_count': 29, 'eval_duration': 2353041500, 'model_name': 'llama3.2:1b'}, id='run--7bcae866-cd57-4146-84df-90caf27d8d05-0', tool_calls=[{'name': 'suma', 'args': {'query': '(123+5) - (2*3)'}, 'id': 'b77879e1-913b-4024-a07f-96fa766fdf3e', 'type': 'tool_call'}], usage_metadata={'input_tokens': 314, 'output_tokens': 29, 'total_tokens': 343})}}\n",
      "(123+5) - (2*3)\n",
      "{'tools': {'messages': [ToolMessage(content='122', name='suma', id='f7642880-e864-4f48-a585-06cae9e58e03', tool_call_id='b77879e1-913b-4024-a07f-96fa766fdf3e')]}}\n",
      "{'model': {'messages': AIMessage(content='The calculation result is 122.', additional_kwargs={}, response_metadata={'model': 'llama3.2:1b', 'created_at': '2025-08-23T13:01:04.0539618Z', 'done': True, 'done_reason': 'stop', 'total_duration': 2153698200, 'load_duration': 40814600, 'prompt_eval_count': 105, 'prompt_eval_duration': 1363101300, 'eval_count': 8, 'eval_duration': 746135700, 'model_name': 'llama3.2:1b'}, id='run--166222d5-273e-4be5-9701-c99ac7ed7d6a-0', usage_metadata={'input_tokens': 105, 'output_tokens': 8, 'total_tokens': 113})}}\n"
     ]
    }
   ],
   "source": [
    "from langchain_core.messages import HumanMessage\n",
    "input = {\n",
    "    \"messages\": [\n",
    "        HumanMessage(\"\"\"Calculate (123+5) - (2*3)\"\"\")\n",
    "    ]\n",
    "}\n",
    "for c in graph.stream(input):\n",
    "    print(c)"
   ]
  },
  {
   "cell_type": "code",
   "execution_count": 25,
   "id": "93081fb0",
   "metadata": {},
   "outputs": [
    {
     "name": "stdout",
     "output_type": "stream",
     "text": [
      "{'model': {'messages': AIMessage(content='', additional_kwargs={}, response_metadata={'model': 'llama3.2:1b', 'created_at': '2025-08-23T13:01:12.736005Z', 'done': True, 'done_reason': 'stop', 'total_duration': 8653884300, 'load_duration': 70837200, 'prompt_eval_count': 314, 'prompt_eval_duration': 6394846800, 'eval_count': 29, 'eval_duration': 2184776700, 'model_name': 'llama3.2:1b'}, id='run--9853fc04-9e5f-4a35-a3d7-2a85ed1b7c90-0', tool_calls=[{'name': 'suma', 'args': {'query': '(123+5) - (2*3)'}, 'id': '837b1d8a-78cd-4ac5-882e-c0934f45ed65', 'type': 'tool_call'}], usage_metadata={'input_tokens': 314, 'output_tokens': 29, 'total_tokens': 343})}}\n",
      "(123+5) - (2*3)\n",
      "{'tools': {'messages': [ToolMessage(content='122', name='suma', id='c39852fc-bc1d-43bb-840d-69dc63d0b479', tool_call_id='837b1d8a-78cd-4ac5-882e-c0934f45ed65')]}}\n",
      "{'model': {'messages': AIMessage(content='The calculation result is 122.', additional_kwargs={}, response_metadata={'model': 'llama3.2:1b', 'created_at': '2025-08-23T13:01:14.479975Z', 'done': True, 'done_reason': 'stop', 'total_duration': 1742736500, 'load_duration': 40901200, 'prompt_eval_count': 105, 'prompt_eval_duration': 1201625600, 'eval_count': 8, 'eval_duration': 497774800, 'model_name': 'llama3.2:1b'}, id='run--b74549b3-1eef-41c9-9d48-bacc9983da17-0', usage_metadata={'input_tokens': 105, 'output_tokens': 8, 'total_tokens': 113})}}\n"
     ]
    }
   ],
   "source": [
    "for c in graph.stream(input, stream_mode='updates'): #updates, values, debug, combining\n",
    "    print(c)"
   ]
  },
  {
   "cell_type": "markdown",
   "id": "37a034ae",
   "metadata": {},
   "source": [
    "### Stream token by token"
   ]
  },
  {
   "cell_type": "code",
   "execution_count": 26,
   "id": "4b6ee5f2",
   "metadata": {},
   "outputs": [],
   "source": [
    "output = graph.astream_events(input, version='v2')"
   ]
  },
  {
   "cell_type": "code",
   "execution_count": 27,
   "id": "c9034675",
   "metadata": {},
   "outputs": [
    {
     "name": "stdout",
     "output_type": "stream",
     "text": [
      "{'event': 'on_chain_start', 'data': {'input': {'messages': [HumanMessage(content='Calculate (123+5) - (2*3)', additional_kwargs={}, response_metadata={}, id='aa039626-644f-4ca2-a2b5-30c154b429cf')]}}, 'name': 'LangGraph', 'tags': [], 'run_id': '1d6db3f5-ba84-4a10-823a-d38c4ac0fde0', 'metadata': {}, 'parent_ids': []}\n",
      "{'event': 'on_chain_start', 'data': {'input': {'messages': [HumanMessage(content='Calculate (123+5) - (2*3)', additional_kwargs={}, response_metadata={}, id='aa039626-644f-4ca2-a2b5-30c154b429cf')]}}, 'name': 'model', 'tags': ['graph:step:1'], 'run_id': '31236848-c8ee-484d-8086-1a8e4dab5692', 'metadata': {'langgraph_step': 1, 'langgraph_node': 'model', 'langgraph_triggers': ('branch:to:model',), 'langgraph_path': ('__pregel_pull', 'model'), 'langgraph_checkpoint_ns': 'model:2e4d72bd-f108-e75a-3302-71667315aa7d'}, 'parent_ids': ['1d6db3f5-ba84-4a10-823a-d38c4ac0fde0']}\n",
      "{'event': 'on_chain_start', 'data': {'input': {'messages': [HumanMessage(content='Calculate (123+5) - (2*3)', additional_kwargs={}, response_metadata={}, id='aa039626-644f-4ca2-a2b5-30c154b429cf'), AIMessage(content='', additional_kwargs={}, response_metadata={'model': 'llama3.2:1b', 'created_at': '2025-08-23T13:01:22.7387682Z', 'done': True, 'done_reason': 'stop', 'total_duration': 8204904600, 'load_duration': 42618900, 'prompt_eval_count': 314, 'prompt_eval_duration': 6042522700, 'eval_count': 29, 'eval_duration': 2119183200, 'model_name': 'llama3.2:1b'}, id='run--0d68637a-2779-4794-b534-87b00b7da2e4-0', tool_calls=[{'name': 'suma', 'args': {'query': '(123+5) - (2*3)'}, 'id': '3e30a91d-863d-4a9f-8036-70341714fe29', 'type': 'tool_call'}], usage_metadata={'input_tokens': 314, 'output_tokens': 29, 'total_tokens': 343})]}}, 'name': 'tools_condition', 'tags': ['seq:step:3'], 'run_id': '2a348cc8-4be1-4061-b834-eade0a71d0c3', 'metadata': {'langgraph_step': 1, 'langgraph_node': 'model', 'langgraph_triggers': ('branch:to:model',), 'langgraph_path': ('__pregel_pull', 'model'), 'langgraph_checkpoint_ns': 'model:2e4d72bd-f108-e75a-3302-71667315aa7d'}, 'parent_ids': ['1d6db3f5-ba84-4a10-823a-d38c4ac0fde0', '31236848-c8ee-484d-8086-1a8e4dab5692']}\n",
      "{'event': 'on_chain_end', 'data': {'output': 'tools', 'input': {'messages': [HumanMessage(content='Calculate (123+5) - (2*3)', additional_kwargs={}, response_metadata={}, id='aa039626-644f-4ca2-a2b5-30c154b429cf'), AIMessage(content='', additional_kwargs={}, response_metadata={'model': 'llama3.2:1b', 'created_at': '2025-08-23T13:01:22.7387682Z', 'done': True, 'done_reason': 'stop', 'total_duration': 8204904600, 'load_duration': 42618900, 'prompt_eval_count': 314, 'prompt_eval_duration': 6042522700, 'eval_count': 29, 'eval_duration': 2119183200, 'model_name': 'llama3.2:1b'}, id='run--0d68637a-2779-4794-b534-87b00b7da2e4-0', tool_calls=[{'name': 'suma', 'args': {'query': '(123+5) - (2*3)'}, 'id': '3e30a91d-863d-4a9f-8036-70341714fe29', 'type': 'tool_call'}], usage_metadata={'input_tokens': 314, 'output_tokens': 29, 'total_tokens': 343})]}}, 'run_id': '2a348cc8-4be1-4061-b834-eade0a71d0c3', 'name': 'tools_condition', 'tags': ['seq:step:3'], 'metadata': {'langgraph_step': 1, 'langgraph_node': 'model', 'langgraph_triggers': ('branch:to:model',), 'langgraph_path': ('__pregel_pull', 'model'), 'langgraph_checkpoint_ns': 'model:2e4d72bd-f108-e75a-3302-71667315aa7d'}, 'parent_ids': ['1d6db3f5-ba84-4a10-823a-d38c4ac0fde0', '31236848-c8ee-484d-8086-1a8e4dab5692']}\n",
      "{'event': 'on_chain_stream', 'run_id': '31236848-c8ee-484d-8086-1a8e4dab5692', 'name': 'model', 'tags': ['graph:step:1'], 'metadata': {'langgraph_step': 1, 'langgraph_node': 'model', 'langgraph_triggers': ('branch:to:model',), 'langgraph_path': ('__pregel_pull', 'model'), 'langgraph_checkpoint_ns': 'model:2e4d72bd-f108-e75a-3302-71667315aa7d'}, 'data': {'chunk': {'messages': AIMessage(content='', additional_kwargs={}, response_metadata={'model': 'llama3.2:1b', 'created_at': '2025-08-23T13:01:22.7387682Z', 'done': True, 'done_reason': 'stop', 'total_duration': 8204904600, 'load_duration': 42618900, 'prompt_eval_count': 314, 'prompt_eval_duration': 6042522700, 'eval_count': 29, 'eval_duration': 2119183200, 'model_name': 'llama3.2:1b'}, id='run--0d68637a-2779-4794-b534-87b00b7da2e4-0', tool_calls=[{'name': 'suma', 'args': {'query': '(123+5) - (2*3)'}, 'id': '3e30a91d-863d-4a9f-8036-70341714fe29', 'type': 'tool_call'}], usage_metadata={'input_tokens': 314, 'output_tokens': 29, 'total_tokens': 343})}}, 'parent_ids': ['1d6db3f5-ba84-4a10-823a-d38c4ac0fde0']}\n",
      "{'event': 'on_chain_end', 'data': {'output': {'messages': AIMessage(content='', additional_kwargs={}, response_metadata={'model': 'llama3.2:1b', 'created_at': '2025-08-23T13:01:22.7387682Z', 'done': True, 'done_reason': 'stop', 'total_duration': 8204904600, 'load_duration': 42618900, 'prompt_eval_count': 314, 'prompt_eval_duration': 6042522700, 'eval_count': 29, 'eval_duration': 2119183200, 'model_name': 'llama3.2:1b'}, id='run--0d68637a-2779-4794-b534-87b00b7da2e4-0', tool_calls=[{'name': 'suma', 'args': {'query': '(123+5) - (2*3)'}, 'id': '3e30a91d-863d-4a9f-8036-70341714fe29', 'type': 'tool_call'}], usage_metadata={'input_tokens': 314, 'output_tokens': 29, 'total_tokens': 343})}, 'input': {'messages': [HumanMessage(content='Calculate (123+5) - (2*3)', additional_kwargs={}, response_metadata={}, id='aa039626-644f-4ca2-a2b5-30c154b429cf')]}}, 'run_id': '31236848-c8ee-484d-8086-1a8e4dab5692', 'name': 'model', 'tags': ['graph:step:1'], 'metadata': {'langgraph_step': 1, 'langgraph_node': 'model', 'langgraph_triggers': ('branch:to:model',), 'langgraph_path': ('__pregel_pull', 'model'), 'langgraph_checkpoint_ns': 'model:2e4d72bd-f108-e75a-3302-71667315aa7d'}, 'parent_ids': ['1d6db3f5-ba84-4a10-823a-d38c4ac0fde0']}\n",
      "{'event': 'on_chain_stream', 'run_id': '1d6db3f5-ba84-4a10-823a-d38c4ac0fde0', 'name': 'LangGraph', 'tags': [], 'metadata': {}, 'data': {'chunk': {'model': {'messages': AIMessage(content='', additional_kwargs={}, response_metadata={'model': 'llama3.2:1b', 'created_at': '2025-08-23T13:01:22.7387682Z', 'done': True, 'done_reason': 'stop', 'total_duration': 8204904600, 'load_duration': 42618900, 'prompt_eval_count': 314, 'prompt_eval_duration': 6042522700, 'eval_count': 29, 'eval_duration': 2119183200, 'model_name': 'llama3.2:1b'}, id='run--0d68637a-2779-4794-b534-87b00b7da2e4-0', tool_calls=[{'name': 'suma', 'args': {'query': '(123+5) - (2*3)'}, 'id': '3e30a91d-863d-4a9f-8036-70341714fe29', 'type': 'tool_call'}], usage_metadata={'input_tokens': 314, 'output_tokens': 29, 'total_tokens': 343})}}}, 'parent_ids': []}\n",
      "{'event': 'on_chain_start', 'data': {'input': {'messages': [HumanMessage(content='Calculate (123+5) - (2*3)', additional_kwargs={}, response_metadata={}, id='aa039626-644f-4ca2-a2b5-30c154b429cf'), AIMessage(content='', additional_kwargs={}, response_metadata={'model': 'llama3.2:1b', 'created_at': '2025-08-23T13:01:22.7387682Z', 'done': True, 'done_reason': 'stop', 'total_duration': 8204904600, 'load_duration': 42618900, 'prompt_eval_count': 314, 'prompt_eval_duration': 6042522700, 'eval_count': 29, 'eval_duration': 2119183200, 'model_name': 'llama3.2:1b'}, id='run--0d68637a-2779-4794-b534-87b00b7da2e4-0', tool_calls=[{'name': 'suma', 'args': {'query': '(123+5) - (2*3)'}, 'id': '3e30a91d-863d-4a9f-8036-70341714fe29', 'type': 'tool_call'}], usage_metadata={'input_tokens': 314, 'output_tokens': 29, 'total_tokens': 343})]}}, 'name': 'tools', 'tags': ['graph:step:2'], 'run_id': '728a1b1c-0f7d-4697-aca4-60eab66eede7', 'metadata': {'langgraph_step': 2, 'langgraph_node': 'tools', 'langgraph_triggers': ('branch:to:tools',), 'langgraph_path': ('__pregel_pull', 'tools'), 'langgraph_checkpoint_ns': 'tools:253490da-e657-a673-8a7e-77ee8e468c14'}, 'parent_ids': ['1d6db3f5-ba84-4a10-823a-d38c4ac0fde0']}\n",
      "{'event': 'on_tool_start', 'data': {'input': {'query': '(123+5) - (2*3)'}}, 'name': 'suma', 'tags': ['seq:step:1'], 'run_id': 'ee114755-b949-4a8f-9979-7d92eb6b1135', 'metadata': {'langgraph_step': 2, 'langgraph_node': 'tools', 'langgraph_triggers': ('branch:to:tools',), 'langgraph_path': ('__pregel_pull', 'tools'), 'langgraph_checkpoint_ns': 'tools:253490da-e657-a673-8a7e-77ee8e468c14', 'checkpoint_ns': 'tools:253490da-e657-a673-8a7e-77ee8e468c14'}, 'parent_ids': ['1d6db3f5-ba84-4a10-823a-d38c4ac0fde0', '728a1b1c-0f7d-4697-aca4-60eab66eede7']}\n",
      "(123+5) - (2*3)\n",
      "{'event': 'on_tool_end', 'data': {'output': ToolMessage(content='122', name='suma', tool_call_id='3e30a91d-863d-4a9f-8036-70341714fe29'), 'input': {'query': '(123+5) - (2*3)'}}, 'run_id': 'ee114755-b949-4a8f-9979-7d92eb6b1135', 'name': 'suma', 'tags': ['seq:step:1'], 'metadata': {'langgraph_step': 2, 'langgraph_node': 'tools', 'langgraph_triggers': ('branch:to:tools',), 'langgraph_path': ('__pregel_pull', 'tools'), 'langgraph_checkpoint_ns': 'tools:253490da-e657-a673-8a7e-77ee8e468c14', 'checkpoint_ns': 'tools:253490da-e657-a673-8a7e-77ee8e468c14'}, 'parent_ids': ['1d6db3f5-ba84-4a10-823a-d38c4ac0fde0', '728a1b1c-0f7d-4697-aca4-60eab66eede7']}\n",
      "{'event': 'on_chain_stream', 'run_id': '728a1b1c-0f7d-4697-aca4-60eab66eede7', 'name': 'tools', 'tags': ['graph:step:2'], 'metadata': {'langgraph_step': 2, 'langgraph_node': 'tools', 'langgraph_triggers': ('branch:to:tools',), 'langgraph_path': ('__pregel_pull', 'tools'), 'langgraph_checkpoint_ns': 'tools:253490da-e657-a673-8a7e-77ee8e468c14'}, 'data': {'chunk': {'messages': [ToolMessage(content='122', name='suma', tool_call_id='3e30a91d-863d-4a9f-8036-70341714fe29')]}}, 'parent_ids': ['1d6db3f5-ba84-4a10-823a-d38c4ac0fde0']}\n",
      "{'event': 'on_chain_end', 'data': {'output': {'messages': [ToolMessage(content='122', name='suma', tool_call_id='3e30a91d-863d-4a9f-8036-70341714fe29')]}, 'input': {'messages': [HumanMessage(content='Calculate (123+5) - (2*3)', additional_kwargs={}, response_metadata={}, id='aa039626-644f-4ca2-a2b5-30c154b429cf'), AIMessage(content='', additional_kwargs={}, response_metadata={'model': 'llama3.2:1b', 'created_at': '2025-08-23T13:01:22.7387682Z', 'done': True, 'done_reason': 'stop', 'total_duration': 8204904600, 'load_duration': 42618900, 'prompt_eval_count': 314, 'prompt_eval_duration': 6042522700, 'eval_count': 29, 'eval_duration': 2119183200, 'model_name': 'llama3.2:1b'}, id='run--0d68637a-2779-4794-b534-87b00b7da2e4-0', tool_calls=[{'name': 'suma', 'args': {'query': '(123+5) - (2*3)'}, 'id': '3e30a91d-863d-4a9f-8036-70341714fe29', 'type': 'tool_call'}], usage_metadata={'input_tokens': 314, 'output_tokens': 29, 'total_tokens': 343})]}}, 'run_id': '728a1b1c-0f7d-4697-aca4-60eab66eede7', 'name': 'tools', 'tags': ['graph:step:2'], 'metadata': {'langgraph_step': 2, 'langgraph_node': 'tools', 'langgraph_triggers': ('branch:to:tools',), 'langgraph_path': ('__pregel_pull', 'tools'), 'langgraph_checkpoint_ns': 'tools:253490da-e657-a673-8a7e-77ee8e468c14'}, 'parent_ids': ['1d6db3f5-ba84-4a10-823a-d38c4ac0fde0']}\n",
      "{'event': 'on_chain_stream', 'run_id': '1d6db3f5-ba84-4a10-823a-d38c4ac0fde0', 'name': 'LangGraph', 'tags': [], 'metadata': {}, 'data': {'chunk': {'tools': {'messages': [ToolMessage(content='122', name='suma', id='aff4fa52-5810-4d03-a7f8-06ad65844737', tool_call_id='3e30a91d-863d-4a9f-8036-70341714fe29')]}}}, 'parent_ids': []}\n",
      "{'event': 'on_chain_start', 'data': {'input': {'messages': [HumanMessage(content='Calculate (123+5) - (2*3)', additional_kwargs={}, response_metadata={}, id='aa039626-644f-4ca2-a2b5-30c154b429cf'), AIMessage(content='', additional_kwargs={}, response_metadata={'model': 'llama3.2:1b', 'created_at': '2025-08-23T13:01:22.7387682Z', 'done': True, 'done_reason': 'stop', 'total_duration': 8204904600, 'load_duration': 42618900, 'prompt_eval_count': 314, 'prompt_eval_duration': 6042522700, 'eval_count': 29, 'eval_duration': 2119183200, 'model_name': 'llama3.2:1b'}, id='run--0d68637a-2779-4794-b534-87b00b7da2e4-0', tool_calls=[{'name': 'suma', 'args': {'query': '(123+5) - (2*3)'}, 'id': '3e30a91d-863d-4a9f-8036-70341714fe29', 'type': 'tool_call'}], usage_metadata={'input_tokens': 314, 'output_tokens': 29, 'total_tokens': 343}), ToolMessage(content='122', name='suma', id='aff4fa52-5810-4d03-a7f8-06ad65844737', tool_call_id='3e30a91d-863d-4a9f-8036-70341714fe29')]}}, 'name': 'model', 'tags': ['graph:step:3'], 'run_id': 'f9a29d7c-96d4-4973-80c3-803605da888a', 'metadata': {'langgraph_step': 3, 'langgraph_node': 'model', 'langgraph_triggers': ('branch:to:model',), 'langgraph_path': ('__pregel_pull', 'model'), 'langgraph_checkpoint_ns': 'model:6578f165-6c0b-f962-6669-d972f80e24f5'}, 'parent_ids': ['1d6db3f5-ba84-4a10-823a-d38c4ac0fde0']}\n",
      "{'event': 'on_chain_start', 'data': {'input': {'messages': [HumanMessage(content='Calculate (123+5) - (2*3)', additional_kwargs={}, response_metadata={}, id='aa039626-644f-4ca2-a2b5-30c154b429cf'), AIMessage(content='', additional_kwargs={}, response_metadata={'model': 'llama3.2:1b', 'created_at': '2025-08-23T13:01:22.7387682Z', 'done': True, 'done_reason': 'stop', 'total_duration': 8204904600, 'load_duration': 42618900, 'prompt_eval_count': 314, 'prompt_eval_duration': 6042522700, 'eval_count': 29, 'eval_duration': 2119183200, 'model_name': 'llama3.2:1b'}, id='run--0d68637a-2779-4794-b534-87b00b7da2e4-0', tool_calls=[{'name': 'suma', 'args': {'query': '(123+5) - (2*3)'}, 'id': '3e30a91d-863d-4a9f-8036-70341714fe29', 'type': 'tool_call'}], usage_metadata={'input_tokens': 314, 'output_tokens': 29, 'total_tokens': 343}), ToolMessage(content='122', name='suma', id='aff4fa52-5810-4d03-a7f8-06ad65844737', tool_call_id='3e30a91d-863d-4a9f-8036-70341714fe29'), AIMessage(content='The calculation result is 122.', additional_kwargs={}, response_metadata={'model': 'llama3.2:1b', 'created_at': '2025-08-23T13:01:24.596967Z', 'done': True, 'done_reason': 'stop', 'total_duration': 1843004700, 'load_duration': 34352400, 'prompt_eval_count': 105, 'prompt_eval_duration': 1155703900, 'eval_count': 8, 'eval_duration': 651225700, 'model_name': 'llama3.2:1b'}, id='run--f3f0e1c0-d07a-425a-af0d-65723483de4d-0', usage_metadata={'input_tokens': 105, 'output_tokens': 8, 'total_tokens': 113})]}}, 'name': 'tools_condition', 'tags': ['seq:step:3'], 'run_id': '8ee8983a-41fe-4fac-b5c9-a2954629f17c', 'metadata': {'langgraph_step': 3, 'langgraph_node': 'model', 'langgraph_triggers': ('branch:to:model',), 'langgraph_path': ('__pregel_pull', 'model'), 'langgraph_checkpoint_ns': 'model:6578f165-6c0b-f962-6669-d972f80e24f5'}, 'parent_ids': ['1d6db3f5-ba84-4a10-823a-d38c4ac0fde0', 'f9a29d7c-96d4-4973-80c3-803605da888a']}\n",
      "{'event': 'on_chain_end', 'data': {'output': '__end__', 'input': {'messages': [HumanMessage(content='Calculate (123+5) - (2*3)', additional_kwargs={}, response_metadata={}, id='aa039626-644f-4ca2-a2b5-30c154b429cf'), AIMessage(content='', additional_kwargs={}, response_metadata={'model': 'llama3.2:1b', 'created_at': '2025-08-23T13:01:22.7387682Z', 'done': True, 'done_reason': 'stop', 'total_duration': 8204904600, 'load_duration': 42618900, 'prompt_eval_count': 314, 'prompt_eval_duration': 6042522700, 'eval_count': 29, 'eval_duration': 2119183200, 'model_name': 'llama3.2:1b'}, id='run--0d68637a-2779-4794-b534-87b00b7da2e4-0', tool_calls=[{'name': 'suma', 'args': {'query': '(123+5) - (2*3)'}, 'id': '3e30a91d-863d-4a9f-8036-70341714fe29', 'type': 'tool_call'}], usage_metadata={'input_tokens': 314, 'output_tokens': 29, 'total_tokens': 343}), ToolMessage(content='122', name='suma', id='aff4fa52-5810-4d03-a7f8-06ad65844737', tool_call_id='3e30a91d-863d-4a9f-8036-70341714fe29'), AIMessage(content='The calculation result is 122.', additional_kwargs={}, response_metadata={'model': 'llama3.2:1b', 'created_at': '2025-08-23T13:01:24.596967Z', 'done': True, 'done_reason': 'stop', 'total_duration': 1843004700, 'load_duration': 34352400, 'prompt_eval_count': 105, 'prompt_eval_duration': 1155703900, 'eval_count': 8, 'eval_duration': 651225700, 'model_name': 'llama3.2:1b'}, id='run--f3f0e1c0-d07a-425a-af0d-65723483de4d-0', usage_metadata={'input_tokens': 105, 'output_tokens': 8, 'total_tokens': 113})]}}, 'run_id': '8ee8983a-41fe-4fac-b5c9-a2954629f17c', 'name': 'tools_condition', 'tags': ['seq:step:3'], 'metadata': {'langgraph_step': 3, 'langgraph_node': 'model', 'langgraph_triggers': ('branch:to:model',), 'langgraph_path': ('__pregel_pull', 'model'), 'langgraph_checkpoint_ns': 'model:6578f165-6c0b-f962-6669-d972f80e24f5'}, 'parent_ids': ['1d6db3f5-ba84-4a10-823a-d38c4ac0fde0', 'f9a29d7c-96d4-4973-80c3-803605da888a']}\n",
      "{'event': 'on_chain_stream', 'run_id': 'f9a29d7c-96d4-4973-80c3-803605da888a', 'name': 'model', 'tags': ['graph:step:3'], 'metadata': {'langgraph_step': 3, 'langgraph_node': 'model', 'langgraph_triggers': ('branch:to:model',), 'langgraph_path': ('__pregel_pull', 'model'), 'langgraph_checkpoint_ns': 'model:6578f165-6c0b-f962-6669-d972f80e24f5'}, 'data': {'chunk': {'messages': AIMessage(content='The calculation result is 122.', additional_kwargs={}, response_metadata={'model': 'llama3.2:1b', 'created_at': '2025-08-23T13:01:24.596967Z', 'done': True, 'done_reason': 'stop', 'total_duration': 1843004700, 'load_duration': 34352400, 'prompt_eval_count': 105, 'prompt_eval_duration': 1155703900, 'eval_count': 8, 'eval_duration': 651225700, 'model_name': 'llama3.2:1b'}, id='run--f3f0e1c0-d07a-425a-af0d-65723483de4d-0', usage_metadata={'input_tokens': 105, 'output_tokens': 8, 'total_tokens': 113})}}, 'parent_ids': ['1d6db3f5-ba84-4a10-823a-d38c4ac0fde0']}\n",
      "{'event': 'on_chain_end', 'data': {'output': {'messages': AIMessage(content='The calculation result is 122.', additional_kwargs={}, response_metadata={'model': 'llama3.2:1b', 'created_at': '2025-08-23T13:01:24.596967Z', 'done': True, 'done_reason': 'stop', 'total_duration': 1843004700, 'load_duration': 34352400, 'prompt_eval_count': 105, 'prompt_eval_duration': 1155703900, 'eval_count': 8, 'eval_duration': 651225700, 'model_name': 'llama3.2:1b'}, id='run--f3f0e1c0-d07a-425a-af0d-65723483de4d-0', usage_metadata={'input_tokens': 105, 'output_tokens': 8, 'total_tokens': 113})}, 'input': {'messages': [HumanMessage(content='Calculate (123+5) - (2*3)', additional_kwargs={}, response_metadata={}, id='aa039626-644f-4ca2-a2b5-30c154b429cf'), AIMessage(content='', additional_kwargs={}, response_metadata={'model': 'llama3.2:1b', 'created_at': '2025-08-23T13:01:22.7387682Z', 'done': True, 'done_reason': 'stop', 'total_duration': 8204904600, 'load_duration': 42618900, 'prompt_eval_count': 314, 'prompt_eval_duration': 6042522700, 'eval_count': 29, 'eval_duration': 2119183200, 'model_name': 'llama3.2:1b'}, id='run--0d68637a-2779-4794-b534-87b00b7da2e4-0', tool_calls=[{'name': 'suma', 'args': {'query': '(123+5) - (2*3)'}, 'id': '3e30a91d-863d-4a9f-8036-70341714fe29', 'type': 'tool_call'}], usage_metadata={'input_tokens': 314, 'output_tokens': 29, 'total_tokens': 343}), ToolMessage(content='122', name='suma', id='aff4fa52-5810-4d03-a7f8-06ad65844737', tool_call_id='3e30a91d-863d-4a9f-8036-70341714fe29')]}}, 'run_id': 'f9a29d7c-96d4-4973-80c3-803605da888a', 'name': 'model', 'tags': ['graph:step:3'], 'metadata': {'langgraph_step': 3, 'langgraph_node': 'model', 'langgraph_triggers': ('branch:to:model',), 'langgraph_path': ('__pregel_pull', 'model'), 'langgraph_checkpoint_ns': 'model:6578f165-6c0b-f962-6669-d972f80e24f5'}, 'parent_ids': ['1d6db3f5-ba84-4a10-823a-d38c4ac0fde0']}\n",
      "{'event': 'on_chain_stream', 'run_id': '1d6db3f5-ba84-4a10-823a-d38c4ac0fde0', 'name': 'LangGraph', 'tags': [], 'metadata': {}, 'data': {'chunk': {'model': {'messages': AIMessage(content='The calculation result is 122.', additional_kwargs={}, response_metadata={'model': 'llama3.2:1b', 'created_at': '2025-08-23T13:01:24.596967Z', 'done': True, 'done_reason': 'stop', 'total_duration': 1843004700, 'load_duration': 34352400, 'prompt_eval_count': 105, 'prompt_eval_duration': 1155703900, 'eval_count': 8, 'eval_duration': 651225700, 'model_name': 'llama3.2:1b'}, id='run--f3f0e1c0-d07a-425a-af0d-65723483de4d-0', usage_metadata={'input_tokens': 105, 'output_tokens': 8, 'total_tokens': 113})}}}, 'parent_ids': []}\n",
      "{'event': 'on_chain_end', 'data': {'output': {'messages': [HumanMessage(content='Calculate (123+5) - (2*3)', additional_kwargs={}, response_metadata={}, id='aa039626-644f-4ca2-a2b5-30c154b429cf'), AIMessage(content='', additional_kwargs={}, response_metadata={'model': 'llama3.2:1b', 'created_at': '2025-08-23T13:01:22.7387682Z', 'done': True, 'done_reason': 'stop', 'total_duration': 8204904600, 'load_duration': 42618900, 'prompt_eval_count': 314, 'prompt_eval_duration': 6042522700, 'eval_count': 29, 'eval_duration': 2119183200, 'model_name': 'llama3.2:1b'}, id='run--0d68637a-2779-4794-b534-87b00b7da2e4-0', tool_calls=[{'name': 'suma', 'args': {'query': '(123+5) - (2*3)'}, 'id': '3e30a91d-863d-4a9f-8036-70341714fe29', 'type': 'tool_call'}], usage_metadata={'input_tokens': 314, 'output_tokens': 29, 'total_tokens': 343}), ToolMessage(content='122', name='suma', id='aff4fa52-5810-4d03-a7f8-06ad65844737', tool_call_id='3e30a91d-863d-4a9f-8036-70341714fe29'), AIMessage(content='The calculation result is 122.', additional_kwargs={}, response_metadata={'model': 'llama3.2:1b', 'created_at': '2025-08-23T13:01:24.596967Z', 'done': True, 'done_reason': 'stop', 'total_duration': 1843004700, 'load_duration': 34352400, 'prompt_eval_count': 105, 'prompt_eval_duration': 1155703900, 'eval_count': 8, 'eval_duration': 651225700, 'model_name': 'llama3.2:1b'}, id='run--f3f0e1c0-d07a-425a-af0d-65723483de4d-0', usage_metadata={'input_tokens': 105, 'output_tokens': 8, 'total_tokens': 113})]}}, 'run_id': '1d6db3f5-ba84-4a10-823a-d38c4ac0fde0', 'name': 'LangGraph', 'tags': [], 'metadata': {}, 'parent_ids': []}\n"
     ]
    }
   ],
   "source": [
    "async for event in output:\n",
    "    print(event)\n",
    "    if event[\"event\"] == \"on_chat_model_stream\":\n",
    "        content = event[\"data\"][\"chunk\"].content\n",
    "        if content:\n",
    "            print(content)"
   ]
  },
  {
   "cell_type": "markdown",
   "id": "450b1f82",
   "metadata": {},
   "source": [
    "### Human in the loop"
   ]
  },
  {
   "cell_type": "code",
   "execution_count": 45,
   "id": "154b9b8a",
   "metadata": {},
   "outputs": [],
   "source": [
    "from langgraph.checkpoint.memory import MemorySaver\n",
    "graph = builder.compile(checkpointer=MemorySaver())"
   ]
  },
  {
   "cell_type": "markdown",
   "id": "5aefd2bf",
   "metadata": {},
   "source": [
    "#### Interrupt pattern"
   ]
  },
  {
   "cell_type": "code",
   "execution_count": 46,
   "id": "94b1acf2",
   "metadata": {},
   "outputs": [],
   "source": [
    "import asyncio\n",
    "from contextlib import aclosing\n",
    "event = asyncio.Event()"
   ]
  },
  {
   "cell_type": "code",
   "execution_count": 47,
   "id": "9c942625",
   "metadata": {},
   "outputs": [],
   "source": [
    "config = {\"configurable\":{\"thread_id\":\"1\"}}"
   ]
  },
  {
   "cell_type": "code",
   "execution_count": 48,
   "id": "69978962",
   "metadata": {},
   "outputs": [
    {
     "name": "stdout",
     "output_type": "stream",
     "text": [
      "{'model': {'messages': AIMessage(content='', additional_kwargs={}, response_metadata={'model': 'llama3.2:1b', 'created_at': '2025-08-23T13:25:34.5928106Z', 'done': True, 'done_reason': 'stop', 'total_duration': 7709399800, 'load_duration': 28057300, 'prompt_eval_count': 314, 'prompt_eval_duration': 5673627600, 'eval_count': 29, 'eval_duration': 2004545000, 'model_name': 'llama3.2:1b'}, id='run--311a740b-d4c1-4b18-8a1b-9cbbb2dedaeb-0', tool_calls=[{'name': 'suma', 'args': {'query': '(123+5) - (2*3)'}, 'id': '922dcc76-0884-4405-88a4-7878e345714f', 'type': 'tool_call'}], usage_metadata={'input_tokens': 314, 'output_tokens': 29, 'total_tokens': 343})}}\n",
      "(123+5) - (2*3)\n",
      "{'tools': {'messages': [ToolMessage(content='122', name='suma', id='53f6d8b5-6807-4c43-aa89-52d4cd534287', tool_call_id='922dcc76-0884-4405-88a4-7878e345714f')]}}\n",
      "{'model': {'messages': AIMessage(content='The calculation result is 122.', additional_kwargs={}, response_metadata={'model': 'llama3.2:1b', 'created_at': '2025-08-23T13:25:36.2607884Z', 'done': True, 'done_reason': 'stop', 'total_duration': 1659795700, 'load_duration': 32538600, 'prompt_eval_count': 105, 'prompt_eval_duration': 1113293400, 'eval_count': 8, 'eval_duration': 511416300, 'model_name': 'llama3.2:1b'}, id='run--7324da5c-d5c7-471b-921a-06f0fccd210f-0', usage_metadata={'input_tokens': 105, 'output_tokens': 8, 'total_tokens': 113})}}\n"
     ]
    }
   ],
   "source": [
    "async with aclosing(graph.astream(input, config)) as stream:\n",
    "    async for chunk in stream:\n",
    "        if event.is_set():\n",
    "            break\n",
    "        else:\n",
    "            print(chunk)\n",
    "event.set()"
   ]
  },
  {
   "cell_type": "markdown",
   "id": "cc0e3ed2",
   "metadata": {},
   "source": [
    "#### Authorize pattern"
   ]
  },
  {
   "cell_type": "markdown",
   "id": "0c6c6a5b",
   "metadata": {},
   "source": [
    "> Stop before tools"
   ]
  },
  {
   "cell_type": "code",
   "execution_count": 54,
   "id": "49a78a80",
   "metadata": {},
   "outputs": [
    {
     "name": "stdout",
     "output_type": "stream",
     "text": [
      "{'model': {'messages': AIMessage(content='', additional_kwargs={}, response_metadata={'model': 'llama3.2:1b', 'created_at': '2025-08-23T13:28:47.6694365Z', 'done': True, 'done_reason': 'stop', 'total_duration': 2080032600, 'load_duration': 27871400, 'prompt_eval_count': 314, 'prompt_eval_duration': 64784600, 'eval_count': 29, 'eval_duration': 1985814500, 'model_name': 'llama3.2:1b'}, id='run--13146437-6b7f-4c86-9019-025dfcd2726d-0', tool_calls=[{'name': 'suma', 'args': {'query': '(123+5) - (2*3)'}, 'id': '6529ceff-1eba-4eb9-8ed2-561a68ba1792', 'type': 'tool_call'}], usage_metadata={'input_tokens': 314, 'output_tokens': 29, 'total_tokens': 343})}}\n",
      "{'__interrupt__': ()}\n"
     ]
    }
   ],
   "source": [
    "config = {\"configurable\": {\"thread_id\": \"1\"}}\n",
    "graph = builder.compile(checkpointer=MemorySaver())\n",
    "output = graph.astream(input, config, interrupt_before=['tools'])\n",
    "\n",
    "async for c in output:\n",
    "    print(c)"
   ]
  },
  {
   "cell_type": "markdown",
   "id": "2bffedb8",
   "metadata": {},
   "source": [
    "> Continue (Resume case)\n",
    "> Restart option"
   ]
  },
  {
   "cell_type": "code",
   "execution_count": 55,
   "id": "31b82695",
   "metadata": {},
   "outputs": [
    {
     "name": "stdout",
     "output_type": "stream",
     "text": [
      "(123+5) - (2*3)\n",
      "{'tools': {'messages': [ToolMessage(content='122', name='suma', id='7a72d11c-8273-4853-b3fe-a9f4c9ee63e3', tool_call_id='6529ceff-1eba-4eb9-8ed2-561a68ba1792')]}}\n",
      "{'model': {'messages': AIMessage(content='The calculation result is 122.', additional_kwargs={}, response_metadata={'model': 'llama3.2:1b', 'created_at': '2025-08-23T13:29:53.6063291Z', 'done': True, 'done_reason': 'stop', 'total_duration': 1675564300, 'load_duration': 43434100, 'prompt_eval_count': 105, 'prompt_eval_duration': 1155776200, 'eval_count': 8, 'eval_duration': 474161700, 'model_name': 'llama3.2:1b'}, id='run--bf3c783e-3a8f-4f84-b848-2b18a444246e-0', usage_metadata={'input_tokens': 105, 'output_tokens': 8, 'total_tokens': 113})}}\n"
     ]
    }
   ],
   "source": [
    "config = {\"configurable\": {\"thread_id\": \"1\"}}\n",
    "\n",
    "output = graph.astream(None, config, interrupt_before=['tools'])\n",
    "\n",
    "async for c in output:\n",
    "    print(c)"
   ]
  },
  {
   "cell_type": "markdown",
   "id": "25c6fabc",
   "metadata": {},
   "source": [
    "> Edit state"
   ]
  },
  {
   "cell_type": "code",
   "execution_count": 108,
   "id": "0a29d8f2",
   "metadata": {},
   "outputs": [
    {
     "name": "stdout",
     "output_type": "stream",
     "text": [
      "{'model': {'messages': AIMessage(content='', additional_kwargs={}, response_metadata={'model': 'llama3.2:1b', 'created_at': '2025-08-23T13:59:22.4918075Z', 'done': True, 'done_reason': 'stop', 'total_duration': 10025798600, 'load_duration': 1787152400, 'prompt_eval_count': 314, 'prompt_eval_duration': 6048696200, 'eval_count': 29, 'eval_duration': 2188800600, 'model_name': 'llama3.2:1b'}, id='run--9e7a4ec3-0d63-457e-a991-190262b3e98a-0', tool_calls=[{'name': 'suma', 'args': {'query': '(123+5) - (2*3)'}, 'id': 'eab580ec-5e19-4335-b39a-b2bfc2d33593', 'type': 'tool_call'}], usage_metadata={'input_tokens': 314, 'output_tokens': 29, 'total_tokens': 343})}}\n",
      "{'__interrupt__': ()}\n"
     ]
    }
   ],
   "source": [
    "config = {\"configurable\": {\"thread_id\": \"1\"}}\n",
    "graph = builder.compile(checkpointer=MemorySaver())\n",
    "output = graph.astream(input, config, interrupt_before=['tools'])\n",
    "\n",
    "async for c in output:\n",
    "    print(c)"
   ]
  },
  {
   "cell_type": "code",
   "execution_count": null,
   "id": "4d439d59",
   "metadata": {},
   "outputs": [],
   "source": [
    "state = graph.get_state(config)\n",
    "last_message = state.values['messages'][-1]\n",
    "last_message.tool_calls[0]['name'] = \"resta\" #Fix selected tool"
   ]
  },
  {
   "cell_type": "code",
   "execution_count": 110,
   "id": "f9b50d50",
   "metadata": {},
   "outputs": [
    {
     "data": {
      "text/plain": [
       "{'configurable': {'thread_id': '1',\n",
       "  'checkpoint_ns': '',\n",
       "  'checkpoint_id': '1f080297-1e43-616c-8002-6031e13cefea'}}"
      ]
     },
     "execution_count": 110,
     "metadata": {},
     "output_type": "execute_result"
    }
   ],
   "source": [
    "update = {\"messages\":last_message}\n",
    "graph.update_state(config, update)"
   ]
  },
  {
   "cell_type": "code",
   "execution_count": 113,
   "id": "9e380c28",
   "metadata": {},
   "outputs": [
    {
     "name": "stdout",
     "output_type": "stream",
     "text": [
      "(123+5) - (2*3)\n",
      "{'tools': {'messages': [ToolMessage(content='122', name='resta', id='2990b6cc-d51d-4c3f-87dd-c5ccbaf69643', tool_call_id='eab580ec-5e19-4335-b39a-b2bfc2d33593')]}}\n",
      "{'model': {'messages': AIMessage(content='The calculation results in 122.', additional_kwargs={}, response_metadata={'model': 'llama3.2:1b', 'created_at': '2025-08-23T14:00:38.6361074Z', 'done': True, 'done_reason': 'stop', 'total_duration': 1271923600, 'load_duration': 28464500, 'prompt_eval_count': 106, 'prompt_eval_duration': 801029300, 'eval_count': 8, 'eval_duration': 441120300, 'model_name': 'llama3.2:1b'}, id='run--ea5f7a07-174d-4ae9-a545-ee52d35d4228-0', usage_metadata={'input_tokens': 106, 'output_tokens': 8, 'total_tokens': 114})}}\n"
     ]
    }
   ],
   "source": [
    "output = graph.astream(None, config, interrupt_before=['tools'])\n",
    "\n",
    "async for c in output:\n",
    "    print(c)"
   ]
  },
  {
   "cell_type": "markdown",
   "id": "43243111",
   "metadata": {},
   "source": [
    "> Fork (Return to a past state)"
   ]
  },
  {
   "cell_type": "code",
   "execution_count": 115,
   "id": "982dd1a2",
   "metadata": {},
   "outputs": [
    {
     "data": {
      "text/plain": [
       "{'messages': [HumanMessage(content='Calculate (123+5) - (2*3)', additional_kwargs={}, response_metadata={}, id='aa039626-644f-4ca2-a2b5-30c154b429cf'),\n",
       "  AIMessage(content='', additional_kwargs={}, response_metadata={'model': 'llama3.2:1b', 'created_at': '2025-08-23T13:59:22.4918075Z', 'done': True, 'done_reason': 'stop', 'total_duration': 10025798600, 'load_duration': 1787152400, 'prompt_eval_count': 314, 'prompt_eval_duration': 6048696200, 'eval_count': 29, 'eval_duration': 2188800600, 'model_name': 'llama3.2:1b'}, id='run--9e7a4ec3-0d63-457e-a991-190262b3e98a-0', tool_calls=[{'name': 'resta', 'args': {'query': '(123+5) - (2*3)'}, 'id': 'eab580ec-5e19-4335-b39a-b2bfc2d33593', 'type': 'tool_call'}], usage_metadata={'input_tokens': 314, 'output_tokens': 29, 'total_tokens': 343}),\n",
       "  ToolMessage(content='122', name='resta', id='2990b6cc-d51d-4c3f-87dd-c5ccbaf69643', tool_call_id='eab580ec-5e19-4335-b39a-b2bfc2d33593'),\n",
       "  AIMessage(content='The calculation results in 122.', additional_kwargs={}, response_metadata={'model': 'llama3.2:1b', 'created_at': '2025-08-23T14:02:13.5764985Z', 'done': True, 'done_reason': 'stop', 'total_duration': 1127391500, 'load_duration': 26090600, 'prompt_eval_count': 106, 'prompt_eval_duration': 566728700, 'eval_count': 8, 'eval_duration': 531554500, 'model_name': 'llama3.2:1b'}, id='run--66d13b47-4455-4bff-b902-9c6aa8562ae8-0', usage_metadata={'input_tokens': 106, 'output_tokens': 8, 'total_tokens': 114})]}"
      ]
     },
     "execution_count": 115,
     "metadata": {},
     "output_type": "execute_result"
    }
   ],
   "source": [
    "history = [\n",
    "    state for state in\n",
    "    graph.get_state_history(config)\n",
    "]\n",
    "\n",
    "# replay a past state\n",
    "graph.invoke(None, history[3].config)"
   ]
  },
  {
   "cell_type": "code",
   "execution_count": 116,
   "id": "7d4f308a",
   "metadata": {},
   "outputs": [
    {
     "data": {
      "text/plain": [
       "[StateSnapshot(values={'messages': [HumanMessage(content='Calculate (123+5) - (2*3)', additional_kwargs={}, response_metadata={}, id='aa039626-644f-4ca2-a2b5-30c154b429cf'), AIMessage(content='', additional_kwargs={}, response_metadata={'model': 'llama3.2:1b', 'created_at': '2025-08-23T13:59:22.4918075Z', 'done': True, 'done_reason': 'stop', 'total_duration': 10025798600, 'load_duration': 1787152400, 'prompt_eval_count': 314, 'prompt_eval_duration': 6048696200, 'eval_count': 29, 'eval_duration': 2188800600, 'model_name': 'llama3.2:1b'}, id='run--9e7a4ec3-0d63-457e-a991-190262b3e98a-0', tool_calls=[{'name': 'suma', 'args': {'query': '(123+5) - (2*3)'}, 'id': 'eab580ec-5e19-4335-b39a-b2bfc2d33593', 'type': 'tool_call'}], usage_metadata={'input_tokens': 314, 'output_tokens': 29, 'total_tokens': 343}), ToolMessage(content='122', name='suma', id='85cb6cff-cacb-4d48-b820-b49f37b8ef54', tool_call_id='eab580ec-5e19-4335-b39a-b2bfc2d33593'), AIMessage(content='The calculation result is 122.', additional_kwargs={}, response_metadata={'model': 'llama3.2:1b', 'created_at': '2025-08-23T14:01:05.7976492Z', 'done': True, 'done_reason': 'stop', 'total_duration': 1034142800, 'load_duration': 31143600, 'prompt_eval_count': 105, 'prompt_eval_duration': 514715800, 'eval_count': 8, 'eval_duration': 486668900, 'model_name': 'llama3.2:1b'}, id='run--3001986d-bd31-44a8-8989-7311c0af83a2-0', usage_metadata={'input_tokens': 105, 'output_tokens': 8, 'total_tokens': 113})]}, next=(), config={'configurable': {'thread_id': '1', 'checkpoint_ns': '', 'checkpoint_id': '1f080299-c9c4-695b-8003-00d94d28fd74'}}, metadata={'source': 'loop', 'step': 3, 'parents': {}}, created_at='2025-08-23T14:01:05.798793+00:00', parent_config={'configurable': {'thread_id': '1', 'checkpoint_ns': '', 'checkpoint_id': '1f080299-bfdd-66b3-8002-2079cd6df59a'}}, tasks=(), interrupts=()),\n",
       " StateSnapshot(values={'messages': [HumanMessage(content='Calculate (123+5) - (2*3)', additional_kwargs={}, response_metadata={}, id='aa039626-644f-4ca2-a2b5-30c154b429cf'), AIMessage(content='', additional_kwargs={}, response_metadata={'model': 'llama3.2:1b', 'created_at': '2025-08-23T13:59:22.4918075Z', 'done': True, 'done_reason': 'stop', 'total_duration': 10025798600, 'load_duration': 1787152400, 'prompt_eval_count': 314, 'prompt_eval_duration': 6048696200, 'eval_count': 29, 'eval_duration': 2188800600, 'model_name': 'llama3.2:1b'}, id='run--9e7a4ec3-0d63-457e-a991-190262b3e98a-0', tool_calls=[{'name': 'suma', 'args': {'query': '(123+5) - (2*3)'}, 'id': 'eab580ec-5e19-4335-b39a-b2bfc2d33593', 'type': 'tool_call'}], usage_metadata={'input_tokens': 314, 'output_tokens': 29, 'total_tokens': 343}), ToolMessage(content='122', name='suma', id='85cb6cff-cacb-4d48-b820-b49f37b8ef54', tool_call_id='eab580ec-5e19-4335-b39a-b2bfc2d33593')]}, next=('model',), config={'configurable': {'thread_id': '1', 'checkpoint_ns': '', 'checkpoint_id': '1f080299-bfdd-66b3-8002-2079cd6df59a'}}, metadata={'source': 'loop', 'step': 2, 'parents': {}}, created_at='2025-08-23T14:01:04.760389+00:00', parent_config={'configurable': {'thread_id': '1', 'checkpoint_ns': '', 'checkpoint_id': '1f080295-f090-6ddc-8001-5dc4a2afe1ac'}}, tasks=(PregelTask(id='48daf5ae-81c2-4ade-9175-9ece12b3d2ff', name='model', path=('__pregel_pull', 'model'), error=None, interrupts=(), state=None, result={'messages': AIMessage(content='The calculation result is 122.', additional_kwargs={}, response_metadata={'model': 'llama3.2:1b', 'created_at': '2025-08-23T14:01:05.7976492Z', 'done': True, 'done_reason': 'stop', 'total_duration': 1034142800, 'load_duration': 31143600, 'prompt_eval_count': 105, 'prompt_eval_duration': 514715800, 'eval_count': 8, 'eval_duration': 486668900, 'model_name': 'llama3.2:1b'}, id='run--3001986d-bd31-44a8-8989-7311c0af83a2-0', usage_metadata={'input_tokens': 105, 'output_tokens': 8, 'total_tokens': 113})}),), interrupts=()),\n",
       " StateSnapshot(values={'messages': [HumanMessage(content='Calculate (123+5) - (2*3)', additional_kwargs={}, response_metadata={}, id='aa039626-644f-4ca2-a2b5-30c154b429cf'), AIMessage(content='', additional_kwargs={}, response_metadata={'model': 'llama3.2:1b', 'created_at': '2025-08-23T13:59:22.4918075Z', 'done': True, 'done_reason': 'stop', 'total_duration': 10025798600, 'load_duration': 1787152400, 'prompt_eval_count': 314, 'prompt_eval_duration': 6048696200, 'eval_count': 29, 'eval_duration': 2188800600, 'model_name': 'llama3.2:1b'}, id='run--9e7a4ec3-0d63-457e-a991-190262b3e98a-0', tool_calls=[{'name': 'resta', 'args': {'query': '(123+5) - (2*3)'}, 'id': 'eab580ec-5e19-4335-b39a-b2bfc2d33593', 'type': 'tool_call'}], usage_metadata={'input_tokens': 314, 'output_tokens': 29, 'total_tokens': 343}), ToolMessage(content='122', name='resta', id='2990b6cc-d51d-4c3f-87dd-c5ccbaf69643', tool_call_id='eab580ec-5e19-4335-b39a-b2bfc2d33593'), AIMessage(content='The calculation results in 122.', additional_kwargs={}, response_metadata={'model': 'llama3.2:1b', 'created_at': '2025-08-23T14:00:38.6361074Z', 'done': True, 'done_reason': 'stop', 'total_duration': 1271923600, 'load_duration': 28464500, 'prompt_eval_count': 106, 'prompt_eval_duration': 801029300, 'eval_count': 8, 'eval_duration': 441120300, 'model_name': 'llama3.2:1b'}, id='run--ea5f7a07-174d-4ae9-a545-ee52d35d4228-0', usage_metadata={'input_tokens': 106, 'output_tokens': 8, 'total_tokens': 114})]}, next=(), config={'configurable': {'thread_id': '1', 'checkpoint_ns': '', 'checkpoint_id': '1f080298-c6bd-62c1-8004-12dc71070aee'}}, metadata={'source': 'loop', 'step': 4, 'parents': {}}, created_at='2025-08-23T14:00:38.637638+00:00', parent_config={'configurable': {'thread_id': '1', 'checkpoint_ns': '', 'checkpoint_id': '1f080298-ba8d-6244-8003-7ee43c4917df'}}, tasks=(), interrupts=()),\n",
       " StateSnapshot(values={'messages': [HumanMessage(content='Calculate (123+5) - (2*3)', additional_kwargs={}, response_metadata={}, id='aa039626-644f-4ca2-a2b5-30c154b429cf'), AIMessage(content='', additional_kwargs={}, response_metadata={'model': 'llama3.2:1b', 'created_at': '2025-08-23T13:59:22.4918075Z', 'done': True, 'done_reason': 'stop', 'total_duration': 10025798600, 'load_duration': 1787152400, 'prompt_eval_count': 314, 'prompt_eval_duration': 6048696200, 'eval_count': 29, 'eval_duration': 2188800600, 'model_name': 'llama3.2:1b'}, id='run--9e7a4ec3-0d63-457e-a991-190262b3e98a-0', tool_calls=[{'name': 'resta', 'args': {'query': '(123+5) - (2*3)'}, 'id': 'eab580ec-5e19-4335-b39a-b2bfc2d33593', 'type': 'tool_call'}], usage_metadata={'input_tokens': 314, 'output_tokens': 29, 'total_tokens': 343}), ToolMessage(content='122', name='resta', id='2990b6cc-d51d-4c3f-87dd-c5ccbaf69643', tool_call_id='eab580ec-5e19-4335-b39a-b2bfc2d33593')]}, next=('model',), config={'configurable': {'thread_id': '1', 'checkpoint_ns': '', 'checkpoint_id': '1f080298-ba8d-6244-8003-7ee43c4917df'}}, metadata={'source': 'loop', 'step': 3, 'parents': {}}, created_at='2025-08-23T14:00:37.359674+00:00', parent_config={'configurable': {'thread_id': '1', 'checkpoint_ns': '', 'checkpoint_id': '1f080297-1e43-616c-8002-6031e13cefea'}}, tasks=(PregelTask(id='93c4d75f-8df9-63ee-5f8f-9f50d9610384', name='model', path=('__pregel_pull', 'model'), error=None, interrupts=(), state=None, result={'messages': AIMessage(content='The calculation results in 122.', additional_kwargs={}, response_metadata={'model': 'llama3.2:1b', 'created_at': '2025-08-23T14:00:38.6361074Z', 'done': True, 'done_reason': 'stop', 'total_duration': 1271923600, 'load_duration': 28464500, 'prompt_eval_count': 106, 'prompt_eval_duration': 801029300, 'eval_count': 8, 'eval_duration': 441120300, 'model_name': 'llama3.2:1b'}, id='run--ea5f7a07-174d-4ae9-a545-ee52d35d4228-0', usage_metadata={'input_tokens': 106, 'output_tokens': 8, 'total_tokens': 114})}),), interrupts=()),\n",
       " StateSnapshot(values={'messages': [HumanMessage(content='Calculate (123+5) - (2*3)', additional_kwargs={}, response_metadata={}, id='aa039626-644f-4ca2-a2b5-30c154b429cf'), AIMessage(content='', additional_kwargs={}, response_metadata={'model': 'llama3.2:1b', 'created_at': '2025-08-23T13:59:22.4918075Z', 'done': True, 'done_reason': 'stop', 'total_duration': 10025798600, 'load_duration': 1787152400, 'prompt_eval_count': 314, 'prompt_eval_duration': 6048696200, 'eval_count': 29, 'eval_duration': 2188800600, 'model_name': 'llama3.2:1b'}, id='run--9e7a4ec3-0d63-457e-a991-190262b3e98a-0', tool_calls=[{'name': 'resta', 'args': {'query': '(123+5) - (2*3)'}, 'id': 'eab580ec-5e19-4335-b39a-b2bfc2d33593', 'type': 'tool_call'}], usage_metadata={'input_tokens': 314, 'output_tokens': 29, 'total_tokens': 343})]}, next=('tools',), config={'configurable': {'thread_id': '1', 'checkpoint_ns': '', 'checkpoint_id': '1f080297-1e43-616c-8002-6031e13cefea'}}, metadata={'source': 'update', 'step': 2, 'parents': {}}, created_at='2025-08-23T13:59:54.128010+00:00', parent_config={'configurable': {'thread_id': '1', 'checkpoint_ns': '', 'checkpoint_id': '1f080295-f090-6ddc-8001-5dc4a2afe1ac'}}, tasks=(PregelTask(id='d7922fc9-cc64-6cc8-6b30-56c321147ea1', name='tools', path=('__pregel_pull', 'tools'), error=None, interrupts=(), state=None, result={'messages': [ToolMessage(content='122', name='resta', id='2990b6cc-d51d-4c3f-87dd-c5ccbaf69643', tool_call_id='eab580ec-5e19-4335-b39a-b2bfc2d33593')]}),), interrupts=()),\n",
       " StateSnapshot(values={'messages': [HumanMessage(content='Calculate (123+5) - (2*3)', additional_kwargs={}, response_metadata={}, id='aa039626-644f-4ca2-a2b5-30c154b429cf'), AIMessage(content='', additional_kwargs={}, response_metadata={'model': 'llama3.2:1b', 'created_at': '2025-08-23T13:59:22.4918075Z', 'done': True, 'done_reason': 'stop', 'total_duration': 10025798600, 'load_duration': 1787152400, 'prompt_eval_count': 314, 'prompt_eval_duration': 6048696200, 'eval_count': 29, 'eval_duration': 2188800600, 'model_name': 'llama3.2:1b'}, id='run--9e7a4ec3-0d63-457e-a991-190262b3e98a-0', tool_calls=[{'name': 'suma', 'args': {'query': '(123+5) - (2*3)'}, 'id': 'eab580ec-5e19-4335-b39a-b2bfc2d33593', 'type': 'tool_call'}], usage_metadata={'input_tokens': 314, 'output_tokens': 29, 'total_tokens': 343})]}, next=('tools',), config={'configurable': {'thread_id': '1', 'checkpoint_ns': '', 'checkpoint_id': '1f080295-f090-6ddc-8001-5dc4a2afe1ac'}}, metadata={'source': 'loop', 'step': 1, 'parents': {}}, created_at='2025-08-23T13:59:22.492873+00:00', parent_config={'configurable': {'thread_id': '1', 'checkpoint_ns': '', 'checkpoint_id': '1f080295-90e5-6655-8000-ab319aae348d'}}, tasks=(PregelTask(id='0e1b7c4f-0550-c4ea-ead5-6eef942a5c85', name='tools', path=('__pregel_pull', 'tools'), error=None, interrupts=(), state=None, result={'messages': [ToolMessage(content='122', name='suma', tool_call_id='eab580ec-5e19-4335-b39a-b2bfc2d33593')]}),), interrupts=()),\n",
       " StateSnapshot(values={'messages': [HumanMessage(content='Calculate (123+5) - (2*3)', additional_kwargs={}, response_metadata={}, id='aa039626-644f-4ca2-a2b5-30c154b429cf')]}, next=('model',), config={'configurable': {'thread_id': '1', 'checkpoint_ns': '', 'checkpoint_id': '1f080295-90e5-6655-8000-ab319aae348d'}}, metadata={'source': 'loop', 'step': 0, 'parents': {}}, created_at='2025-08-23T13:59:12.461166+00:00', parent_config={'configurable': {'thread_id': '1', 'checkpoint_ns': '', 'checkpoint_id': '1f080295-90e5-6654-bfff-ab7391865a29'}}, tasks=(PregelTask(id='bb4ad0f4-7da2-f604-e885-2f1466ada384', name='model', path=('__pregel_pull', 'model'), error=None, interrupts=(), state=None, result={'messages': AIMessage(content='', additional_kwargs={}, response_metadata={'model': 'llama3.2:1b', 'created_at': '2025-08-23T13:59:22.4918075Z', 'done': True, 'done_reason': 'stop', 'total_duration': 10025798600, 'load_duration': 1787152400, 'prompt_eval_count': 314, 'prompt_eval_duration': 6048696200, 'eval_count': 29, 'eval_duration': 2188800600, 'model_name': 'llama3.2:1b'}, id='run--9e7a4ec3-0d63-457e-a991-190262b3e98a-0', tool_calls=[{'name': 'suma', 'args': {'query': '(123+5) - (2*3)'}, 'id': 'eab580ec-5e19-4335-b39a-b2bfc2d33593', 'type': 'tool_call'}], usage_metadata={'input_tokens': 314, 'output_tokens': 29, 'total_tokens': 343})}),), interrupts=()),\n",
       " StateSnapshot(values={'messages': []}, next=('__start__',), config={'configurable': {'thread_id': '1', 'checkpoint_ns': '', 'checkpoint_id': '1f080295-90e5-6654-bfff-ab7391865a29'}}, metadata={'source': 'input', 'step': -1, 'parents': {}}, created_at='2025-08-23T13:59:12.461166+00:00', parent_config=None, tasks=(PregelTask(id='88114beb-4ebb-03dc-2915-1fe0629ffe53', name='__start__', path=('__pregel_pull', '__start__'), error=None, interrupts=(), state=None, result={'messages': [HumanMessage(content='Calculate (123+5) - (2*3)', additional_kwargs={}, response_metadata={}, id='aa039626-644f-4ca2-a2b5-30c154b429cf')]}),), interrupts=())]"
      ]
     },
     "execution_count": 116,
     "metadata": {},
     "output_type": "execute_result"
    }
   ],
   "source": [
    "history"
   ]
  },
  {
   "cell_type": "code",
   "execution_count": null,
   "id": "348d3c73",
   "metadata": {},
   "outputs": [],
   "source": []
  }
 ],
 "metadata": {
  "kernelspec": {
   "display_name": "venv",
   "language": "python",
   "name": "python3"
  },
  "language_info": {
   "codemirror_mode": {
    "name": "ipython",
    "version": 3
   },
   "file_extension": ".py",
   "mimetype": "text/x-python",
   "name": "python",
   "nbconvert_exporter": "python",
   "pygments_lexer": "ipython3",
   "version": "3.10.0"
  }
 },
 "nbformat": 4,
 "nbformat_minor": 5
}
