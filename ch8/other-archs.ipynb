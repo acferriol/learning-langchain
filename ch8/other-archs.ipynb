{
 "cells": [
  {
   "cell_type": "markdown",
   "id": "640f7fd5",
   "metadata": {},
   "source": [
    "# Architecture considerations\n",
    "\n",
    "- Trade-Off Agency-Reliabilty\n",
    "- Latency\n",
    "- Autonomy\n",
    "- Variance"
   ]
  },
  {
   "cell_type": "markdown",
   "id": "51588539",
   "metadata": {},
   "source": [
    "# Architecture Techniques\n",
    "\n",
    "- Streaming/ Intermediate Outputs\n",
    "- Structured Outputs\n",
    "- Human in the Loop\n",
    "- Double texting modes"
   ]
  },
  {
   "cell_type": "markdown",
   "id": "755d7e00",
   "metadata": {},
   "source": [
    "### Structured output\n",
    "\n",
    "- Prompting\n",
    "- Tool calling\n",
    "- JSON Mode"
   ]
  },
  {
   "cell_type": "code",
   "execution_count": 2,
   "id": "f7eb2fcb",
   "metadata": {},
   "outputs": [],
   "source": [
    "from pydantic import BaseModel, Field\n",
    "\n",
    "class Joke(BaseModel):\n",
    "    setup: str = Field(description=\"Setup of the joke\")\n",
    "    punchline: str = Field(description=\"Punchline to the joke\")"
   ]
  },
  {
   "cell_type": "code",
   "execution_count": 8,
   "id": "e8ce7981",
   "metadata": {},
   "outputs": [
    {
     "data": {
      "text/plain": [
       "Joke(setup='Why did the cat join a band?', punchline='Because it wanted to be a purr-cussionist!')"
      ]
     },
     "execution_count": 8,
     "metadata": {},
     "output_type": "execute_result"
    }
   ],
   "source": [
    "from langchain_ollama import ChatOllama\n",
    "\n",
    "model = ChatOllama(model=\"llama3.2:1b\")\n",
    "model = model.with_structured_output(Joke)\n",
    "\n",
    "model.invoke(\"Tell me a joke about cats\")"
   ]
  },
  {
   "cell_type": "markdown",
   "id": "928659a5",
   "metadata": {},
   "source": [
    "- Low temperatures\n",
    "- Validation errors"
   ]
  },
  {
   "cell_type": "markdown",
   "id": "369f51d6",
   "metadata": {},
   "source": [
    "### Intermediate output"
   ]
  },
  {
   "cell_type": "code",
   "execution_count": null,
   "id": "0ce60470",
   "metadata": {},
   "outputs": [],
   "source": []
  },
  {
   "cell_type": "code",
   "execution_count": null,
   "id": "37866135",
   "metadata": {},
   "outputs": [],
   "source": []
  }
 ],
 "metadata": {
  "kernelspec": {
   "display_name": "venv",
   "language": "python",
   "name": "python3"
  },
  "language_info": {
   "codemirror_mode": {
    "name": "ipython",
    "version": 3
   },
   "file_extension": ".py",
   "mimetype": "text/x-python",
   "name": "python",
   "nbconvert_exporter": "python",
   "pygments_lexer": "ipython3",
   "version": "3.10.0"
  }
 },
 "nbformat": 4,
 "nbformat_minor": 5
}
