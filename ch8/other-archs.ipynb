{
 "cells": [
  {
   "cell_type": "markdown",
   "id": "640f7fd5",
   "metadata": {},
   "source": [
    "# Architecture considerations\n",
    "\n",
    "- Trade-Off Agency-Reliabilty\n",
    "- Latency\n",
    "- Autonomy\n",
    "- Variance"
   ]
  },
  {
   "cell_type": "markdown",
   "id": "51588539",
   "metadata": {},
   "source": [
    "# Architecture Techniques\n",
    "\n",
    "- Streaming/ Intermediate Outputs\n",
    "- Structured Outputs\n",
    "- Human in the Loop\n",
    "- Double texting modes"
   ]
  },
  {
   "cell_type": "markdown",
   "id": "755d7e00",
   "metadata": {},
   "source": [
    "### Structured output\n",
    "\n",
    "- Prompting\n",
    "- Tool calling\n",
    "- JSON Mode"
   ]
  },
  {
   "cell_type": "code",
   "execution_count": 1,
   "id": "f7eb2fcb",
   "metadata": {},
   "outputs": [],
   "source": [
    "from pydantic import BaseModel, Field\n",
    "\n",
    "class Joke(BaseModel):\n",
    "    setup: str = Field(description=\"Setup of the joke\")\n",
    "    punchline: str = Field(description=\"Punchline to the joke\")"
   ]
  },
  {
   "cell_type": "code",
   "execution_count": 2,
   "id": "e8ce7981",
   "metadata": {},
   "outputs": [
    {
     "data": {
      "text/plain": [
       "Joke(setup='cat', punchline=\"Because they're purr-fectly lazy and have nine lives, but only when it comes to picking up after themselves.\")"
      ]
     },
     "execution_count": 2,
     "metadata": {},
     "output_type": "execute_result"
    }
   ],
   "source": [
    "from langchain_ollama import ChatOllama\n",
    "\n",
    "model = ChatOllama(model=\"llama3.2:1b\")\n",
    "model = model.with_structured_output(Joke)\n",
    "\n",
    "model.invoke(\"Tell me a joke about cats\")"
   ]
  },
  {
   "cell_type": "markdown",
   "id": "928659a5",
   "metadata": {},
   "source": [
    "- Low temperatures\n",
    "- Validation errors"
   ]
  },
  {
   "cell_type": "markdown",
   "id": "369f51d6",
   "metadata": {},
   "source": [
    "### Intermediate output"
   ]
  },
  {
   "cell_type": "markdown",
   "id": "c7c499a1",
   "metadata": {},
   "source": [
    "#### Re-Act agent"
   ]
  },
  {
   "cell_type": "code",
   "execution_count": 1,
   "id": "0ce60470",
   "metadata": {},
   "outputs": [],
   "source": [
    "import ast\n",
    "from typing import Annotated, TypedDict\n",
    "\n",
    "#from langchain_community.tools import DuckDuckGoSearchResults\n",
    "from langchain_core.tools import tool\n",
    "from langchain_ollama import ChatOllama, OllamaLLM\n",
    "\n",
    "from langgraph.graph import START, StateGraph\n",
    "from langgraph.graph.message import add_messages\n",
    "from langgraph.prebuilt import ToolNode, tools_condition"
   ]
  },
  {
   "cell_type": "code",
   "execution_count": 8,
   "id": "37866135",
   "metadata": {},
   "outputs": [],
   "source": [
    "@tool\n",
    "def suma(query: str) -> str:\n",
    "    \"\"\"A simple calculator tool. Input should be a sum expression.\"\"\"\n",
    "    print(query)\n",
    "    return eval(query)\n",
    "\n",
    "@tool\n",
    "def resta(query: str) -> str:\n",
    "    \"\"\"A simple calculator tool. Input should be a substract expression.\"\"\"\n",
    "    print(query)\n",
    "    return eval(query)\n",
    "\n",
    "@tool\n",
    "def multiply(query: str) -> str:\n",
    "    \"\"\"A simple calculator tool. Input should be a multiply expression.\"\"\"\n",
    "    print(query)\n",
    "    return eval(query)\n",
    "\n",
    "@tool\n",
    "def division(query: str) -> str:\n",
    "    \"\"\"A simple calculator tool. Input should be a division expression.\"\"\"\n",
    "    print(query)\n",
    "    return eval(query)\n",
    "\n",
    "#search = DuckDuckGoSearchResults()\n",
    "tools = [suma, resta, multiply,division]\n",
    "\n",
    "############### TEST ONLINE MODEL ##################\n",
    "#import dotenv\n",
    "#import os\n",
    "#from langchain_openai.chat_models import ChatOpenAI\n",
    "#\n",
    "#dotenv.load_dotenv()\n",
    "#apikey = os.getenv(\"AI-API-KEY\")\n",
    "#model_sel = os.getenv(\"MODEL\")\n",
    "#url = os.getenv(\"BASE-URL\")\n",
    "\n",
    "#model = ChatOpenAI(\n",
    "#    base_url=url,\n",
    "#    api_key=apikey,\n",
    "#    model=model_sel\n",
    "#).bind_tools(tools)\n",
    "\n",
    "####################################################\n",
    "model = ChatOllama(model=\"llama3.2:1b\", temperature=0).bind_tools(tools)\n",
    "\n",
    "class State(TypedDict):\n",
    "    messages: Annotated[list, add_messages]\n",
    "\n",
    "def model_node(state: State) -> State:\n",
    "    res = model.invoke(state[\"messages\"])\n",
    "    return {\"messages\": res}"
   ]
  },
  {
   "cell_type": "code",
   "execution_count": 9,
   "id": "ae7b8afc",
   "metadata": {},
   "outputs": [],
   "source": [
    "builder = StateGraph(State)\n",
    "builder.add_node(\"model\", model_node)\n",
    "builder.add_node(\"tools\", ToolNode(tools))\n",
    "builder.add_edge(START, \"model\")\n",
    "builder.add_conditional_edges(\"model\", tools_condition)\n",
    "builder.add_edge(\"tools\", \"model\")\n",
    "\n",
    "graph = builder.compile()"
   ]
  },
  {
   "cell_type": "code",
   "execution_count": 10,
   "id": "ff15b9ed",
   "metadata": {},
   "outputs": [
    {
     "name": "stdout",
     "output_type": "stream",
     "text": [
      "{'model': {'messages': AIMessage(content='', additional_kwargs={}, response_metadata={'model': 'llama3.2:1b', 'created_at': '2025-08-23T12:49:57.7616696Z', 'done': True, 'done_reason': 'stop', 'total_duration': 7466736100, 'load_duration': 50417000, 'prompt_eval_count': 314, 'prompt_eval_duration': 5269612200, 'eval_count': 29, 'eval_duration': 2144016900, 'model_name': 'llama3.2:1b'}, id='run--77215243-ca51-4b19-921d-3e5081cbf51c-0', tool_calls=[{'name': 'suma', 'args': {'query': '(123+5) - (2*3)'}, 'id': '8c4486fd-d9f9-474a-bb23-fe02292672b8', 'type': 'tool_call'}], usage_metadata={'input_tokens': 314, 'output_tokens': 29, 'total_tokens': 343})}}\n",
      "(123+5) - (2*3)\n",
      "{'tools': {'messages': [ToolMessage(content='122', name='suma', id='e807f640-0e8d-4960-ac3c-a67d1e777aba', tool_call_id='8c4486fd-d9f9-474a-bb23-fe02292672b8')]}}\n",
      "{'model': {'messages': AIMessage(content='The calculation result is 122.', additional_kwargs={}, response_metadata={'model': 'llama3.2:1b', 'created_at': '2025-08-23T12:49:59.4398133Z', 'done': True, 'done_reason': 'stop', 'total_duration': 1671263200, 'load_duration': 35143300, 'prompt_eval_count': 105, 'prompt_eval_duration': 1136357700, 'eval_count': 8, 'eval_duration': 499213200, 'model_name': 'llama3.2:1b'}, id='run--b155221f-7738-40f7-a92e-2d6296d79918-0', usage_metadata={'input_tokens': 105, 'output_tokens': 8, 'total_tokens': 113})}}\n"
     ]
    }
   ],
   "source": [
    "from langchain_core.messages import HumanMessage\n",
    "input = {\n",
    "    \"messages\": [\n",
    "        HumanMessage(\"\"\"Calculate (123+5) - (2*3)\"\"\")\n",
    "    ]\n",
    "}\n",
    "for c in graph.stream(input):\n",
    "    print(c)"
   ]
  },
  {
   "cell_type": "code",
   "execution_count": null,
   "id": "93081fb0",
   "metadata": {},
   "outputs": [
    {
     "name": "stdout",
     "output_type": "stream",
     "text": [
      "{'model': {'messages': AIMessage(content='', additional_kwargs={}, response_metadata={'model': 'llama3.2:1b', 'created_at': '2025-08-23T12:51:23.2165677Z', 'done': True, 'done_reason': 'stop', 'total_duration': 7987617900, 'load_duration': 33843900, 'prompt_eval_count': 314, 'prompt_eval_duration': 5721575900, 'eval_count': 29, 'eval_duration': 2229520300, 'model_name': 'llama3.2:1b'}, id='run--16236fd3-73b7-4e58-94a3-99cea143e284-0', tool_calls=[{'name': 'suma', 'args': {'query': '(123+5) - (2*3)'}, 'id': '9ff9846f-752d-4175-a4fd-cdd0ca6b8333', 'type': 'tool_call'}], usage_metadata={'input_tokens': 314, 'output_tokens': 29, 'total_tokens': 343})}}\n",
      "(123+5) - (2*3)\n",
      "{'tools': {'messages': [ToolMessage(content='122', name='suma', id='cc902f9d-e619-409f-bc70-28b45c7f872b', tool_call_id='9ff9846f-752d-4175-a4fd-cdd0ca6b8333')]}}\n",
      "{'model': {'messages': AIMessage(content='The calculation result is 122.', additional_kwargs={}, response_metadata={'model': 'llama3.2:1b', 'created_at': '2025-08-23T12:51:25.2585902Z', 'done': True, 'done_reason': 'stop', 'total_duration': 2034225000, 'load_duration': 37472200, 'prompt_eval_count': 105, 'prompt_eval_duration': 1428575200, 'eval_count': 8, 'eval_duration': 565999100, 'model_name': 'llama3.2:1b'}, id='run--d22b4bdc-f27d-486a-9cf8-3ea46fd75635-0', usage_metadata={'input_tokens': 105, 'output_tokens': 8, 'total_tokens': 113})}}\n"
     ]
    }
   ],
   "source": [
    "for c in graph.stream(input, stream_mode='updates'): #updates, values, debug, combining\n",
    "    print(c)"
   ]
  },
  {
   "cell_type": "markdown",
   "id": "37a034ae",
   "metadata": {},
   "source": [
    "### Stream token by token"
   ]
  },
  {
   "cell_type": "code",
   "execution_count": 17,
   "id": "4b6ee5f2",
   "metadata": {},
   "outputs": [],
   "source": [
    "output = graph.astream_events(input, version='v2')"
   ]
  },
  {
   "cell_type": "code",
   "execution_count": 18,
   "id": "c9034675",
   "metadata": {},
   "outputs": [
    {
     "name": "stdout",
     "output_type": "stream",
     "text": [
      "{'event': 'on_chain_start', 'data': {'input': {'messages': [HumanMessage(content='Calculate (123+5) - (2*3)', additional_kwargs={}, response_metadata={}, id='ad51f9b5-d6d5-4112-b83a-022bdadcf511')]}}, 'name': 'LangGraph', 'tags': [], 'run_id': 'ec4eb3c3-77df-4efe-a172-62786fb0f53e', 'metadata': {}, 'parent_ids': []}\n",
      "{'event': 'on_chain_start', 'data': {'input': {'messages': [HumanMessage(content='Calculate (123+5) - (2*3)', additional_kwargs={}, response_metadata={}, id='ad51f9b5-d6d5-4112-b83a-022bdadcf511')]}}, 'name': 'model', 'tags': ['graph:step:1'], 'run_id': '9be77cc3-9310-4d82-849c-2c38d8ba71f5', 'metadata': {'langgraph_step': 1, 'langgraph_node': 'model', 'langgraph_triggers': ('branch:to:model',), 'langgraph_path': ('__pregel_pull', 'model'), 'langgraph_checkpoint_ns': 'model:85786ad3-6a75-aaea-f115-e1f803fa7f13'}, 'parent_ids': ['ec4eb3c3-77df-4efe-a172-62786fb0f53e']}\n",
      "{'event': 'on_chain_start', 'data': {'input': {'messages': [HumanMessage(content='Calculate (123+5) - (2*3)', additional_kwargs={}, response_metadata={}, id='ad51f9b5-d6d5-4112-b83a-022bdadcf511'), AIMessage(content='', additional_kwargs={}, response_metadata={'model': 'llama3.2:1b', 'created_at': '2025-08-23T12:58:42.5531805Z', 'done': True, 'done_reason': 'stop', 'total_duration': 7968358800, 'load_duration': 28800300, 'prompt_eval_count': 314, 'prompt_eval_duration': 5805621600, 'eval_count': 29, 'eval_duration': 2132216200, 'model_name': 'llama3.2:1b'}, id='run--5167b6d1-f58e-4f7b-afef-247250314443-0', tool_calls=[{'name': 'suma', 'args': {'query': '(123+5) - (2*3)'}, 'id': '01a2994a-7406-41af-8f5c-2caee7b2d169', 'type': 'tool_call'}], usage_metadata={'input_tokens': 314, 'output_tokens': 29, 'total_tokens': 343})]}}, 'name': 'tools_condition', 'tags': ['seq:step:3'], 'run_id': '072f50ba-c33d-4db5-b8a0-ba7f83a79fa1', 'metadata': {'langgraph_step': 1, 'langgraph_node': 'model', 'langgraph_triggers': ('branch:to:model',), 'langgraph_path': ('__pregel_pull', 'model'), 'langgraph_checkpoint_ns': 'model:85786ad3-6a75-aaea-f115-e1f803fa7f13'}, 'parent_ids': ['ec4eb3c3-77df-4efe-a172-62786fb0f53e', '9be77cc3-9310-4d82-849c-2c38d8ba71f5']}\n",
      "{'event': 'on_chain_end', 'data': {'output': 'tools', 'input': {'messages': [HumanMessage(content='Calculate (123+5) - (2*3)', additional_kwargs={}, response_metadata={}, id='ad51f9b5-d6d5-4112-b83a-022bdadcf511'), AIMessage(content='', additional_kwargs={}, response_metadata={'model': 'llama3.2:1b', 'created_at': '2025-08-23T12:58:42.5531805Z', 'done': True, 'done_reason': 'stop', 'total_duration': 7968358800, 'load_duration': 28800300, 'prompt_eval_count': 314, 'prompt_eval_duration': 5805621600, 'eval_count': 29, 'eval_duration': 2132216200, 'model_name': 'llama3.2:1b'}, id='run--5167b6d1-f58e-4f7b-afef-247250314443-0', tool_calls=[{'name': 'suma', 'args': {'query': '(123+5) - (2*3)'}, 'id': '01a2994a-7406-41af-8f5c-2caee7b2d169', 'type': 'tool_call'}], usage_metadata={'input_tokens': 314, 'output_tokens': 29, 'total_tokens': 343})]}}, 'run_id': '072f50ba-c33d-4db5-b8a0-ba7f83a79fa1', 'name': 'tools_condition', 'tags': ['seq:step:3'], 'metadata': {'langgraph_step': 1, 'langgraph_node': 'model', 'langgraph_triggers': ('branch:to:model',), 'langgraph_path': ('__pregel_pull', 'model'), 'langgraph_checkpoint_ns': 'model:85786ad3-6a75-aaea-f115-e1f803fa7f13'}, 'parent_ids': ['ec4eb3c3-77df-4efe-a172-62786fb0f53e', '9be77cc3-9310-4d82-849c-2c38d8ba71f5']}\n",
      "{'event': 'on_chain_stream', 'run_id': '9be77cc3-9310-4d82-849c-2c38d8ba71f5', 'name': 'model', 'tags': ['graph:step:1'], 'metadata': {'langgraph_step': 1, 'langgraph_node': 'model', 'langgraph_triggers': ('branch:to:model',), 'langgraph_path': ('__pregel_pull', 'model'), 'langgraph_checkpoint_ns': 'model:85786ad3-6a75-aaea-f115-e1f803fa7f13'}, 'data': {'chunk': {'messages': AIMessage(content='', additional_kwargs={}, response_metadata={'model': 'llama3.2:1b', 'created_at': '2025-08-23T12:58:42.5531805Z', 'done': True, 'done_reason': 'stop', 'total_duration': 7968358800, 'load_duration': 28800300, 'prompt_eval_count': 314, 'prompt_eval_duration': 5805621600, 'eval_count': 29, 'eval_duration': 2132216200, 'model_name': 'llama3.2:1b'}, id='run--5167b6d1-f58e-4f7b-afef-247250314443-0', tool_calls=[{'name': 'suma', 'args': {'query': '(123+5) - (2*3)'}, 'id': '01a2994a-7406-41af-8f5c-2caee7b2d169', 'type': 'tool_call'}], usage_metadata={'input_tokens': 314, 'output_tokens': 29, 'total_tokens': 343})}}, 'parent_ids': ['ec4eb3c3-77df-4efe-a172-62786fb0f53e']}\n",
      "{'event': 'on_chain_end', 'data': {'output': {'messages': AIMessage(content='', additional_kwargs={}, response_metadata={'model': 'llama3.2:1b', 'created_at': '2025-08-23T12:58:42.5531805Z', 'done': True, 'done_reason': 'stop', 'total_duration': 7968358800, 'load_duration': 28800300, 'prompt_eval_count': 314, 'prompt_eval_duration': 5805621600, 'eval_count': 29, 'eval_duration': 2132216200, 'model_name': 'llama3.2:1b'}, id='run--5167b6d1-f58e-4f7b-afef-247250314443-0', tool_calls=[{'name': 'suma', 'args': {'query': '(123+5) - (2*3)'}, 'id': '01a2994a-7406-41af-8f5c-2caee7b2d169', 'type': 'tool_call'}], usage_metadata={'input_tokens': 314, 'output_tokens': 29, 'total_tokens': 343})}, 'input': {'messages': [HumanMessage(content='Calculate (123+5) - (2*3)', additional_kwargs={}, response_metadata={}, id='ad51f9b5-d6d5-4112-b83a-022bdadcf511')]}}, 'run_id': '9be77cc3-9310-4d82-849c-2c38d8ba71f5', 'name': 'model', 'tags': ['graph:step:1'], 'metadata': {'langgraph_step': 1, 'langgraph_node': 'model', 'langgraph_triggers': ('branch:to:model',), 'langgraph_path': ('__pregel_pull', 'model'), 'langgraph_checkpoint_ns': 'model:85786ad3-6a75-aaea-f115-e1f803fa7f13'}, 'parent_ids': ['ec4eb3c3-77df-4efe-a172-62786fb0f53e']}\n",
      "{'event': 'on_chain_stream', 'run_id': 'ec4eb3c3-77df-4efe-a172-62786fb0f53e', 'name': 'LangGraph', 'tags': [], 'metadata': {}, 'data': {'chunk': {'model': {'messages': AIMessage(content='', additional_kwargs={}, response_metadata={'model': 'llama3.2:1b', 'created_at': '2025-08-23T12:58:42.5531805Z', 'done': True, 'done_reason': 'stop', 'total_duration': 7968358800, 'load_duration': 28800300, 'prompt_eval_count': 314, 'prompt_eval_duration': 5805621600, 'eval_count': 29, 'eval_duration': 2132216200, 'model_name': 'llama3.2:1b'}, id='run--5167b6d1-f58e-4f7b-afef-247250314443-0', tool_calls=[{'name': 'suma', 'args': {'query': '(123+5) - (2*3)'}, 'id': '01a2994a-7406-41af-8f5c-2caee7b2d169', 'type': 'tool_call'}], usage_metadata={'input_tokens': 314, 'output_tokens': 29, 'total_tokens': 343})}}}, 'parent_ids': []}\n",
      "{'event': 'on_chain_start', 'data': {'input': {'messages': [HumanMessage(content='Calculate (123+5) - (2*3)', additional_kwargs={}, response_metadata={}, id='ad51f9b5-d6d5-4112-b83a-022bdadcf511'), AIMessage(content='', additional_kwargs={}, response_metadata={'model': 'llama3.2:1b', 'created_at': '2025-08-23T12:58:42.5531805Z', 'done': True, 'done_reason': 'stop', 'total_duration': 7968358800, 'load_duration': 28800300, 'prompt_eval_count': 314, 'prompt_eval_duration': 5805621600, 'eval_count': 29, 'eval_duration': 2132216200, 'model_name': 'llama3.2:1b'}, id='run--5167b6d1-f58e-4f7b-afef-247250314443-0', tool_calls=[{'name': 'suma', 'args': {'query': '(123+5) - (2*3)'}, 'id': '01a2994a-7406-41af-8f5c-2caee7b2d169', 'type': 'tool_call'}], usage_metadata={'input_tokens': 314, 'output_tokens': 29, 'total_tokens': 343})]}}, 'name': 'tools', 'tags': ['graph:step:2'], 'run_id': '891b0988-0eaf-4437-bf52-f124f081ea3f', 'metadata': {'langgraph_step': 2, 'langgraph_node': 'tools', 'langgraph_triggers': ('branch:to:tools',), 'langgraph_path': ('__pregel_pull', 'tools'), 'langgraph_checkpoint_ns': 'tools:6bc494d1-d7a0-9528-65b0-34f60299bd51'}, 'parent_ids': ['ec4eb3c3-77df-4efe-a172-62786fb0f53e']}\n",
      "{'event': 'on_tool_start', 'data': {'input': {'query': '(123+5) - (2*3)'}}, 'name': 'suma', 'tags': ['seq:step:1'], 'run_id': 'cd7d7575-ce26-4696-9857-541ae605fe8b', 'metadata': {'langgraph_step': 2, 'langgraph_node': 'tools', 'langgraph_triggers': ('branch:to:tools',), 'langgraph_path': ('__pregel_pull', 'tools'), 'langgraph_checkpoint_ns': 'tools:6bc494d1-d7a0-9528-65b0-34f60299bd51', 'checkpoint_ns': 'tools:6bc494d1-d7a0-9528-65b0-34f60299bd51'}, 'parent_ids': ['ec4eb3c3-77df-4efe-a172-62786fb0f53e', '891b0988-0eaf-4437-bf52-f124f081ea3f']}\n",
      "(123+5) - (2*3)\n",
      "{'event': 'on_tool_end', 'data': {'output': ToolMessage(content='122', name='suma', tool_call_id='01a2994a-7406-41af-8f5c-2caee7b2d169'), 'input': {'query': '(123+5) - (2*3)'}}, 'run_id': 'cd7d7575-ce26-4696-9857-541ae605fe8b', 'name': 'suma', 'tags': ['seq:step:1'], 'metadata': {'langgraph_step': 2, 'langgraph_node': 'tools', 'langgraph_triggers': ('branch:to:tools',), 'langgraph_path': ('__pregel_pull', 'tools'), 'langgraph_checkpoint_ns': 'tools:6bc494d1-d7a0-9528-65b0-34f60299bd51', 'checkpoint_ns': 'tools:6bc494d1-d7a0-9528-65b0-34f60299bd51'}, 'parent_ids': ['ec4eb3c3-77df-4efe-a172-62786fb0f53e', '891b0988-0eaf-4437-bf52-f124f081ea3f']}\n",
      "{'event': 'on_chain_stream', 'run_id': '891b0988-0eaf-4437-bf52-f124f081ea3f', 'name': 'tools', 'tags': ['graph:step:2'], 'metadata': {'langgraph_step': 2, 'langgraph_node': 'tools', 'langgraph_triggers': ('branch:to:tools',), 'langgraph_path': ('__pregel_pull', 'tools'), 'langgraph_checkpoint_ns': 'tools:6bc494d1-d7a0-9528-65b0-34f60299bd51'}, 'data': {'chunk': {'messages': [ToolMessage(content='122', name='suma', tool_call_id='01a2994a-7406-41af-8f5c-2caee7b2d169')]}}, 'parent_ids': ['ec4eb3c3-77df-4efe-a172-62786fb0f53e']}\n",
      "{'event': 'on_chain_end', 'data': {'output': {'messages': [ToolMessage(content='122', name='suma', tool_call_id='01a2994a-7406-41af-8f5c-2caee7b2d169')]}, 'input': {'messages': [HumanMessage(content='Calculate (123+5) - (2*3)', additional_kwargs={}, response_metadata={}, id='ad51f9b5-d6d5-4112-b83a-022bdadcf511'), AIMessage(content='', additional_kwargs={}, response_metadata={'model': 'llama3.2:1b', 'created_at': '2025-08-23T12:58:42.5531805Z', 'done': True, 'done_reason': 'stop', 'total_duration': 7968358800, 'load_duration': 28800300, 'prompt_eval_count': 314, 'prompt_eval_duration': 5805621600, 'eval_count': 29, 'eval_duration': 2132216200, 'model_name': 'llama3.2:1b'}, id='run--5167b6d1-f58e-4f7b-afef-247250314443-0', tool_calls=[{'name': 'suma', 'args': {'query': '(123+5) - (2*3)'}, 'id': '01a2994a-7406-41af-8f5c-2caee7b2d169', 'type': 'tool_call'}], usage_metadata={'input_tokens': 314, 'output_tokens': 29, 'total_tokens': 343})]}}, 'run_id': '891b0988-0eaf-4437-bf52-f124f081ea3f', 'name': 'tools', 'tags': ['graph:step:2'], 'metadata': {'langgraph_step': 2, 'langgraph_node': 'tools', 'langgraph_triggers': ('branch:to:tools',), 'langgraph_path': ('__pregel_pull', 'tools'), 'langgraph_checkpoint_ns': 'tools:6bc494d1-d7a0-9528-65b0-34f60299bd51'}, 'parent_ids': ['ec4eb3c3-77df-4efe-a172-62786fb0f53e']}\n",
      "{'event': 'on_chain_stream', 'run_id': 'ec4eb3c3-77df-4efe-a172-62786fb0f53e', 'name': 'LangGraph', 'tags': [], 'metadata': {}, 'data': {'chunk': {'tools': {'messages': [ToolMessage(content='122', name='suma', id='7745b470-33fc-42d2-b99a-75184113cfe9', tool_call_id='01a2994a-7406-41af-8f5c-2caee7b2d169')]}}}, 'parent_ids': []}\n",
      "{'event': 'on_chain_start', 'data': {'input': {'messages': [HumanMessage(content='Calculate (123+5) - (2*3)', additional_kwargs={}, response_metadata={}, id='ad51f9b5-d6d5-4112-b83a-022bdadcf511'), AIMessage(content='', additional_kwargs={}, response_metadata={'model': 'llama3.2:1b', 'created_at': '2025-08-23T12:58:42.5531805Z', 'done': True, 'done_reason': 'stop', 'total_duration': 7968358800, 'load_duration': 28800300, 'prompt_eval_count': 314, 'prompt_eval_duration': 5805621600, 'eval_count': 29, 'eval_duration': 2132216200, 'model_name': 'llama3.2:1b'}, id='run--5167b6d1-f58e-4f7b-afef-247250314443-0', tool_calls=[{'name': 'suma', 'args': {'query': '(123+5) - (2*3)'}, 'id': '01a2994a-7406-41af-8f5c-2caee7b2d169', 'type': 'tool_call'}], usage_metadata={'input_tokens': 314, 'output_tokens': 29, 'total_tokens': 343}), ToolMessage(content='122', name='suma', id='7745b470-33fc-42d2-b99a-75184113cfe9', tool_call_id='01a2994a-7406-41af-8f5c-2caee7b2d169')]}}, 'name': 'model', 'tags': ['graph:step:3'], 'run_id': '641f14bc-80b5-461a-ab87-2a3717ae795d', 'metadata': {'langgraph_step': 3, 'langgraph_node': 'model', 'langgraph_triggers': ('branch:to:model',), 'langgraph_path': ('__pregel_pull', 'model'), 'langgraph_checkpoint_ns': 'model:9608a444-680f-49b8-defa-4ec2656a06d5'}, 'parent_ids': ['ec4eb3c3-77df-4efe-a172-62786fb0f53e']}\n",
      "{'event': 'on_chain_start', 'data': {'input': {'messages': [HumanMessage(content='Calculate (123+5) - (2*3)', additional_kwargs={}, response_metadata={}, id='ad51f9b5-d6d5-4112-b83a-022bdadcf511'), AIMessage(content='', additional_kwargs={}, response_metadata={'model': 'llama3.2:1b', 'created_at': '2025-08-23T12:58:42.5531805Z', 'done': True, 'done_reason': 'stop', 'total_duration': 7968358800, 'load_duration': 28800300, 'prompt_eval_count': 314, 'prompt_eval_duration': 5805621600, 'eval_count': 29, 'eval_duration': 2132216200, 'model_name': 'llama3.2:1b'}, id='run--5167b6d1-f58e-4f7b-afef-247250314443-0', tool_calls=[{'name': 'suma', 'args': {'query': '(123+5) - (2*3)'}, 'id': '01a2994a-7406-41af-8f5c-2caee7b2d169', 'type': 'tool_call'}], usage_metadata={'input_tokens': 314, 'output_tokens': 29, 'total_tokens': 343}), ToolMessage(content='122', name='suma', id='7745b470-33fc-42d2-b99a-75184113cfe9', tool_call_id='01a2994a-7406-41af-8f5c-2caee7b2d169'), AIMessage(content='The calculation result is 122.', additional_kwargs={}, response_metadata={'model': 'llama3.2:1b', 'created_at': '2025-08-23T12:58:44.5085189Z', 'done': True, 'done_reason': 'stop', 'total_duration': 1939239900, 'load_duration': 111350600, 'prompt_eval_count': 105, 'prompt_eval_duration': 1303020600, 'eval_count': 8, 'eval_duration': 523106100, 'model_name': 'llama3.2:1b'}, id='run--b356ca4d-1a71-4147-810b-995fadb0aaf3-0', usage_metadata={'input_tokens': 105, 'output_tokens': 8, 'total_tokens': 113})]}}, 'name': 'tools_condition', 'tags': ['seq:step:3'], 'run_id': 'ec3b2fc9-d024-406f-8531-ff1e30f5f7b1', 'metadata': {'langgraph_step': 3, 'langgraph_node': 'model', 'langgraph_triggers': ('branch:to:model',), 'langgraph_path': ('__pregel_pull', 'model'), 'langgraph_checkpoint_ns': 'model:9608a444-680f-49b8-defa-4ec2656a06d5'}, 'parent_ids': ['ec4eb3c3-77df-4efe-a172-62786fb0f53e', '641f14bc-80b5-461a-ab87-2a3717ae795d']}\n",
      "{'event': 'on_chain_end', 'data': {'output': '__end__', 'input': {'messages': [HumanMessage(content='Calculate (123+5) - (2*3)', additional_kwargs={}, response_metadata={}, id='ad51f9b5-d6d5-4112-b83a-022bdadcf511'), AIMessage(content='', additional_kwargs={}, response_metadata={'model': 'llama3.2:1b', 'created_at': '2025-08-23T12:58:42.5531805Z', 'done': True, 'done_reason': 'stop', 'total_duration': 7968358800, 'load_duration': 28800300, 'prompt_eval_count': 314, 'prompt_eval_duration': 5805621600, 'eval_count': 29, 'eval_duration': 2132216200, 'model_name': 'llama3.2:1b'}, id='run--5167b6d1-f58e-4f7b-afef-247250314443-0', tool_calls=[{'name': 'suma', 'args': {'query': '(123+5) - (2*3)'}, 'id': '01a2994a-7406-41af-8f5c-2caee7b2d169', 'type': 'tool_call'}], usage_metadata={'input_tokens': 314, 'output_tokens': 29, 'total_tokens': 343}), ToolMessage(content='122', name='suma', id='7745b470-33fc-42d2-b99a-75184113cfe9', tool_call_id='01a2994a-7406-41af-8f5c-2caee7b2d169'), AIMessage(content='The calculation result is 122.', additional_kwargs={}, response_metadata={'model': 'llama3.2:1b', 'created_at': '2025-08-23T12:58:44.5085189Z', 'done': True, 'done_reason': 'stop', 'total_duration': 1939239900, 'load_duration': 111350600, 'prompt_eval_count': 105, 'prompt_eval_duration': 1303020600, 'eval_count': 8, 'eval_duration': 523106100, 'model_name': 'llama3.2:1b'}, id='run--b356ca4d-1a71-4147-810b-995fadb0aaf3-0', usage_metadata={'input_tokens': 105, 'output_tokens': 8, 'total_tokens': 113})]}}, 'run_id': 'ec3b2fc9-d024-406f-8531-ff1e30f5f7b1', 'name': 'tools_condition', 'tags': ['seq:step:3'], 'metadata': {'langgraph_step': 3, 'langgraph_node': 'model', 'langgraph_triggers': ('branch:to:model',), 'langgraph_path': ('__pregel_pull', 'model'), 'langgraph_checkpoint_ns': 'model:9608a444-680f-49b8-defa-4ec2656a06d5'}, 'parent_ids': ['ec4eb3c3-77df-4efe-a172-62786fb0f53e', '641f14bc-80b5-461a-ab87-2a3717ae795d']}\n",
      "{'event': 'on_chain_stream', 'run_id': '641f14bc-80b5-461a-ab87-2a3717ae795d', 'name': 'model', 'tags': ['graph:step:3'], 'metadata': {'langgraph_step': 3, 'langgraph_node': 'model', 'langgraph_triggers': ('branch:to:model',), 'langgraph_path': ('__pregel_pull', 'model'), 'langgraph_checkpoint_ns': 'model:9608a444-680f-49b8-defa-4ec2656a06d5'}, 'data': {'chunk': {'messages': AIMessage(content='The calculation result is 122.', additional_kwargs={}, response_metadata={'model': 'llama3.2:1b', 'created_at': '2025-08-23T12:58:44.5085189Z', 'done': True, 'done_reason': 'stop', 'total_duration': 1939239900, 'load_duration': 111350600, 'prompt_eval_count': 105, 'prompt_eval_duration': 1303020600, 'eval_count': 8, 'eval_duration': 523106100, 'model_name': 'llama3.2:1b'}, id='run--b356ca4d-1a71-4147-810b-995fadb0aaf3-0', usage_metadata={'input_tokens': 105, 'output_tokens': 8, 'total_tokens': 113})}}, 'parent_ids': ['ec4eb3c3-77df-4efe-a172-62786fb0f53e']}\n",
      "{'event': 'on_chain_end', 'data': {'output': {'messages': AIMessage(content='The calculation result is 122.', additional_kwargs={}, response_metadata={'model': 'llama3.2:1b', 'created_at': '2025-08-23T12:58:44.5085189Z', 'done': True, 'done_reason': 'stop', 'total_duration': 1939239900, 'load_duration': 111350600, 'prompt_eval_count': 105, 'prompt_eval_duration': 1303020600, 'eval_count': 8, 'eval_duration': 523106100, 'model_name': 'llama3.2:1b'}, id='run--b356ca4d-1a71-4147-810b-995fadb0aaf3-0', usage_metadata={'input_tokens': 105, 'output_tokens': 8, 'total_tokens': 113})}, 'input': {'messages': [HumanMessage(content='Calculate (123+5) - (2*3)', additional_kwargs={}, response_metadata={}, id='ad51f9b5-d6d5-4112-b83a-022bdadcf511'), AIMessage(content='', additional_kwargs={}, response_metadata={'model': 'llama3.2:1b', 'created_at': '2025-08-23T12:58:42.5531805Z', 'done': True, 'done_reason': 'stop', 'total_duration': 7968358800, 'load_duration': 28800300, 'prompt_eval_count': 314, 'prompt_eval_duration': 5805621600, 'eval_count': 29, 'eval_duration': 2132216200, 'model_name': 'llama3.2:1b'}, id='run--5167b6d1-f58e-4f7b-afef-247250314443-0', tool_calls=[{'name': 'suma', 'args': {'query': '(123+5) - (2*3)'}, 'id': '01a2994a-7406-41af-8f5c-2caee7b2d169', 'type': 'tool_call'}], usage_metadata={'input_tokens': 314, 'output_tokens': 29, 'total_tokens': 343}), ToolMessage(content='122', name='suma', id='7745b470-33fc-42d2-b99a-75184113cfe9', tool_call_id='01a2994a-7406-41af-8f5c-2caee7b2d169')]}}, 'run_id': '641f14bc-80b5-461a-ab87-2a3717ae795d', 'name': 'model', 'tags': ['graph:step:3'], 'metadata': {'langgraph_step': 3, 'langgraph_node': 'model', 'langgraph_triggers': ('branch:to:model',), 'langgraph_path': ('__pregel_pull', 'model'), 'langgraph_checkpoint_ns': 'model:9608a444-680f-49b8-defa-4ec2656a06d5'}, 'parent_ids': ['ec4eb3c3-77df-4efe-a172-62786fb0f53e']}\n",
      "{'event': 'on_chain_stream', 'run_id': 'ec4eb3c3-77df-4efe-a172-62786fb0f53e', 'name': 'LangGraph', 'tags': [], 'metadata': {}, 'data': {'chunk': {'model': {'messages': AIMessage(content='The calculation result is 122.', additional_kwargs={}, response_metadata={'model': 'llama3.2:1b', 'created_at': '2025-08-23T12:58:44.5085189Z', 'done': True, 'done_reason': 'stop', 'total_duration': 1939239900, 'load_duration': 111350600, 'prompt_eval_count': 105, 'prompt_eval_duration': 1303020600, 'eval_count': 8, 'eval_duration': 523106100, 'model_name': 'llama3.2:1b'}, id='run--b356ca4d-1a71-4147-810b-995fadb0aaf3-0', usage_metadata={'input_tokens': 105, 'output_tokens': 8, 'total_tokens': 113})}}}, 'parent_ids': []}\n",
      "{'event': 'on_chain_end', 'data': {'output': {'messages': [HumanMessage(content='Calculate (123+5) - (2*3)', additional_kwargs={}, response_metadata={}, id='ad51f9b5-d6d5-4112-b83a-022bdadcf511'), AIMessage(content='', additional_kwargs={}, response_metadata={'model': 'llama3.2:1b', 'created_at': '2025-08-23T12:58:42.5531805Z', 'done': True, 'done_reason': 'stop', 'total_duration': 7968358800, 'load_duration': 28800300, 'prompt_eval_count': 314, 'prompt_eval_duration': 5805621600, 'eval_count': 29, 'eval_duration': 2132216200, 'model_name': 'llama3.2:1b'}, id='run--5167b6d1-f58e-4f7b-afef-247250314443-0', tool_calls=[{'name': 'suma', 'args': {'query': '(123+5) - (2*3)'}, 'id': '01a2994a-7406-41af-8f5c-2caee7b2d169', 'type': 'tool_call'}], usage_metadata={'input_tokens': 314, 'output_tokens': 29, 'total_tokens': 343}), ToolMessage(content='122', name='suma', id='7745b470-33fc-42d2-b99a-75184113cfe9', tool_call_id='01a2994a-7406-41af-8f5c-2caee7b2d169'), AIMessage(content='The calculation result is 122.', additional_kwargs={}, response_metadata={'model': 'llama3.2:1b', 'created_at': '2025-08-23T12:58:44.5085189Z', 'done': True, 'done_reason': 'stop', 'total_duration': 1939239900, 'load_duration': 111350600, 'prompt_eval_count': 105, 'prompt_eval_duration': 1303020600, 'eval_count': 8, 'eval_duration': 523106100, 'model_name': 'llama3.2:1b'}, id='run--b356ca4d-1a71-4147-810b-995fadb0aaf3-0', usage_metadata={'input_tokens': 105, 'output_tokens': 8, 'total_tokens': 113})]}}, 'run_id': 'ec4eb3c3-77df-4efe-a172-62786fb0f53e', 'name': 'LangGraph', 'tags': [], 'metadata': {}, 'parent_ids': []}\n"
     ]
    }
   ],
   "source": [
    "async for event in output:\n",
    "    print(event)\n",
    "    if event[\"event\"] == \"on_chat_model_stream\":\n",
    "        content = event[\"data\"][\"chunk\"].content\n",
    "        if content:\n",
    "            print(content)"
   ]
  },
  {
   "cell_type": "code",
   "execution_count": null,
   "id": "154b9b8a",
   "metadata": {},
   "outputs": [],
   "source": []
  }
 ],
 "metadata": {
  "kernelspec": {
   "display_name": "venv",
   "language": "python",
   "name": "python3"
  },
  "language_info": {
   "codemirror_mode": {
    "name": "ipython",
    "version": 3
   },
   "file_extension": ".py",
   "mimetype": "text/x-python",
   "name": "python",
   "nbconvert_exporter": "python",
   "pygments_lexer": "ipython3",
   "version": "3.10.0"
  }
 },
 "nbformat": 4,
 "nbformat_minor": 5
}
