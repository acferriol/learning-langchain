{
 "cells": [
  {
   "cell_type": "markdown",
   "id": "416ce213",
   "metadata": {},
   "source": [
    "# Agent Architecture\n",
    "\n",
    "> An agentic LLM application must be one that uses an LLM to pick from one or more possible courses of action, given some context about the current state of the world or some desired next state.\n",
    "\n",
    "* Tool Calling\n",
    "* Chain-of-thought"
   ]
  },
  {
   "cell_type": "markdown",
   "id": "83f5d5c2",
   "metadata": {},
   "source": [
    "## Plan-Do loop\n",
    "\n",
    "- Planning actions\n",
    "- Execute"
   ]
  },
  {
   "cell_type": "markdown",
   "id": "c978e045",
   "metadata": {},
   "source": []
  }
 ],
 "metadata": {
  "language_info": {
   "name": "python"
  }
 },
 "nbformat": 4,
 "nbformat_minor": 5
}
