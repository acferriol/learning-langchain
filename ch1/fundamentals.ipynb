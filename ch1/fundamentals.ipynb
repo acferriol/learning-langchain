{
 "cells": [
  {
   "cell_type": "code",
   "execution_count": 14,
   "id": "823c4436",
   "metadata": {},
   "outputs": [],
   "source": [
    "# Get apikey\n",
    "import dotenv\n",
    "import os\n",
    "\n",
    "dotenv.load_dotenv()\n",
    "apikey = os.getenv(\"AI-API-KEY\")"
   ]
  },
  {
   "cell_type": "code",
   "execution_count": 24,
   "id": "12bdc337",
   "metadata": {},
   "outputs": [],
   "source": [
    "from langchain_openai.llms import OpenAI\n",
    "from langchain_ollama import OllamaLLM\n",
    "\n",
    "try:\n",
    "    model = OpenAI(\n",
    "        base_url=\"https://openrouter.ai/api/v1\",\n",
    "        api_key=apikey,\n",
    "        model=\"mistralai/mistral-small-3.2-24b-instruct:free\",\n",
    "        #temperature = 0.7\n",
    "        #max_tokens = 256\n",
    "    )\n",
    "    model.invoke(\"The sky is\")\n",
    "except:\n",
    "    model = OllamaLLM(\n",
    "        base_url=\"http://localhost:11434\",\n",
    "        model = \"deepseek-r1:8b\",\n",
    "        temperature= 0.8,\n",
    "        max_tokens = 2\n",
    "    )"
   ]
  },
  {
   "cell_type": "code",
   "execution_count": 25,
   "id": "dc33a070",
   "metadata": {},
   "outputs": [
    {
     "data": {
      "text/plain": [
       "\"<think>\\n\\n</think>\\n\\nThe sky is a vast, mostly empty space that covers the Earth in all directions, from the top of the stratosphere to the horizon and beyond. It includes the Earth's atmosphere, which has various layers like the troposphere, stratosphere, mesosphere, and ionosphere. The sky varies in appearance depending on factors like weather conditions, time of day, and atmospheric composition.\\n\\nIf you're referring to something specific about the sky, feel free to clarify!\""
      ]
     },
     "execution_count": 25,
     "metadata": {},
     "output_type": "execute_result"
    }
   ],
   "source": [
    "model.invoke(\"The sky is\")"
   ]
  },
  {
   "cell_type": "code",
   "execution_count": 32,
   "id": "cb730779",
   "metadata": {},
   "outputs": [],
   "source": [
    "from langchain_ollama import ChatOllama\n",
    "from langchain_core.messages import HumanMessage, SystemMessage"
   ]
  },
  {
   "cell_type": "code",
   "execution_count": 38,
   "id": "72895403",
   "metadata": {},
   "outputs": [],
   "source": [
    "model = ChatOllama(\n",
    "    base_url=\"http://localhost:11434\",\n",
    "    model = \"deepseek-r1:8b\",\n",
    "    reasoning=False,\n",
    ")"
   ]
  },
  {
   "cell_type": "code",
   "execution_count": 39,
   "id": "0a100704",
   "metadata": {},
   "outputs": [],
   "source": [
    "human_message = HumanMessage(\"What is the capital of United Kingdom\")\n",
    "system_message = SystemMessage(\"\"\" \n",
    "You are a helpful assitant that answer queries with one word inside exclamations marks\"\"\"\n",
    "                               )"
   ]
  },
  {
   "cell_type": "code",
   "execution_count": 40,
   "id": "b29e9e4a",
   "metadata": {},
   "outputs": [],
   "source": [
    "prompt = [system_message, human_message]"
   ]
  },
  {
   "cell_type": "code",
   "execution_count": 41,
   "id": "10ea6c94",
   "metadata": {},
   "outputs": [
    {
     "data": {
      "text/plain": [
       "AIMessage(content='<think>\\nOkay, so I\\'m trying to figure out the capital of the United Kingdom. I remember hearing it\\'s London, but I want to make sure I\\'m not mixing anything up. Maybe it\\'s a common mistake? I should check my facts.\\n\\nWait, the user mentioned \"London\" as the capital in their query. That seems straightforward, but maybe there are nuances. I know that sometimes people confuse the capital with other cities like Edinburgh or Cardiff, which are significant locations but not capitals. For instance, Edinburgh is the capital of Scotland, and Cardiff is the capital of Wales. But when it comes to the entire UK, London is definitely the main one.\\n\\nLet me think about historical contexts too. London has been a central city for centuries, especially during the rise of the British Empire. It\\'s often associated with significant events in world history, which further solidifies its status as the capital. I don\\'t recall any changes to this status, so it should still be London.\\n\\nAnother point is the government and administrative centers. The UK government is based in London, with key institutions like the Parliament, the Prime Minister\\'s office, and other departments located there. That reinforces London\\'s role as the capital.\\n\\nI guess some people might think of other cities as capitals because they\\'re prominent in their own regions or for cultural reasons. But in terms of official and governmental terminology, London is without a doubt the capital of the United Kingdom.\\n</think>\\n\\nThe capital of the United Kingdom is London!', additional_kwargs={}, response_metadata={'model': 'deepseek-r1:8b', 'created_at': '2025-07-20T15:54:59.7142914Z', 'done': True, 'done_reason': 'stop', 'total_duration': 132313238800, 'load_duration': 131474100, 'prompt_eval_count': 28, 'prompt_eval_duration': 7364473000, 'eval_count': 300, 'eval_duration': 124812883100, 'model_name': 'deepseek-r1:8b'}, id='run--307c0f2e-b703-4298-8323-dc38c831a885-0', usage_metadata={'input_tokens': 28, 'output_tokens': 300, 'total_tokens': 328})"
      ]
     },
     "execution_count": 41,
     "metadata": {},
     "output_type": "execute_result"
    }
   ],
   "source": [
    "model.invoke(prompt)"
   ]
  },
  {
   "cell_type": "code",
   "execution_count": null,
   "id": "f4d93cf0",
   "metadata": {},
   "outputs": [],
   "source": []
  }
 ],
 "metadata": {
  "kernelspec": {
   "display_name": "venv",
   "language": "python",
   "name": "python3"
  },
  "language_info": {
   "codemirror_mode": {
    "name": "ipython",
    "version": 3
   },
   "file_extension": ".py",
   "mimetype": "text/x-python",
   "name": "python",
   "nbconvert_exporter": "python",
   "pygments_lexer": "ipython3",
   "version": "3.10.0"
  }
 },
 "nbformat": 4,
 "nbformat_minor": 5
}
