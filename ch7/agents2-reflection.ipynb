{
 "cells": [
  {
   "cell_type": "markdown",
   "id": "31cdb0e6",
   "metadata": {},
   "source": [
    "# Agents II - Reflection\n",
    "\n",
    "* Refelction:  Taking another page out of the repertoire of human thought patterns,\n",
    " this is about giving your LLM app the opportunity to analyze its past\n",
    " output and choices, together with the ability to remember reflections\n",
    " from past iterations."
   ]
  },
  {
   "cell_type": "code",
   "execution_count": 1,
   "id": "b767c009",
   "metadata": {},
   "outputs": [],
   "source": [
    "from typing import Annotated, TypedDict\n",
    "\n",
    "from langchain_core.messages import (\n",
    "    AIMessage,\n",
    "    BaseMessage,\n",
    "    HumanMessage,\n",
    "    SystemMessage,\n",
    ")\n",
    "from langchain_ollama import ChatOllama\n",
    "\n",
    "from langgraph.graph import END, START, StateGraph\n",
    "from langgraph.graph.message import add_messages\n"
   ]
  },
  {
   "cell_type": "code",
   "execution_count": 20,
   "id": "e0eacbaa",
   "metadata": {},
   "outputs": [],
   "source": [
    "model = ChatOllama(model=\"llama3.2:1b\")\n",
    "\n",
    "class State(TypedDict):\n",
    "    messages: Annotated[list[BaseMessage], add_messages]"
   ]
  },
  {
   "cell_type": "code",
   "execution_count": 21,
   "id": "848b9b13",
   "metadata": {},
   "outputs": [],
   "source": [
    "generate_prompt = SystemMessage(\n",
    "    \"\"\"You are an essay assistant tasked with writing excellent 3-paragraph \n",
    "        essays.\"\"\"\n",
    "    \"Generate the best essay possible for the user's request.\"\n",
    "    \"\"\"If the user provides critique, respond with a revised version of your \n",
    "        previous attempts.\"\"\"\n",
    ")\n",
    "\n",
    "def generate(state: State) -> State:\n",
    "    answer = model.invoke([generate_prompt] + state[\"messages\"])\n",
    "    return {\"messages\": [answer]}"
   ]
  },
  {
   "cell_type": "code",
   "execution_count": 22,
   "id": "8f70a60c",
   "metadata": {},
   "outputs": [],
   "source": [
    "reflection_prompt = SystemMessage(\n",
    "    \"\"\"You are a teacher grading an essay submission. Generate critique and \n",
    "        recommendations for the user's submission.\"\"\"\n",
    "    \"\"\"Provide detailed recommendations, including requests for length, depth, \n",
    "        style, etc.\"\"\"\n",
    ")\n",
    "\n",
    "def reflect(state: State) -> State:\n",
    "    # Invert the messages to get the LLM to reflect on its own output\n",
    "    cls_map = {AIMessage: HumanMessage, HumanMessage: AIMessage}\n",
    "    # First message is the original user request. \n",
    "    # We hold it the same for all nodes\n",
    "    translated = [reflection_prompt, state[\"messages\"][0]] + [\n",
    "        cls_map[msg.__class__](content=msg.content) \n",
    "            for msg in state[\"messages\"][1:]\n",
    "    ]\n",
    "    answer = model.invoke(translated)\n",
    "    # We treat the output of this as human feedback for the generator\n",
    "    return {\"messages\": [HumanMessage(content=answer.content)]}"
   ]
  },
  {
   "cell_type": "code",
   "execution_count": 23,
   "id": "1eeacd5f",
   "metadata": {},
   "outputs": [],
   "source": [
    "def should_continue(state: State):\n",
    "    if len(state[\"messages\"]) > 2:\n",
    "        # End after 3 iterations, each with 2 messages\n",
    "        return END\n",
    "    else:\n",
    "        return \"reflect\"\n"
   ]
  },
  {
   "cell_type": "code",
   "execution_count": 24,
   "id": "cb651812",
   "metadata": {},
   "outputs": [],
   "source": [
    "builder = StateGraph(State)\n",
    "builder.add_node(\"generate\", generate)\n",
    "builder.add_node(\"reflect\", reflect)\n",
    "builder.add_edge(START, \"generate\")\n",
    "builder.add_conditional_edges(\"generate\", should_continue)\n",
    "builder.add_edge(\"reflect\", \"generate\")\n",
    "\n",
    "graph = builder.compile()"
   ]
  },
  {
   "cell_type": "code",
   "execution_count": 25,
   "id": "7eb8d552",
   "metadata": {},
   "outputs": [
    {
     "name": "stdout",
     "output_type": "stream",
     "text": [
      "{'generate': {'messages': [AIMessage(content='Here is a 3-paragraph essay about \"The Little Prince\":\\n\\n\"The Little Prince\" is a timeless novella written by Antoine de Saint-Exupéry, first published in 1943. The story follows the journey of a young prince who travels from his own asteroid to various other planets, meeting strange characters along the way. Through his adventures, the little prince learns valuable lessons about love, friendship, and the importance of human connections.\\n\\nAs the little prince navigates through space, he encounters a diverse array of inhabitants, each with their unique characteristics and perspectives. There\\'s the rose who represents the beauty of love; the fox who symbolizes cunning and adaptability; and the king who embodies the power of authority. However, as the story progresses, it becomes clear that these characters are not what they seem, and that the little prince must confront the harsh realities of life on his own planet. Through this journey, de Saint-Exupéry explores complex themes such as loneliness, isolation, and the human condition.\\n\\nUltimately, the little prince\\'s journey takes him to a final destination, where he meets an old pilot who has traveled from planet to planet, collecting stories and memories. The old pilot reflects on the significance of these stories and the importance of holding onto human connections in a world that often values material possessions and superficial relationships. The novella concludes with the little prince returning to his own asteroid, but not before imparting a profound message about the value of love and empathy. \"The Little Prince\" remains a powerful and poignant tale that continues to resonate with readers of all ages, offering insights into the human experience and the importance of cherishing what truly matters in life.', additional_kwargs={}, response_metadata={'model': 'llama3.2:1b', 'created_at': '2025-08-11T01:03:25.5723645Z', 'done': True, 'done_reason': 'stop', 'total_duration': 26646458600, 'load_duration': 1482851400, 'prompt_eval_count': 75, 'prompt_eval_duration': 1162934900, 'eval_count': 338, 'eval_duration': 23999372200, 'model_name': 'llama3.2:1b'}, id='run--2299d70e-4b78-443d-aa80-12919c2a225e-0', usage_metadata={'input_tokens': 75, 'output_tokens': 338, 'total_tokens': 413})]}}\n",
      "{'reflect': {'messages': [HumanMessage(content='Here is a detailed critique and recommendation for your 3-paragraph essay on \"The Little Prince\":\\n\\n**Strengths:**\\n\\n* Your introduction effectively sets up the story and its themes, providing a clear understanding of the narrative.\\n* You provide a good overview of the main characters and their roles in the story, which helps to establish the novella\\'s tone and atmosphere.\\n* Your analysis of the little prince\\'s journey is thorough and insightful, highlighting the novel\\'s exploration of complex themes such as loneliness and human connections.\\n\\n**Weaknesses:**\\n\\n* Your writing could benefit from more nuanced and detailed descriptions of the characters. For example, you mention that the rose represents beauty, but you don\\'t elaborate on what specifically about the rose makes it beautiful or how this relates to its relationship with the little prince.\\n* Additionally, you touch on the themes of loneliness and isolation without fully exploring their significance in the context of the story. Consider delving deeper into these themes and how they are developed throughout the narrative.\\n* While your conclusion effectively summarizes the novella\\'s message and impact, it feels a bit too straightforward. You might consider adding more depth or complexity to your analysis by incorporating more literary devices, such as symbolism or metaphor.\\n\\n**Recommendations:**\\n\\n* Consider expanding on your description of the rose. What specific qualities make it beautiful? How does its relationship with the little prince contribute to their journey?\\n* To further develop your analysis of loneliness and isolation, you might explore how these themes are intertwined throughout the story. For example, how does the little prince\\'s experience in space lead him to appreciate the beauty of human connections, or how do his encounters with strange characters highlight the impermanence of relationships?\\n* When discussing the significance of the old pilot\\'s stories, you might consider emphasizing their role as a catalyst for the little prince\\'s growth and self-discovery. How do these stories change the little prince\\'s perspective on life and relationships? What does this reveal about the importance of holding onto human connections in a world that often values material possessions?\\n* Finally, when concluding your essay, you might choose to integrate more literary devices or themes from the novella into your analysis. This could help to deepen your understanding of the story and its significance, as well as make your writing more engaging and persuasive.\\n\\n**Length:**\\n\\nYour essay is currently at 370 words, which is a bit above the recommended length for an introduction paragraph (typically around 100-150 words). Consider condensing your introduction to focus on the most essential information and ideas. Additionally, you might consider incorporating more transitions between paragraphs to create a smoother flow of ideas.\\n\\n**Depth:**\\n\\nYour analysis could benefit from more specific examples or quotes from the novella to support your arguments. Additionally, you might consider exploring different perspectives or interpretations of the story to add depth and complexity to your analysis. For example, how do critics have interpreted the novella in terms of its portrayal of colonialism, or its use of symbolism?\\n\\n**Style:**\\n\\nYour writing is clear and concise, but could benefit from more descriptive language and sensory details to bring the story to life. Additionally, you might consider varying your sentence structure to create a more dynamic rhythm.', additional_kwargs={}, response_metadata={}, id='f057050e-c17f-44c5-9cea-28307e1475d1')]}}\n",
      "{'generate': {'messages': [AIMessage(content='Here\\'s a revised version of the essay, addressing the critiques and recommendations mentioned above:\\n\\nIn \"The Little Prince,\" Antoine de Saint-Exupéry crafts a poignant tale that explores the complexities of human relationships and the importance of holding onto love in a world that often values material possessions. Through the journey of a young prince who travels from his asteroid to various other planets, de Saint-Exupéry navigates themes of loneliness, isolation, and the impermanence of connections. One of the most striking aspects of this novella is its use of symbolism, particularly in the character of the rose, which represents the beauty of love and relationships.\\n\\nThe rose serves as a poignant symbol for the little prince\\'s experiences on his own planet. Its delicate petals and vibrant colors evoke a sense of wonder and curiosity, highlighting the importance of human connections in our lives. However, when the little prince encounters the fox, a cunning and adaptable character who embodies the impermanence of relationships, he begins to realize that these connections are not as stable as they seem. This moment marks a turning point in the story, as the little prince comes to understand that love is not a fixed or permanent thing, but rather a fleeting experience that can be lost at any moment.\\n\\nAs the little prince\\'s journey continues, he meets various characters who represent different aspects of human nature: the king, who symbolizes authority and power; the duke, who represents wealth and material possessions; and the children, who embody the innocence and vulnerability of childhood. Through these encounters, de Saint-Exupéry critiques the societal norms that value superficial relationships over deep connections with others. Ultimately, the little prince\\'s journey takes him to a final destination, where he meets an old pilot who has collected stories from various planets. The old pilot reflects on the significance of these stories and the importance of holding onto human connections in a world that often values material possessions.\\n\\nTo integrate more literary devices or themes into your analysis, you might consider exploring how de Saint-Exupéry uses imagery and metaphor to convey the complexities of human relationships. For example, you could analyze how the rose is depicted as both beautiful and fragile, highlighting the delicate nature of love and relationships. Alternatively, you could examine how the story critiques societal norms by presenting a world that values material possessions over deep connections with others.\\n\\nBy condensing your introduction and incorporating more specific examples or quotes from the novella, you can create a more concise and engaging analysis. Additionally, exploring different perspectives or interpretations of the story could add depth and complexity to your analysis, making it more nuanced and thought-provoking.\\n\\nHere\\'s an updated version of the essay that addresses some of these issues:\\n\\nIn \"The Little Prince,\" Antoine de Saint-Exupéry crafts a poignant tale that explores the complexities of human relationships and the importance of holding onto love in a world that often values material possessions. Through the journey of a young prince who travels from his asteroid to various other planets, de Saint-Exupéry navigates themes of loneliness, isolation, and the impermanence of connections. One of the most striking aspects of this novella is its use of symbolism, particularly in the character of the rose, which represents the beauty of love and relationships.\\n\\nThe rose serves as a poignant symbol for the little prince\\'s experiences on his own planet, where it bloomed and flourished despite being separated from its loved ones. When the little prince encounters the fox, a cunning and adaptable character who embodies the impermanence of relationships, he begins to realize that these connections are not as stable as they seem. This moment marks a turning point in the story, as the little prince comes to understand that love is not a fixed or permanent thing, but rather a fleeting experience that can be lost at any moment.\\n\\nDe Saint-Exupéry\\'s use of imagery and metaphor is also noteworthy, particularly when depicting the rose and its petals. The rose\\'s delicate beauty evokes a sense of wonder and curiosity, while its vibrant colors convey a sense of vitality and life. Similarly, the fox\\'s cunning and adaptability highlight the complexities of human relationships, which often require flexibility and resilience to navigate. By exploring these themes in depth, de Saint-Exupéry critiques societal norms that value superficial relationships over deep connections with others.\\n\\nI hope this revised version meets your requirements! Let me know if you have any further feedback or suggestions.', additional_kwargs={}, response_metadata={'model': 'llama3.2:1b', 'created_at': '2025-08-11T01:05:51.9789238Z', 'done': True, 'done_reason': 'stop', 'total_duration': 91231030500, 'load_duration': 31232600, 'prompt_eval_count': 1064, 'prompt_eval_duration': 23409310700, 'eval_count': 884, 'eval_duration': 67779607400, 'model_name': 'llama3.2:1b'}, id='run--d0b0ad52-ff44-4cc3-899b-babd916943d4-0', usage_metadata={'input_tokens': 1064, 'output_tokens': 884, 'total_tokens': 1948})]}}\n"
     ]
    }
   ],
   "source": [
    "input = {\n",
    "  \"messages\": [\n",
    "    HumanMessage(\"\"\"Write about The Little Prince book\"\"\")\n",
    "  ]\n",
    "}\n",
    "for c in graph.stream(input):\n",
    "    print(c)"
   ]
  },
  {
   "cell_type": "code",
   "execution_count": null,
   "id": "2ac68511",
   "metadata": {},
   "outputs": [],
   "source": []
  }
 ],
 "metadata": {
  "kernelspec": {
   "display_name": "venv",
   "language": "python",
   "name": "python3"
  },
  "language_info": {
   "codemirror_mode": {
    "name": "ipython",
    "version": 3
   },
   "file_extension": ".py",
   "mimetype": "text/x-python",
   "name": "python",
   "nbconvert_exporter": "python",
   "pygments_lexer": "ipython3",
   "version": "3.10.0"
  }
 },
 "nbformat": 4,
 "nbformat_minor": 5
}
