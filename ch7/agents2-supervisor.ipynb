{
 "cells": [
  {
   "cell_type": "markdown",
   "id": "10c67a12",
   "metadata": {},
   "source": [
    "# Supervisor Multi-Agent"
   ]
  },
  {
   "cell_type": "code",
   "execution_count": 4,
   "id": "3a62ad6c",
   "metadata": {},
   "outputs": [],
   "source": [
    "import dotenv\n",
    "import os\n",
    "\n",
    "dotenv.load_dotenv()\n",
    "tavily_key = os.getenv(\"TAVILY_API_KEY\")"
   ]
  },
  {
   "cell_type": "code",
   "execution_count": 5,
   "id": "5e2fd919",
   "metadata": {},
   "outputs": [
    {
     "name": "stdout",
     "output_type": "stream",
     "text": [
      "Mayor Eric Adams has served the people of New York City as an NYPD officer, State Senator, Brooklyn Borough President, and now as the 110th Mayor of the City of New York. Mayor Eric Adams has served the people of New York City as an NYPD officer, State Senator, Brooklyn Borough President, and now as the 110th Mayor of the City of New York. In Albany, Eric built winning coalitions to advance New York City’s values and goals, helping to push through measures to protect tenants and workers, combat gun violence, end the NYPD’s abuses of stop and frisk, and advance human rights — including marriage equality. NYC is a trademark and service mark of the City of New York.\n"
     ]
    }
   ],
   "source": [
    "from langchain_tavily import TavilySearch\n",
    "\n",
    "web_search = TavilySearch(max_results=3)\n",
    "web_search_results = web_search.invoke(\"who is the mayor of NYC?\")\n",
    "\n",
    "print(web_search_results[\"results\"][0][\"content\"])"
   ]
  },
  {
   "cell_type": "markdown",
   "id": "0e255cf2",
   "metadata": {},
   "source": [
    "### Research Agent"
   ]
  },
  {
   "cell_type": "code",
   "execution_count": 6,
   "id": "4aabe27c",
   "metadata": {},
   "outputs": [],
   "source": [
    "from langgraph.prebuilt import create_react_agent\n",
    "from langchain_ollama import ChatOllama\n",
    "\n",
    "llama = ChatOllama(\n",
    "    model = \"llama3.2:1b\",\n",
    "    temperature=0.1\n",
    ")\n",
    "\n",
    "research_agent = create_react_agent(\n",
    "    model=llama,\n",
    "    tools=[web_search],\n",
    "    prompt=(\n",
    "        \"You are a research agent.\\n\\n\"\n",
    "        \"INSTRUCTIONS:\\n\"\n",
    "        \"- Assist ONLY with research-related tasks, DO NOT do any math\\n\"\n",
    "        \"- After you're done with your tasks, respond to the supervisor directly\\n\"\n",
    "        \"- Respond ONLY with the results of your work, do NOT include ANY other text.\"\n",
    "    ),\n",
    "    name=\"research_agent\",\n",
    ")"
   ]
  },
  {
   "cell_type": "code",
   "execution_count": 7,
   "id": "ae848ffd",
   "metadata": {},
   "outputs": [],
   "source": [
    "from langchain_core.messages import convert_to_messages\n",
    "\n",
    "\n",
    "def pretty_print_message(message, indent=False):\n",
    "    pretty_message = message.pretty_repr(html=True)\n",
    "    if not indent:\n",
    "        print(pretty_message)\n",
    "        return\n",
    "\n",
    "    indented = \"\\n\".join(\"\\t\" + c for c in pretty_message.split(\"\\n\"))\n",
    "    print(indented)\n",
    "\n",
    "\n",
    "def pretty_print_messages(update, last_message=False):\n",
    "    is_subgraph = False\n",
    "    if isinstance(update, tuple):\n",
    "        ns, update = update\n",
    "        # skip parent graph updates in the printouts\n",
    "        if len(ns) == 0:\n",
    "            return\n",
    "\n",
    "        graph_id = ns[-1].split(\":\")[0]\n",
    "        print(f\"Update from subgraph {graph_id}:\")\n",
    "        print(\"\\n\")\n",
    "        is_subgraph = True\n",
    "\n",
    "    for node_name, node_update in update.items():\n",
    "        update_label = f\"Update from node {node_name}:\"\n",
    "        if is_subgraph:\n",
    "            update_label = \"\\t\" + update_label\n",
    "\n",
    "        print(update_label)\n",
    "        print(\"\\n\")\n",
    "\n",
    "        messages = convert_to_messages(node_update[\"messages\"])\n",
    "        if last_message:\n",
    "            messages = messages[-1:]\n",
    "\n",
    "        for m in messages:\n",
    "            pretty_print_message(m, indent=is_subgraph)\n",
    "        print(\"\\n\")"
   ]
  },
  {
   "cell_type": "code",
   "execution_count": 8,
   "id": "ad3e3aa5",
   "metadata": {},
   "outputs": [
    {
     "name": "stdout",
     "output_type": "stream",
     "text": [
      "Update from node agent:\n",
      "\n",
      "\n",
      "==================================\u001b[1m Ai Message \u001b[0m==================================\n",
      "Name: research_agent\n",
      "Tool Calls:\n",
      "  tavily_search (e20f569f-27e4-46c3-9929-00d6b2020a60)\n",
      " Call ID: e20f569f-27e4-46c3-9929-00d6b2020a60\n",
      "  Args:\n",
      "    query: mayor of NYC\n",
      "\n",
      "\n",
      "Update from node tools:\n",
      "\n",
      "\n",
      "=================================\u001b[1m Tool Message \u001b[0m=================================\n",
      "Name: tavily_search\n",
      "\n",
      "{\"query\": \"mayor of NYC\", \"follow_up_questions\": null, \"answer\": null, \"images\": [], \"results\": [{\"url\": \"https://www.nyc.gov/office-of-the-mayor/bio.page\", \"title\": \"Office of the Mayor | Mayor's Bio | City of New York - NYC.gov\", \"content\": \"Mayor Eric Adams has served the people of New York City as an NYPD officer, State Senator, Brooklyn Borough President, and now as the 110th Mayor of the City of New York. Mayor Eric Adams has served the people of New York City as an NYPD officer, State Senator, Brooklyn Borough President, and now as the 110th Mayor of the City of New York. In Albany, Eric built winning coalitions to advance New York City’s values and goals, helping to push through measures to protect tenants and workers, combat gun violence, end the NYPD’s abuses of stop and frisk, and advance human rights — including marriage equality. NYC is a trademark and service mark of the City of New York.\", \"score\": 0.8585411, \"raw_content\": null}, {\"url\": \"https://www.nyc.gov/office-of-the-mayor/index.page\", \"title\": \"Office of the Mayor | Overview | City of New York - NYC.gov\", \"content\": \"Office of the Mayor | Overview | City of New York The Official Website of the City of New York Image 1: NYC.gov Home *   NYC311 Office of the Mayor | Overview | City of New York Welcome to the Office of the Mayor of New York City Image 3: Photo of NYC Mayor 110th Mayor of New York City  Mayor Eric Adams has served the people of New York City as an NYPD officer, State Senator, Brooklyn Borough President, and now as the 110th Mayor of the City of New York. More on NYC.gov NYC.gov in Other Languages Image 4: NYC Logo © City of New York. NYC is a trademark and service mark of the City of New York.\", \"score\": 0.846159, \"raw_content\": null}, {\"url\": \"https://www.youtube.com/nycmayorsoffice\", \"title\": \"NYC Mayor's Office - YouTube\", \"content\": \"Updates from the Administration of Eric Adams, New York City's 110th Mayor. Mayor Eric Adams has served the people of New York City as an NYPD officer,\", \"score\": 0.79883134, \"raw_content\": null}], \"response_time\": 1.55}\n",
      "\n",
      "\n",
      "Update from node agent:\n",
      "\n",
      "\n",
      "==================================\u001b[1m Ai Message \u001b[0m==================================\n",
      "Name: research_agent\n",
      "\n",
      "The current mayor of NYC is Eric Adams.\n",
      "\n",
      "\n"
     ]
    }
   ],
   "source": [
    "for chunk in research_agent.stream(\n",
    "    {\"messages\": [{\"role\": \"user\", \"content\": \"who is the mayor of NYC?\"}]}\n",
    "):\n",
    "    pretty_print_messages(chunk)"
   ]
  },
  {
   "cell_type": "markdown",
   "id": "14991e1f",
   "metadata": {},
   "source": [
    "### Math Agent"
   ]
  },
  {
   "cell_type": "code",
   "execution_count": 20,
   "id": "a16caf6f",
   "metadata": {},
   "outputs": [],
   "source": [
    "def add(a: float, b: float):\n",
    "    \"\"\"Add two numbers.\"\"\"\n",
    "    return a + b\n",
    "\n",
    "\n",
    "def multiply(a: float, b: float):\n",
    "    \"\"\"Multiply two numbers.\"\"\"\n",
    "    return a * b\n",
    "\n",
    "\n",
    "def divide(a: float, b: float):\n",
    "    \"\"\"Divide two numbers.\"\"\"\n",
    "    return a / b\n",
    "\n",
    "\n",
    "math_agent = create_react_agent(\n",
    "    model=llama,\n",
    "    tools=[add, multiply, divide],\n",
    "    prompt=(\n",
    "        \"You are a math agent.\\n\\n\"\n",
    "        \"INSTRUCTIONS:\\n\"\n",
    "        \"- Assist ONLY with math-related tasks\\n\"\n",
    "        \"- After you're done with your tasks, respond to the supervisor directly\\n\"\n",
    "        \"- Respond ONLY with the results of your work, do NOT include ANY other text.\"\n",
    "    ),\n",
    "    name=\"math_agent\",\n",
    ")"
   ]
  },
  {
   "cell_type": "code",
   "execution_count": 24,
   "id": "8fa06c11",
   "metadata": {},
   "outputs": [
    {
     "name": "stdout",
     "output_type": "stream",
     "text": [
      "Update from node agent:\n",
      "\n",
      "\n",
      "==================================\u001b[1m Ai Message \u001b[0m==================================\n",
      "Name: math_agent\n",
      "Tool Calls:\n",
      "  multiply (7cb0f813-93c3-4c75-9a7a-829dac6c1f69)\n",
      " Call ID: 7cb0f813-93c3-4c75-9a7a-829dac6c1f69\n",
      "  Args:\n",
      "    a: 8\n",
      "    b: 2\n",
      "\n",
      "\n",
      "Update from node tools:\n",
      "\n",
      "\n",
      "=================================\u001b[1m Tool Message \u001b[0m=================================\n",
      "Name: multiply\n",
      "\n",
      "16.0\n",
      "\n",
      "\n",
      "Update from node agent:\n",
      "\n",
      "\n",
      "==================================\u001b[1m Ai Message \u001b[0m==================================\n",
      "Name: math_agent\n",
      "\n",
      "Supervisor response: The result of the calculation is 16.0.\n",
      "\n",
      "\n"
     ]
    }
   ],
   "source": [
    "for chunk in math_agent.stream(\n",
    "    {\"messages\": [{\"role\": \"user\", \"content\": \"[ ( 3 + 5 ) * 7 ]\"}]}\n",
    "):\n",
    "    pretty_print_messages(chunk)"
   ]
  },
  {
   "cell_type": "markdown",
   "id": "5347584d",
   "metadata": {},
   "source": [
    "### Supervisor"
   ]
  },
  {
   "cell_type": "code",
   "execution_count": 30,
   "id": "91337b4a",
   "metadata": {},
   "outputs": [],
   "source": [
    "llama.name = \"llama-small\""
   ]
  },
  {
   "cell_type": "code",
   "execution_count": 33,
   "id": "1ab544fa",
   "metadata": {},
   "outputs": [],
   "source": [
    "from langgraph_supervisor import create_supervisor\n",
    "from langchain.chat_models import init_chat_model\n",
    "\n",
    "supervisor = create_supervisor(\n",
    "    model=init_chat_model(model_provider = \"ollama\", model=\"llama3.2:1b\"),\n",
    "    agents=[research_agent, math_agent],\n",
    "    prompt=(\n",
    "        \"You are a supervisor managing two agents:\\n\"\n",
    "        \"- a research agent. Assign research-related tasks to this agent\\n\"\n",
    "        \"- a math agent. Assign math-related tasks to this agent\\n\"\n",
    "        \"Assign work to one agent at a time, do not call agents in parallel.\\n\"\n",
    "        \"Do not do any work yourself.\"\n",
    "    ),\n",
    "    add_handoff_back_messages=True,\n",
    "    output_mode=\"full_history\",\n",
    ").compile()"
   ]
  },
  {
   "cell_type": "code",
   "execution_count": 35,
   "id": "d4c393f0",
   "metadata": {},
   "outputs": [
    {
     "data": {
      "image/png": "[encoded data removed]",
      "text/plain": [
       "<IPython.core.display.Image object>"
      ]
     },
     "metadata": {},
     "output_type": "display_data"
    }
   ],
   "source": [
    "from IPython.display import display, Image\n",
    "\n",
    "display(Image(supervisor.get_graph().draw_mermaid_png(max_retries=5, retry_delay=30.0 )))"
   ]
  },
  {
   "cell_type": "code",
   "execution_count": 43,
   "id": "c8456fd2",
   "metadata": {},
   "outputs": [
    {
     "data": {
      "text/plain": [
       "{'messages': [HumanMessage(content='find US and New York state GDP in 2024. what % of US GDP was New York state?', additional_kwargs={}, response_metadata={}, id='350ec181-3bfc-46eb-afc4-0eeb900f1600'),\n",
       "  AIMessage(content='', additional_kwargs={}, response_metadata={}, name='supervisor', id='f7f48d22-0881-4dd5-9c9f-136560c85bad', tool_calls=[{'name': 'transfer_to_math_agent', 'args': {}, 'id': '90f932dd-1776-49ba-9910-64a1cc8fe197', 'type': 'tool_call'}]),\n",
       "  ToolMessage(content='Successfully transferred to math_agent', name='transfer_to_math_agent', id='889cfe30-1455-4c45-b1f3-0f08025ed473', tool_call_id='90f932dd-1776-49ba-9910-64a1cc8fe197'),\n",
       "  AIMessage(content=\"Based on the latest available data, the Gross Domestic Product (GDP) of the United States in 2024 is approximately $25.3 trillion.\\n\\nThe GDP of New York State in 2024 is estimated to be around $1.2 trillion.\\n\\nTo calculate the percentage of US GDP that New York state represents, we can use the following formula:\\n\\n(US GDP / New York state GDP) x 100\\n\\nPlugging in the numbers, we get:\\n\\n($25.3 trillion / $1.2 trillion) x 100 ≈ 208%\\n\\nSo, approximately 208% of the total US GDP was New York state's GDP in 2024.\\n\\nMath_agent, can I help you with anything else?\", additional_kwargs={}, response_metadata={'model': 'llama3.2:1b', 'created_at': '2025-08-13T01:19:31.844288Z', 'done': True, 'done_reason': 'stop', 'total_duration': 14521413100, 'load_duration': 32597900, 'prompt_eval_count': 157, 'prompt_eval_duration': 2949669800, 'eval_count': 147, 'eval_duration': 11535007600, 'model_name': 'llama3.2:1b'}, name='math_agent', id='run--f2ea4267-3aac-4d48-8035-68d69b8d0cbe-0', usage_metadata={'input_tokens': 157, 'output_tokens': 147, 'total_tokens': 304}),\n",
       "  AIMessage(content='Transferring back to supervisor', additional_kwargs={}, response_metadata={'__is_handoff_back': True}, name='math_agent', id='be8450ab-d377-40bb-95e3-91d7aeb60a8f', tool_calls=[{'name': 'transfer_back_to_supervisor', 'args': {}, 'id': '238120b7-f392-4394-91d4-20948873474f', 'type': 'tool_call'}]),\n",
       "  ToolMessage(content='Successfully transferred back to supervisor', name='transfer_back_to_supervisor', id='ecd75d89-19fa-41aa-a6a6-d7fdb0f92d2d', tool_call_id='238120b7-f392-4394-91d4-20948873474f'),\n",
       "  AIMessage(content=\"The US economy has been growing at an estimated annual rate of 2.1% as of 2023, according to recent data from the Bureau of Economic Analysis (BEA). The New York State economy, however, is performing slightly better.\\n\\nAccording to recent estimates, the New York State GDP growth rate in 2023 was around 2.5%, driven by strong consumer spending and investment in infrastructure.\\n\\nUsing these numbers, we can recalculate the percentage of US GDP that New York state represents:\\n\\n($25.3 trillion / $1.2 trillion) x (2.5% / 2.1%) ≈ 204%\\n\\nSo, approximately 204% of the total US GDP was New York state's GDP in 2024.\\n\\nMath_agent, is there anything else I can help you with?\\n\\nTransferring back to supervisor\", additional_kwargs={}, response_metadata={'model': 'llama3.2:1b', 'created_at': '2025-08-13T01:19:52.452903Z', 'done': True, 'done_reason': 'stop', 'total_duration': 20600552300, 'load_duration': 36777100, 'prompt_eval_count': 333, 'prompt_eval_duration': 7556989600, 'eval_count': 172, 'eval_duration': 13000471900, 'model_name': 'llama3.2:1b'}, name='supervisor', id='run--743bfb06-48db-443e-816c-e1abae54b3a8-0', usage_metadata={'input_tokens': 333, 'output_tokens': 172, 'total_tokens': 505})]}"
      ]
     },
     "execution_count": 43,
     "metadata": {},
     "output_type": "execute_result"
    }
   ],
   "source": [
    "supervisor.invoke(\n",
    "    {\n",
    "        \"messages\": [\n",
    "            {\n",
    "                \"role\": \"user\",\n",
    "                \"content\": \"find US and New York state GDP in 2024. what % of US GDP was New York state?\",\n",
    "            }\n",
    "        ]\n",
    "    },\n",
    ")"
   ]
  },
  {
   "cell_type": "markdown",
   "id": "143c18ce",
   "metadata": {},
   "source": [
    "> Bad performance because small model"
   ]
  },
  {
   "cell_type": "markdown",
   "id": "360509e4",
   "metadata": {},
   "source": []
  }
 ],
 "metadata": {
  "kernelspec": {
   "display_name": "venv",
   "language": "python",
   "name": "python3"
  },
  "language_info": {
   "codemirror_mode": {
    "name": "ipython",
    "version": 3
   },
   "file_extension": ".py",
   "mimetype": "text/x-python",
   "name": "python",
   "nbconvert_exporter": "python",
   "pygments_lexer": "ipython3",
   "version": "3.10.0"
  }
 },
 "nbformat": 4,
 "nbformat_minor": 5
}
