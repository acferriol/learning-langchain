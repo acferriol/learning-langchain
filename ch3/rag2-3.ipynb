{
 "cells": [
  {
   "cell_type": "markdown",
   "id": "87d01e51",
   "metadata": {},
   "source": [
    "# Query Construction"
   ]
  },
  {
   "cell_type": "markdown",
   "id": "63a0c1e0",
   "metadata": {},
   "source": [
    "> Query construction is the process of transforming a natural language query into the query language of the database or data source you are interacting with."
   ]
  },
  {
   "cell_type": "markdown",
   "id": "fa52c623",
   "metadata": {},
   "source": [
    "### Text-Metadata"
   ]
  },
  {
   "cell_type": "code",
   "execution_count": 1,
   "id": "97c2de46",
   "metadata": {},
   "outputs": [],
   "source": [
    "from langchain_community.vectorstores import OpenSearchVectorSearch\n",
    "from langchain_core.documents import Document\n",
    "from langchain_ollama import OllamaEmbeddings\n",
    "\n",
    "docs = [\n",
    "    Document(\n",
    "        page_content=\"A bunch of scientists bring back dinosaurs and mayhem breaks loose\",\n",
    "        metadata={\"year\": 1993, \"rating\": 7.7, \"genre\": \"science fiction\"},\n",
    "    ),\n",
    "    Document(\n",
    "        page_content=\"Leo DiCaprio gets lost in a dream within a dream within a dream within a ...\",\n",
    "        metadata={\"year\": 2010, \"director\": \"Christopher Nolan\", \"rating\": 8.2},\n",
    "    ),\n",
    "    Document(\n",
    "        page_content=\"A psychologist / detective gets lost in a series of dreams within dreams within dreams and Inception reused the idea\",\n",
    "        metadata={\"year\": 2006, \"director\": \"Satoshi Kon\", \"rating\": 8.6},\n",
    "    ),\n",
    "    Document(\n",
    "        page_content=\"A bunch of normal-sized women are supremely wholesome and some men pine after them\",\n",
    "        metadata={\"year\": 2019, \"director\": \"Greta Gerwig\", \"rating\": 8.3},\n",
    "    ),\n",
    "    Document(\n",
    "        page_content=\"Toys come alive and have a blast doing so\",\n",
    "        metadata={\"year\": 1995, \"genre\": \"animated\"},\n",
    "    ),\n",
    "    Document(\n",
    "        page_content=\"Three men walk into the Zone, three men walk out of the Zone\",\n",
    "        metadata={\n",
    "            \"year\": 1979,\n",
    "            \"director\": \"Andrei Tarkovsky\",\n",
    "            \"genre\": \"thriller\",\n",
    "            \"rating\": 9.9,\n",
    "        },\n",
    "    ),\n",
    "]"
   ]
  },
  {
   "cell_type": "code",
   "execution_count": 10,
   "id": "ec6eab99",
   "metadata": {},
   "outputs": [],
   "source": [
    "import os\n",
    "import dotenv\n",
    "\n",
    "dotenv.load_dotenv()\n",
    "\n",
    "embeddings = OllamaEmbeddings(\n",
    "    base_url=\"http://127.0.0.1:11434\", model=\"deepseek-r1:8b\"\n",
    ")\n",
    "\n",
    "os_key = os.getenv(\"OPENSEARCH_INITIAL_ADMIN_PASSWORD\")\n",
    "\n",
    "db = OpenSearchVectorSearch.from_documents(\n",
    "    docs,\n",
    "    embeddings,\n",
    "    opensearch_url=\"https://localhost:9200\",\n",
    "    http_auth=(\"admin\", os_key),\n",
    "    use_ssl=False,\n",
    "    verify_certs=False,\n",
    "    ssl_assert_hostname=False,\n",
    "    ssl_show_warn=False,\n",
    "    engine=\"faiss\",\n",
    ")"
   ]
  },
  {
   "cell_type": "code",
   "execution_count": 11,
   "id": "f7687267",
   "metadata": {},
   "outputs": [],
   "source": [
    "from langchain.chains.query_constructor.base import AttributeInfo\n",
    "from langchain.retrievers.self_query.base import SelfQueryRetriever\n",
    "from langchain_ollama import ChatOllama\n",
    "\n",
    "fields = [\n",
    "    AttributeInfo(\n",
    "        name=\"genre\",\n",
    "        description=\"The genre of the movie\",\n",
    "        type=\"string or list[string]\",\n",
    "    ),\n",
    "    AttributeInfo(\n",
    "        name=\"year\",\n",
    "        description=\"The year the movie was released\",\n",
    "        type=\"integer\",\n",
    "    ),\n",
    "    AttributeInfo(\n",
    "        name=\"director\",\n",
    "        description=\"The name of the movie director\",\n",
    "        type=\"string\",\n",
    "    ),\n",
    "    AttributeInfo(\n",
    "        name=\"rating\", description=\"A 1-10 rating for the movie\", type=\"float\"\n",
    "    ),\n",
    "]\n",
    "description = \"Brief summary of a movie\"\n",
    "\n",
    "llm = ChatOllama(model=\"deepseek-r1:8b\",temperature=0)\n",
    "\n",
    "retriever = SelfQueryRetriever.from_llm(\n",
    "    llm, db, description, fields,\n",
    ")"
   ]
  },
  {
   "cell_type": "markdown",
   "id": "80613090",
   "metadata": {},
   "source": [
    "!!!!  IMPORTANT: Need capable models"
   ]
  },
  {
   "cell_type": "code",
   "execution_count": 12,
   "id": "9e8c8f18",
   "metadata": {},
   "outputs": [
    {
     "data": {
      "text/plain": [
       "[Document(id='2623a555-c1b7-44fd-86f1-142c48a44fd8', metadata={'year': 1979, 'director': 'Andrei Tarkovsky', 'genre': 'thriller', 'rating': 9.9}, page_content='Three men walk into the Zone, three men walk out of the Zone'),\n",
       " Document(id='61fb1a3d-803c-43cf-b886-540a9dd5b2ee', metadata={'year': 2006, 'director': 'Satoshi Kon', 'rating': 8.6}, page_content='A psychologist / detective gets lost in a series of dreams within dreams within dreams and Inception reused the idea')]"
      ]
     },
     "execution_count": 12,
     "metadata": {},
     "output_type": "execute_result"
    }
   ],
   "source": [
    "retriever.invoke(\"I want to watch a movie rated higher than 8.5\")"
   ]
  },
  {
   "cell_type": "markdown",
   "id": "9a5a5984",
   "metadata": {},
   "source": [
    "### Text-SQL\n",
    "\n",
    "> * Database Description\n",
    "> * Few Shot examples"
   ]
  },
  {
   "cell_type": "code",
   "execution_count": 20,
   "id": "63c6d634",
   "metadata": {},
   "outputs": [],
   "source": [
    "from langchain.pydantic_v1 import BaseModel\n",
    "\n",
    "class AnswerAndQuery(BaseModel):\n",
    "    '''An answer to the user's question along with ju\n",
    "        answer.'''\n",
    "    answer: str\n",
    "    '''The answer to the user's question'''\n",
    "    query: str\n",
    "    '''SQL Query'''"
   ]
  },
  {
   "cell_type": "code",
   "execution_count": null,
   "id": "cc72f90f",
   "metadata": {},
   "outputs": [
    {
     "data": {
      "text/plain": [
       "'Error: (sqlite3.OperationalError) near \"To\": syntax error\\n[SQL: To determine the number of employees, you would need to join the `Users` table with other tables in your database. Once you have joined all the tables, you can use the COUNT function to count the number of rows in the joined table.\\nAnswer: There are 3 rows from the `Users` table.]\\n(Background on this error at: https://sqlalche.me/e/20/e3q8)'"
      ]
     },
     "execution_count": 33,
     "metadata": {},
     "output_type": "execute_result"
    }
   ],
   "source": [
    "from langchain_community.tools import QuerySQLDatabaseTool\n",
    "from langchain_community.utilities import SQLDatabase\n",
    "from langchain_ollama import ChatOllama\n",
    "\n",
    "\n",
    "# replace this with the connection details of your db\n",
    "db = SQLDatabase.from_uri(\"sqlite:///../data/sample.db\")\n",
    "llm = ChatOllama(model=\"qwen:0.5b\", temperature=0)\n",
    "\n",
    "# convert question to sql query\n",
    "write_query = create_sql_query_chain(llm, db)\n",
    "\n",
    "# Execute SQL query\n",
    "execute_query = QuerySQLDatabaseTool(db=db)\n",
    "\n",
    "# combined\n",
    "chain = write_query | execute_query\n",
    "\n",
    "# invoke the chain\n",
    "chain.invoke({\"question\":\"How many employees are there?\"})"
   ]
  },
  {
   "cell_type": "code",
   "execution_count": 20,
   "id": "0ad23833",
   "metadata": {},
   "outputs": [
    {
     "data": {
      "text/plain": [
       "\"[(1, 'acf', '123'), (2, 'ale', '456'), (3, 'abc', '789'), (4, 'zyx', '987')]\""
      ]
     },
     "execution_count": 20,
     "metadata": {},
     "output_type": "execute_result"
    }
   ],
   "source": [
    "from langchain_community.tools import QuerySQLDatabaseTool\n",
    "from langchain_community.utilities import SQLDatabase\n",
    "from langchain.chains import create_sql_query_chain\n",
    "from langchain_core.prompts import ChatPromptTemplate, AIMessagePromptTemplate\n",
    "from langchain_ollama import ChatOllama\n",
    "\n",
    "my_prompt = \"\"\"\n",
    "Given an input question create a SQL query according to question. Only return SQL query nothing else \\n\n",
    "Question: {input}\n",
    "\"\"\"\n",
    "\n",
    "my_prompt = ChatPromptTemplate.from_template(my_prompt)\n",
    "\n",
    "\n",
    "# replace this with the connection details of your db\n",
    "db = SQLDatabase.from_uri(\"sqlite:///../data/sample.db\")\n",
    "llm = ChatOllama(model=\"qwen:0.5b\", temperature=0)\n",
    "\n",
    "# convert question to sql query\n",
    "write_query = my_prompt | llm\n",
    "\n",
    "# Execute SQL query\n",
    "execute_query = QuerySQLDatabaseTool(db=db)\n",
    "\n",
    "# Get content\n",
    "def get_content(msg:AIMessagePromptTemplate):\n",
    "    return msg.content\n",
    "\n",
    "# combined\n",
    "chain = write_query | get_content |execute_query\n",
    "\n",
    "# invoke the chain\n",
    "chain.invoke({\"input\":\"Can you list all the users?\"})"
   ]
  },
  {
   "cell_type": "code",
   "execution_count": null,
   "id": "cd0671c3",
   "metadata": {},
   "outputs": [],
   "source": []
  }
 ],
 "metadata": {
  "kernelspec": {
   "display_name": "venv",
   "language": "python",
   "name": "python3"
  },
  "language_info": {
   "codemirror_mode": {
    "name": "ipython",
    "version": 3
   },
   "file_extension": ".py",
   "mimetype": "text/x-python",
   "name": "python",
   "nbconvert_exporter": "python",
   "pygments_lexer": "ipython3",
   "version": "3.10.0"
  }
 },
 "nbformat": 4,
 "nbformat_minor": 5
}
