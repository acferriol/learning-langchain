{
 "cells": [
  {
   "cell_type": "markdown",
   "id": "b098de6a",
   "metadata": {},
   "source": [
    "# Process for RAG applications\n",
    "\n",
    "* Query transformation\n",
    "* Routing\n",
    "* Query construction\n",
    "* Multimodal Index\n",
    "* Postprocessing"
   ]
  },
  {
   "cell_type": "markdown",
   "id": "03e27ad8",
   "metadata": {},
   "source": []
  }
 ],
 "metadata": {
  "language_info": {
   "name": "python"
  }
 },
 "nbformat": 4,
 "nbformat_minor": 5
}
