{
 "cells": [
  {
   "cell_type": "markdown",
   "id": "b098de6a",
   "metadata": {},
   "source": [
    "# Process for RAG applications\n",
    "\n",
    "* Query transformation\n",
    "* Routing\n",
    "* Query construction\n",
    "* Multimodal Index\n",
    "* Postprocessing"
   ]
  },
  {
   "cell_type": "markdown",
   "id": "bf2f81f0",
   "metadata": {},
   "source": [
    "## Query transformation\n"
   ]
  },
  {
   "cell_type": "code",
   "execution_count": 19,
   "id": "f2e031bd",
   "metadata": {},
   "outputs": [],
   "source": [
    "from langchain_ollama import ChatOllama\n",
    "from langchain_core.prompts import ChatPromptTemplate\n",
    "from langchain_community.document_loaders import TextLoader\n",
    "from langchain_ollama import OllamaEmbeddings\n",
    "from langchain_text_splitters import RecursiveCharacterTextSplitter\n",
    "from langchain_community.vectorstores import OpenSearchVectorSearch\n",
    "import dotenv\n",
    "import os\n",
    "\n",
    "dotenv.load_dotenv()\n",
    "os_key = os.getenv(\"OPENSEARCH_INITIAL_ADMIN_PASSWORD\")\n",
    "\n",
    "raw_documents = TextLoader('../data/philotest.txt', encoding='utf-8').load()\n",
    "text_splitter = RecursiveCharacterTextSplitter(chunk_size=1000, \n",
    "    chunk_overlap=200)\n",
    "documents = text_splitter.split_documents(raw_documents)\n",
    "\n",
    "# embed each chunk and insert it into the vector store\n",
    "model = OllamaEmbeddings(\n",
    "    base_url='http://127.0.0.1:11434',\n",
    "    model=\"deepseek-r1:1.5b\"\n",
    ")\n",
    "docsearch = OpenSearchVectorSearch.from_documents(\n",
    "    documents,\n",
    "    model,\n",
    "    opensearch_url=\"https://localhost:9200\",\n",
    "    http_auth=(\"admin\", os_key),\n",
    "    use_ssl=False,\n",
    "    verify_certs=False,\n",
    "    ssl_assert_hostname=False,\n",
    "    ssl_show_warn=False,\n",
    "    engine=\"faiss\",\n",
    ")"
   ]
  },
  {
   "cell_type": "code",
   "execution_count": null,
   "id": "50b3a38f",
   "metadata": {},
   "outputs": [],
   "source": [
    "retriever = docsearch.as_retriever()\n",
    "\n",
    "# fetch the 4 most relevant documents\n",
    "docs = retriever.invoke(\"\"\"Who are the key figures in the ancient greek history \n",
    "    of philosophy?\"\"\")"
   ]
  },
  {
   "cell_type": "code",
   "execution_count": 21,
   "id": "b8ec8d05",
   "metadata": {},
   "outputs": [],
   "source": [
    "from langchain_ollama import ChatOllama\n",
    "from langchain_core.prompts import ChatPromptTemplate\n",
    "\n",
    "\n",
    "prompt = ChatPromptTemplate.from_template(\"\"\"Answer the question based only on \n",
    "    the following context:\n",
    "{context}\n",
    "\n",
    "Question: {question}\n",
    "\"\"\")\n",
    "\n",
    "llm = ChatOllama(\n",
    "    base_url='http://127.0.0.1:11434',\n",
    "    model=\"deepseek-r1:1.5b\",\n",
    "    temperature=0,\n",
    ")"
   ]
  },
  {
   "cell_type": "code",
   "execution_count": 22,
   "id": "1157d4d1",
   "metadata": {},
   "outputs": [],
   "source": [
    "from langchain_core.runnables import chain\n",
    "\n",
    "@chain\n",
    "def qa(input):\n",
    "    # fetch relevant documents \n",
    "    docs = retriever.get_relevant_documents(input)\n",
    "    # format prompt\n",
    "    formatted = prompt.invoke({\"context\": docs, \"question\": input})\n",
    "    # generate answer\n",
    "    answer = llm.invoke(formatted)\n",
    "    return answer"
   ]
  },
  {
   "cell_type": "code",
   "execution_count": 23,
   "id": "e440885c",
   "metadata": {},
   "outputs": [
    {
     "data": {
      "text/plain": [
       "\"<think>\\nOkay, so I need to figure out who some key figures are in the ancient Greek history of philosophy based on the given context. Let me go through each document one by one and see what information is provided.\\n\\nFirst, there's Document id 'a863251f-1060-41b0-ba99-108f2e757856'. It mentions that it has long been established that ancient Greek philosophy begins in the Greek colonies of Ionia along the coast of Asia Minor. The first three Pre-Socratic philosophers all came from Ionian Miletus and the Milesian School is the first Greek philosophical school of thought. So, the key figures here are Thales, Anaximander, and Anaxagoras.\\n\\nNext, Document id '1568973b-41cf-42e3-ac46-647b40a4c3aa' talks about the Seven Sages of Ancient Greece. It mentions Socrates, Plato, and Xenophon as the main figures. So, these are Socrates, Plato, and Xenophon.\\n\\nThen, Document id 'fdae5ff6-4d99-45b8-9ec1-edfbc158919e' discusses Socrates' focus on individual character development and his teachings in four dialogues. This reinforces the idea that Socrates is a key figure, as well as Plato's role through his dialogues.\\n\\nLastly, Document id 'ed331a29-e9b7-4c1e-a6ab-d63c63d3adb0' explains that the purpose of life is to awaken the soul and live according to the Divine Mind. This ties into Socrates' teachings about self-awareness and true goodness.\\n\\nSo, putting it all together, the key figures are Thales, Anaximander, Anaxagoras from the first document; Socrates, Plato, Xenophon from the second; and Socrates again in the third. However, since Socrates is mentioned multiple times, he's likely the most prominent figure across these documents.\\n</think>\\n\\nThe key figures in the ancient Greek history of philosophy are:\\n\\n1. **Thales** - From the document about Ionia and Ionian Miletus, Thales is noted as one of the first Pre-Socratic philosophers.\\n2. **Anaximander** - Also from the same document, he is mentioned as part of the early Pre-Socratic school.\\n3. **Anaxagoras** - Another key figure from the document about Ionia and Ionian Miletus.\\n4. **Socrates** - Identified in multiple documents, including his focus on character development and his dialogues.\\n5. **Plato** - Mentioned in the document about the Seven Sages of Ancient Greece.\\n6. **Xenophon** - Also from the document about the Seven Sages.\\n\\nThese figures are central to the discussion of ancient Greek philosophy as presented in the context.\""
      ]
     },
     "execution_count": 23,
     "metadata": {},
     "output_type": "execute_result"
    }
   ],
   "source": [
    "answer = qa.invoke(\"\"\"Today I woke up and brushed my teeth, then I sat down to read the \n",
    "    news. But then I forgot the food on the cooker. Who are some key figures in \n",
    "    the ancient greek history of philosophy?\"\"\")\n",
    "\n",
    "answer.content"
   ]
  },
  {
   "cell_type": "markdown",
   "id": "3e00dd4c",
   "metadata": {},
   "source": [
    "### Rewrite-Retrieve-Read (Rewrite the question)"
   ]
  },
  {
   "cell_type": "code",
   "execution_count": 24,
   "id": "845e20de",
   "metadata": {},
   "outputs": [],
   "source": [
    "rewrite_prompt = ChatPromptTemplate.from_template(\"\"\"Provide a better search \n",
    "    query for web search engine to answer the given question, end the queries \n",
    "    with ’**’. Question: {x} Answer:\"\"\")\n",
    "\n",
    "def parse_rewriter_output(message):\n",
    "    return message.content.strip('\"').strip(\"**\")\n",
    "\n",
    "rewriter = rewrite_prompt | llm | parse_rewriter_output"
   ]
  },
  {
   "cell_type": "code",
   "execution_count": 25,
   "id": "e36b9a81",
   "metadata": {},
   "outputs": [],
   "source": [
    "change_query = rewrite_prompt.invoke(\"\"\"Today I woke up and brushed my teeth, then I sat down to read \n",
    "    the news. But then I forgot the food on the cooker. Who are some key \n",
    "    figures in the ancient greek history of philosophy?\"\"\")"
   ]
  },
  {
   "cell_type": "code",
   "execution_count": 26,
   "id": "84daa629",
   "metadata": {},
   "outputs": [
    {
     "data": {
      "text/plain": [
       "ChatPromptValue(messages=[HumanMessage(content='Provide a better search \\n    query for web search engine to answer the given question, end the queries \\n    with ’**’. Question: Today I woke up and brushed my teeth, then I sat down to read \\n    the news. But then I forgot the food on the cooker. Who are some key \\n    figures in the ancient greek history of philosophy? Answer:', additional_kwargs={}, response_metadata={})])"
      ]
     },
     "execution_count": 26,
     "metadata": {},
     "output_type": "execute_result"
    }
   ],
   "source": [
    "change_query"
   ]
  },
  {
   "cell_type": "code",
   "execution_count": 27,
   "id": "8c6c96d8",
   "metadata": {},
   "outputs": [
    {
     "data": {
      "text/plain": [
       "AIMessage(content='<think>\\nOkay, so I need to find a better search query for this question about key figures in ancient Greek philosophy. The original query is \"Who are some key figures in the ancient greek history of philosophy?\" and it should end with **.\\n\\nFirst, I\\'ll break down the components of the question. It\\'s asking about key figures in the ancient Greek history of philosophy. So, the main elements are:\\n\\n1. Ancient Greece\\n2. History of philosophy\\n3. Key figures\\n\\nI want to make sure my search query is comprehensive and covers all these aspects without being too broad or narrow.\\n\\nLet me think about how to phrase this. Maybe I can combine some parts for better clarity. For example, \"ancient Greek history of philosophy\" could be a good start. Then, adding \"key figures\" would directly address the user\\'s question.\\n\\nI should also consider if there are any specific terms that might help narrow it down further. Words like \"philosophers,\" \"scholarship,\" or \"contribution\" could be useful, but they might not be necessary unless I want to emphasize certain aspects.\\n\\nAnother thought: maybe using a more descriptive phrase for the time period would make it clearer. Instead of just \"ancient Greece,\" perhaps something like \"ancient Greek philosophers\" or \"ancient Greek thinkers.\"\\n\\nPutting it all together, I can try variations:\\n\\n- Ancient Greek history of philosophy key figures\\n- Key figures in ancient Greek philosophy history\\n- Who are some key figures in the history of ancient Greek philosophy?\\n\\nI think the first one is concise and covers everything. It\\'s clear that it\\'s about the history of philosophy from ancient Greece and specifically mentions key figures.\\n\\nWait, maybe I can make it even more specific by mentioning their contributions or time period. For example:\\n\\n- Ancient Greek philosophers: Key figures in the history of philosophy\\n\\nBut that might be a bit wordy. Alternatively, using \"ancient Greek thinkers\" could also work:\\n\\n- Ancient Greek thinkers: Key figures in the history of philosophy\\n\\nI think the first version is the best because it\\'s straightforward and covers all necessary parts without being too verbose.\\n\\nSo, putting it together with the end note as **, the search query would be:\\n\\n**Who are some key figures in the ancient greek history of philosophy?**\\n\\nYes, that seems to cover everything. It clearly states the subject matter, time period, and specific focus on key figures.\\n</think>\\n\\n**Who are some key figures in the ancient greek history of philosophy?**', additional_kwargs={}, response_metadata={'model': 'deepseek-r1:1.5b', 'created_at': '2025-08-03T01:00:46.3614386Z', 'done': True, 'done_reason': 'stop', 'total_duration': 33762696900, 'load_duration': 31616200, 'prompt_eval_count': 79, 'prompt_eval_duration': 1628181400, 'eval_count': 509, 'eval_duration': 32102343100, 'model_name': 'deepseek-r1:1.5b'}, id='run--742e8319-d497-44ae-9863-ae17ba236e76-0', usage_metadata={'input_tokens': 79, 'output_tokens': 509, 'total_tokens': 588})"
      ]
     },
     "execution_count": 27,
     "metadata": {},
     "output_type": "execute_result"
    }
   ],
   "source": [
    "llm.invoke(change_query)"
   ]
  },
  {
   "cell_type": "code",
   "execution_count": 28,
   "id": "d0090571",
   "metadata": {},
   "outputs": [
    {
     "data": {
      "text/plain": [
       "AIMessage(content=\"<think>\\nOkay, so I need to figure out who some key figures are in the ancient Greek history of philosophy based on the provided documents. Let me go through each document one by one and see what information is relevant.\\n\\nFirst, Document 1: It's about Mary Harrsch's work on Thales of Miletus. The content talks about Thales seeking his own cause in a reasoned inquiry into nature, which is interesting because it shows that Thales was a key figure in ancient Greek philosophy. So, Thales should be included.\\n\\nDocument 2: This document discusses the Seven Sages of Ancient Greece, specifically mentioning Socrates, Plato, and Xenophon. These are all major figures in ancient Greek philosophy, so they should definitely be on the list.\\n\\nDocument 3: It talks about Amplitude Studios' explanation of ancient Greek philosophy, focusing on Ionian Miletus and the Milesian School. This reinforces that Thales was a key figure, as it's part of the early Ionian philosophical tradition.\\n\\nDocument 4: This document discusses how ancient Greek philosophers developed their ideas without a vacuum, meaning they weren't just thinking in isolation but were influenced by existing cultures. It also mentions that true good is from the Divine Mind. This suggests that figures like Socrates and Plato are important because they focused on the divine aspect of philosophy.\\n\\nPutting this all together, the key figures would include Thales (from Document 1), Socrates (from Document 2 and 4), Plato (also from Document 2 and 4), Xenophon (again from Document 2), and Amplitude Studios (from Document 3). These are the most prominent ancient Greek philosophers known for their contributions to philosophy.\\n</think>\\n\\nThe key figures in the ancient Greek history of philosophy, based on the provided documents, include:\\n\\n1. **Thales of Miletus**: A pivotal figure who sought his own cause through rational inquiry into nature.\\n2. **Socrates**: A major figure known for his philosophical insights and his emphasis on free thought without reward expectations.\\n3. **Plato**: A significant thinker whose ideas influenced later philosophers like Aristotle and the Renaissance.\\n4. **Xenophon**: One of the early Socratic teachers, contributing to the development of the Socratic method.\\n5. **Amplitude Studios**: The name associated with ancient Greek philosophical schools, particularly the Milesian School.\\n\\nThese figures are central to the foundational aspects of ancient Greek philosophy as outlined in the documents.\", additional_kwargs={}, response_metadata={'model': 'deepseek-r1:1.5b', 'created_at': '2025-08-03T01:03:08.1389073Z', 'done': True, 'done_reason': 'stop', 'total_duration': 64269068200, 'load_duration': 34484200, 'prompt_eval_count': 794, 'prompt_eval_duration': 25713984000, 'eval_count': 501, 'eval_duration': 38518841300, 'model_name': 'deepseek-r1:1.5b'}, id='run--d510bf41-86c7-4e3d-8862-3ed453ee71ee-0', usage_metadata={'input_tokens': 794, 'output_tokens': 501, 'total_tokens': 1295})"
      ]
     },
     "execution_count": 28,
     "metadata": {},
     "output_type": "execute_result"
    }
   ],
   "source": [
    "rewrite_prompt = ChatPromptTemplate.from_template(\"\"\"Provide a better search \n",
    "    query for web search engine to answer the given question, end the queries \n",
    "    with ’**’. Question: {x} Answer:\"\"\")\n",
    "\n",
    "def parse_rewriter_output(message):\n",
    "    return message.content.strip('\"').strip(\"**\")\n",
    "\n",
    "rewriter = rewrite_prompt | llm | parse_rewriter_output\n",
    "\n",
    "@chain\n",
    "def qa_rrr(input):\n",
    "    # rewrite the query\n",
    "    new_query = rewriter.invoke(input)\n",
    "    # fetch relevant documents \n",
    "    docs = retriever.get_relevant_documents(new_query)\n",
    "    # format prompt\n",
    "    formatted = prompt.invoke({\"context\": docs, \"question\": input})\n",
    "    # generate answer\n",
    "    answer = llm.invoke(formatted)\n",
    "    return answer\n",
    "\n",
    "# run\n",
    "qa_rrr.invoke(\"\"\"Today I woke up and brushed my teeth, then I sat down to read \n",
    "    the news. But then I forgot the food on the cooker. Who are some key \n",
    "    figures in the ancient greek history of philosophy?\"\"\")"
   ]
  },
  {
   "cell_type": "code",
   "execution_count": 34,
   "id": "dc47b4f8",
   "metadata": {},
   "outputs": [],
   "source": [
    "def remove_think(answer):\n",
    "    if answer.content.find(\"</think>\\n\\n\") > 0:\n",
    "        return answer.content.split(\"</think>\\n\\n\")[1]\n",
    "    else:\n",
    "        return answer.content\n"
   ]
  },
  {
   "cell_type": "code",
   "execution_count": 35,
   "id": "4f2ea1de",
   "metadata": {},
   "outputs": [],
   "source": [
    "@chain\n",
    "def qa_rrr_nothink(input):\n",
    "    # rewrite the query\n",
    "    new_query = rewriter.invoke(input)\n",
    "    # fetch relevant documents \n",
    "    docs = retriever.get_relevant_documents(new_query)\n",
    "    # format prompt\n",
    "    formatted = prompt.invoke({\"context\": docs, \"question\": input})\n",
    "    # generate answer\n",
    "    answer = llm.invoke(formatted)\n",
    "    # Remove think tags if exist\n",
    "    formatted_answer = remove_think(answer)\n",
    "    \n",
    "    return formatted_answer "
   ]
  },
  {
   "cell_type": "code",
   "execution_count": 36,
   "id": "426a75eb",
   "metadata": {},
   "outputs": [
    {
     "data": {
      "text/plain": [
       "'The key figures in the ancient Greek history of philosophy include:\\n\\n1. **Thales** - A pre-Socratic philosopher from Ionian Miletus.\\n2. **Anaximander** - One of the first Pre-Socratic philosophers, known for his belief in the primordial nature of the universe.\\n3. **Anaxagoras** - Another early Pre-Socratic philosopher who taught that all things are derived from water.\\n4. **Socrates** - A central figure whose teachings influenced many later philosophers and thinkers.\\n5. **Plato** - A key figure known for his idealist views on reality and education.\\n6. **Xenophon** - One of the Seven Sages, a prominent figure in ancient Greek philosophy.\\n7. **Antisthenes** - Another significant figure in the Socratic school, known for his role in spreading Platonic ideas.\\n8. **Plotinus** - A key figure associated with Neo-Platonism, who emphasized the divine nature of existence.\\n\\nThese figures collectively shaped the foundations of Western philosophical thought.'"
      ]
     },
     "execution_count": 36,
     "metadata": {},
     "output_type": "execute_result"
    }
   ],
   "source": [
    "qa_rrr_nothink.invoke(\"\"\"Today I woke up and brushed my teeth, then I sat down to read \n",
    "    the news. But then I forgot the food on the cooker. Who are some key \n",
    "    figures in the ancient greek history of philosophy?\"\"\")"
   ]
  },
  {
   "cell_type": "markdown",
   "id": "cd949e5c",
   "metadata": {},
   "source": [
    "### Multiquery Retrieval (Many queries)"
   ]
  },
  {
   "cell_type": "code",
   "execution_count": 40,
   "id": "2a84e3a0",
   "metadata": {},
   "outputs": [],
   "source": [
    "from langchain.prompts import ChatPromptTemplate\n",
    "\n",
    "perspectives_prompt = ChatPromptTemplate.from_template(\"\"\"You are an AI language \n",
    "    model assistant. Your task is to generate five different versions of the \n",
    "    given user question to retrieve relevant documents from a vector database. \n",
    "    By generating multiple perspectives on the user question, your goal is to \n",
    "    help the user overcome some of the limitations of the distance-based \n",
    "    similarity search. Provide these alternative questions separated by \n",
    "    newlines. Original question: {question}\"\"\")\n",
    "\n",
    "def parse_queries_output(message):\n",
    "    return message.split('\\n')\n",
    "\n",
    "query_gen = perspectives_prompt | llm | remove_think | parse_queries_output"
   ]
  },
  {
   "cell_type": "code",
   "execution_count": 41,
   "id": "cc90e8cd",
   "metadata": {},
   "outputs": [],
   "source": [
    "def get_unique_union(document_lists):\n",
    "    # Flatten list of lists, and dedupe them\n",
    "    deduped_docs = {\n",
    "        doc.page_content: doc\n",
    "        for sublist in document_lists for doc in sublist\n",
    "    }\n",
    "    # return a flat list of unique docs\n",
    "    return list(deduped_docs.values())\n",
    "\n",
    "retrieval_chain = query_gen | retriever.batch | get_unique_union"
   ]
  },
  {
   "cell_type": "code",
   "execution_count": 42,
   "id": "65ee67c8",
   "metadata": {},
   "outputs": [
    {
     "name": "stdout",
     "output_type": "stream",
     "text": [
      "['1. Who were some key figures in ancient Greek philosophy based on their historical timeline?', '2. What were the major contributions of specific key figures to ancient Greek philosophy?', '3. How did both classical and modern philosophers from ancient Greece shape later philosophical thought?', '4. Which key figures in ancient Greek history explored major themes or concepts in philosophy?', '5. How have the philosophies of key figures in ancient Greece influenced subsequent cultures?']\n"
     ]
    },
    {
     "data": {
      "text/plain": [
       "'The key figures in the ancient Greek history of philosophy include:\\n\\n1. **Socrates**: Often referred to as a \"sophist,\" he taught without expecting reward and is central to Western philosophy through his dialogues like The Republic and Phaedo.\\n\\n2. **Plato**: A student of Socrates, he wrote extensively on ethics, metaphysics, and the theory of forms, influencing many later thinkers.\\n\\n3. **Aristotle**: A student of Plato, he explored various topics including biology, politics, and ethics, with his work on the four elements (earth, water, air, fire) being particularly influential.\\n\\n4. **Timaeus**: A student of Plato, he discussed the nature of the universe and the idea that everything is made of four elements.\\n\\n5. **Plato\\'s Academy**: The intellectual center in Athens where he taught students like Timaeus and others, fostering a culture of critical thinking and inquiry.\\n\\nThese figures collectively contributed to the development of Western philosophy through their dialogues, theories, and teachings on ethics, metaphysics, and human existence.'"
      ]
     },
     "execution_count": 42,
     "metadata": {},
     "output_type": "execute_result"
    }
   ],
   "source": [
    "prompt = ChatPromptTemplate.from_template(\"\"\"Answer the following question based \n",
    "    on this context:\n",
    "\n",
    "{context}\n",
    "\n",
    "Question: {question}\n",
    "\"\"\")\n",
    "\n",
    "@chain\n",
    "def multi_query_qa(input):\n",
    "    # fetch relevant documents \n",
    "    print(query_gen.invoke(input))\n",
    "\n",
    "    docs = retrieval_chain.invoke(input)\n",
    "    # format prompt\n",
    "    formatted = prompt.invoke({\"context\": docs, \"question\": input})\n",
    "    # generate answer\n",
    "    answer = llm.invoke(formatted)\n",
    "    # Remove think tags if exist\n",
    "    formatted_answer = remove_think(answer)\n",
    "    \n",
    "    return formatted_answer\n",
    "\n",
    "# run\n",
    "multi_query_qa.invoke(\"\"\"Who are some key figures in the ancient greek history \n",
    "    of philosophy?\"\"\")"
   ]
  },
  {
   "cell_type": "markdown",
   "id": "7304ebdd",
   "metadata": {},
   "source": [
    "### RAG Fusion (Reciprocal Rank Fusion)"
   ]
  },
  {
   "cell_type": "code",
   "execution_count": 52,
   "id": "3e78eda2",
   "metadata": {},
   "outputs": [
    {
     "data": {
      "text/plain": [
       "['Sure, here are 4 possible search queries:',\n",
       " '',\n",
       " '1. Who were some key figures in the ancient Greek history?',\n",
       " '2. What philosophical ideas did the ancient Greeks develop and apply to their daily lives?',\n",
       " '3. How did the ancient Greeks view and understand the concept of democracy? ',\n",
       " '4. What role did the ancient Greeks play in shaping the modern world, both in terms of philosophy and science?']"
      ]
     },
     "execution_count": 52,
     "metadata": {},
     "output_type": "execute_result"
    }
   ],
   "source": [
    "from langchain.prompts import ChatPromptTemplate\n",
    "from langchain_ollama import ChatOllama\n",
    "\n",
    "prompt_rag_fusion = ChatPromptTemplate.from_template(\"\"\"You are a helpful \n",
    "    assistant that generates multiple search queries based on a single input \n",
    "    query. \\n\n",
    "    Generate multiple search queries related to: {question} \\n\n",
    "    Output (Only 4 queries enumerate):\"\"\")\n",
    "\n",
    "def parse_queries_output(message):\n",
    "    return message.content.split('\\n')\n",
    "\n",
    "llm = ChatOllama(model=\"qwen:0.5b\",temperature=0)\n",
    "\n",
    "query_gen = prompt_rag_fusion | llm | parse_queries_output\n",
    "\n",
    "query_gen.invoke(\"\"\"Who are some key figures in the ancient greek history \n",
    "    of philosophy?\"\"\")"
   ]
  },
  {
   "cell_type": "code",
   "execution_count": 54,
   "id": "2bd7a674",
   "metadata": {},
   "outputs": [],
   "source": [
    "def reciprocal_rank_fusion(results: list[list], k=10):\n",
    "    \"\"\"reciprocal rank fusion on multiple lists of ranked documents \n",
    "       and an optional parameter k used in the RRF formula\n",
    "    \"\"\"\n",
    "    \n",
    "    # Initialize a dictionary to hold fused scores for each document\n",
    "    # Documents will be keyed by their contents to ensure uniqueness\n",
    "    fused_scores = {}\n",
    "    documents = {}\n",
    "\n",
    "    # Iterate through each list of ranked documents\n",
    "    for docs in results:\n",
    "        # Iterate through each document in the list,\n",
    "        # with its rank (position in the list)\n",
    "        for rank, doc in enumerate(docs):\n",
    "            # Use the document contents as the key for uniqueness\n",
    "            doc_str = doc.page_content\n",
    "            # If the document hasn't been seen yet,\n",
    "            # - initialize score to 0\n",
    "            # - save it for later\n",
    "            if doc_str not in fused_scores:\n",
    "                fused_scores[doc_str] = 0\n",
    "                documents[doc_str] = doc\n",
    "            # Update the score of the document using the RRF formula:\n",
    "            # 1 / (rank + k)\n",
    "            fused_scores[doc_str] += 1 / (rank + k)\n",
    "\n",
    "    # Sort the documents based on their fused scores in descending order \n",
    "    # to get the final reranked results\n",
    "    reranked_doc_strs = sorted(\n",
    "        fused_scores, key=lambda d: fused_scores[d], reverse=True\n",
    "    )\n",
    "    # retrieve the corresponding doc for each doc_str\n",
    "    return [\n",
    "        documents[doc_str]\n",
    "        for doc_str in reranked_doc_strs\n",
    "    ]\n",
    "\n",
    "retrieval_chain = query_gen | retriever.batch | reciprocal_rank_fusion"
   ]
  },
  {
   "cell_type": "code",
   "execution_count": 55,
   "id": "5f076bb0",
   "metadata": {},
   "outputs": [
    {
     "data": {
      "text/plain": [
       "AIMessage(content='Some key figures in the ancient Greek history of philosophy include Plato, Aristotle, and Socrates. These philosophers were known for their philosophical ideas, such as the concept of knowledge, which is based on the ability to understand and apply knowledge. These philosophers also had a significant impact on the development of Western philosophy, particularly the works of Aristotle and Socrates.', additional_kwargs={}, response_metadata={'model': 'qwen:0.5b', 'created_at': '2025-08-03T01:42:34.0028704Z', 'done': True, 'done_reason': 'stop', 'total_duration': 20660343900, 'load_duration': 41499600, 'prompt_eval_count': 1686, 'prompt_eval_duration': 18041691800, 'eval_count': 71, 'eval_duration': 2574593200, 'model_name': 'qwen:0.5b'}, id='run--193272c2-91b0-4f25-8c8f-3499e7db72bd-0', usage_metadata={'input_tokens': 1686, 'output_tokens': 71, 'total_tokens': 1757})"
      ]
     },
     "execution_count": 55,
     "metadata": {},
     "output_type": "execute_result"
    }
   ],
   "source": [
    "prompt = ChatPromptTemplate.from_template(\"\"\"Answer the following question based \n",
    "    on this context:\n",
    "\n",
    "{context}\n",
    "\n",
    "Question: {question}\n",
    "\"\"\")\n",
    "\n",
    "\n",
    "@chain\n",
    "def multi_query_qa_fusion(input):\n",
    "    # fetch relevant documents \n",
    "    docs = retrieval_chain.invoke(input)\n",
    "    # format prompt\n",
    "    formatted = prompt.invoke({\"context\": docs, \"question\": input})\n",
    "    # generate answer\n",
    "    answer = llm.invoke(formatted)\n",
    "    return answer\n",
    "\n",
    "multi_query_qa_fusion.invoke(\"\"\"Who are some key figures in the ancient greek history \n",
    "    of philosophy?\"\"\")"
   ]
  },
  {
   "cell_type": "markdown",
   "id": "009e07be",
   "metadata": {},
   "source": [
    "### Hypothetical Document Embeddings"
   ]
  },
  {
   "cell_type": "code",
   "execution_count": 57,
   "id": "2b81a264",
   "metadata": {},
   "outputs": [],
   "source": [
    "from langchain.prompts import ChatPromptTemplate\n",
    "from langchain_core.output_parsers import StrOutputParser\n",
    "from langchain_openai import ChatOpenAI\n",
    "\n",
    "prompt_hyde = ChatPromptTemplate.from_template(\"\"\"Please write a passage to \n",
    "   answer the question.\\n Question: {question} \\n Passage:\"\"\")\n",
    "\n",
    "generate_doc = (\n",
    "    prompt_hyde | llm | StrOutputParser() \n",
    ")"
   ]
  },
  {
   "cell_type": "code",
   "execution_count": 58,
   "id": "804c389e",
   "metadata": {},
   "outputs": [],
   "source": [
    "retrieval_chain = generate_doc | retriever "
   ]
  },
  {
   "cell_type": "code",
   "execution_count": 59,
   "id": "1a5df847",
   "metadata": {},
   "outputs": [
    {
     "data": {
      "text/plain": [
       "AIMessage(content='Some key figures in the ancient Greek history of philosophy include Plato, Aristotle, and Socrates. These philosophers developed a wide range of philosophical theories and ideas that continue to be influential in modern-day philosophy.', additional_kwargs={}, response_metadata={'model': 'qwen:0.5b', 'created_at': '2025-08-03T01:47:14.5902099Z', 'done': True, 'done_reason': 'stop', 'total_duration': 11722857200, 'load_duration': 35895500, 'prompt_eval_count': 923, 'prompt_eval_duration': 10291991700, 'eval_count': 41, 'eval_duration': 1394400600, 'model_name': 'qwen:0.5b'}, id='run--085bcfb1-0187-453e-8e7c-d33de45fef85-0', usage_metadata={'input_tokens': 923, 'output_tokens': 41, 'total_tokens': 964})"
      ]
     },
     "execution_count": 59,
     "metadata": {},
     "output_type": "execute_result"
    }
   ],
   "source": [
    "prompt = ChatPromptTemplate.from_template(\"\"\"Answer the following question based \n",
    "    on this context:\n",
    "\n",
    "{context}\n",
    "\n",
    "Question: {question}\n",
    "\"\"\")\n",
    "\n",
    "\n",
    "@chain\n",
    "def qa(input):\n",
    "  # fetch relevant documents from the hyde retrieval chain defined earlier\n",
    "  docs = retrieval_chain.invoke(input)\n",
    "  # format prompt\n",
    "  formatted = prompt.invoke({\"context\": docs, \"question\": input})\n",
    "  # generate answer\n",
    "  answer = llm.invoke(formatted)\n",
    "  return answer\n",
    "\n",
    "qa.invoke(\"\"\"Who are some key figures in the ancient greek history of \n",
    "    philosophy?\"\"\")"
   ]
  },
  {
   "cell_type": "code",
   "execution_count": 60,
   "id": "ddc0a3a8",
   "metadata": {},
   "outputs": [
    {
     "data": {
      "text/plain": [
       "'The ancient Greek history of philosophy is filled with many key figures. Some of the most important philosophers of ancient Greece include Plato, Aristotle, and Confucius. These philosophers have had a significant impact on Western culture and society.'"
      ]
     },
     "execution_count": 60,
     "metadata": {},
     "output_type": "execute_result"
    }
   ],
   "source": [
    "generate_doc.invoke(\"\"\"Who are some key figures in the ancient greek history of \n",
    "    philosophy?\"\"\")"
   ]
  },
  {
   "cell_type": "code",
   "execution_count": null,
   "id": "ec4cebbf",
   "metadata": {},
   "outputs": [],
   "source": []
  }
 ],
 "metadata": {
  "kernelspec": {
   "display_name": "venv",
   "language": "python",
   "name": "python3"
  },
  "language_info": {
   "codemirror_mode": {
    "name": "ipython",
    "version": 3
   },
   "file_extension": ".py",
   "mimetype": "text/x-python",
   "name": "python",
   "nbconvert_exporter": "python",
   "pygments_lexer": "ipython3",
   "version": "3.10.0"
  }
 },
 "nbformat": 4,
 "nbformat_minor": 5
}
