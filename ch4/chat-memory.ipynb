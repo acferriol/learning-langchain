{
 "cells": [
  {
   "cell_type": "markdown",
   "id": "555fab33",
   "metadata": {},
   "source": [
    "# Chatbot Memory"
   ]
  },
  {
   "cell_type": "code",
   "execution_count": 5,
   "id": "cd46fbdd",
   "metadata": {},
   "outputs": [
    {
     "data": {
      "text/plain": [
       "AIMessage(content='I just said \"j\\'adore programmer.\"', additional_kwargs={}, response_metadata={'model': 'qwen:0.5b', 'created_at': '2025-08-07T13:19:59.2853048Z', 'done': True, 'done_reason': 'stop', 'total_duration': 2454663500, 'load_duration': 1659153100, 'prompt_eval_count': 64, 'prompt_eval_duration': 471026800, 'eval_count': 11, 'eval_duration': 319434200, 'model_name': 'qwen:0.5b'}, id='run--c03d484c-e716-449c-8e44-05d2aa6d24d3-0', usage_metadata={'input_tokens': 64, 'output_tokens': 11, 'total_tokens': 75})"
      ]
     },
     "execution_count": 5,
     "metadata": {},
     "output_type": "execute_result"
    }
   ],
   "source": [
    "from langchain_core.prompts import ChatPromptTemplate\n",
    "from langchain_ollama import ChatOllama\n",
    "\n",
    "prompt = ChatPromptTemplate.from_messages([\n",
    "    (\"system\", \"\"\"You are a helpful assistant. Answer all questions to the best \n",
    "        of your ability.\"\"\"),\n",
    "    (\"placeholder\", \"{messages}\"),\n",
    "])\n",
    "\n",
    "model = ChatOllama(model=\"qwen:0.5b\", temperature=0)\n",
    "\n",
    "chain = prompt | model\n",
    "\n",
    "chain.invoke({\n",
    "    \"messages\": [\n",
    "        (\"human\",\"\"\"Translate this sentence from English to French: I love \n",
    "            programming.\"\"\"),\n",
    "        (\"ai\", \"J'adore programmer.\"),\n",
    "        (\"human\", \"What did you just say?\"),\n",
    "    ],\n",
    "})"
   ]
  },
  {
   "cell_type": "markdown",
   "id": "4931517c",
   "metadata": {},
   "source": [
    "## Langraph (for memory)\n",
    "\n",
    "* State: Data\n",
    "* Nodes: Process States\n",
    "* Edges: Connect Nodes"
   ]
  },
  {
   "cell_type": "code",
   "execution_count": 6,
   "id": "74e7b452",
   "metadata": {},
   "outputs": [],
   "source": [
    "from typing import Annotated, TypedDict\n",
    "\n",
    "from langgraph.graph import StateGraph, START, END\n",
    "from langgraph.graph.message import add_messages\n",
    "\n",
    "\n",
    "class State(TypedDict):\n",
    "    # Messages have the type \"list\". The `add_messages` \n",
    "    # function in the annotation defines how this state should \n",
    "    # be updated (in this case, it appends new messages to the \n",
    "    # list, rather than replacing the previous messages)\n",
    "\tmessages: Annotated[list, add_messages]\n",
    "\n",
    "builder = StateGraph(State)"
   ]
  },
  {
   "cell_type": "code",
   "execution_count": 7,
   "id": "380eff1b",
   "metadata": {},
   "outputs": [
    {
     "data": {
      "text/plain": [
       "<langgraph.graph.state.StateGraph at 0x278b20299c0>"
      ]
     },
     "execution_count": 7,
     "metadata": {},
     "output_type": "execute_result"
    }
   ],
   "source": [
    "from langchain_ollama import ChatOllama\n",
    "\n",
    "model = ChatOllama(model=\"qwen:0.5b\")\n",
    "\n",
    "def chatbot(state: State):\n",
    "    answer = model.invoke(state[\"messages\"])\n",
    "    return {\"messages\": [answer]}\n",
    "\n",
    "# The first argument is the unique node name\n",
    "# The second argument is the function or Runnable to run\n",
    "builder.add_node(\"chatbot\", chatbot)"
   ]
  },
  {
   "cell_type": "code",
   "execution_count": 8,
   "id": "38fc1e66",
   "metadata": {},
   "outputs": [],
   "source": [
    "builder.add_edge(START, 'chatbot')\n",
    "builder.add_edge('chatbot', END)\n",
    "\n",
    "graph = builder.compile()"
   ]
  },
  {
   "cell_type": "code",
   "execution_count": 9,
   "id": "84e0850a",
   "metadata": {},
   "outputs": [
    {
     "data": {
      "text/plain": [
       "'---\\nconfig:\\n  flowchart:\\n    curve: linear\\n---\\ngraph TD;\\n\\t__start__([<p>__start__</p>]):::first\\n\\tchatbot(chatbot)\\n\\t__end__([<p>__end__</p>]):::last\\n\\t__start__ --> chatbot;\\n\\tchatbot --> __end__;\\n\\tclassDef default fill:#f2f0ff,line-height:1.2\\n\\tclassDef first fill-opacity:0\\n\\tclassDef last fill:#bfb6fc\\n'"
      ]
     },
     "execution_count": 9,
     "metadata": {},
     "output_type": "execute_result"
    }
   ],
   "source": [
    "graph.get_graph().draw_mermaid()"
   ]
  },
  {
   "cell_type": "code",
   "execution_count": 10,
   "id": "dca6071c",
   "metadata": {},
   "outputs": [],
   "source": [
    "from langchain_core.messages import HumanMessage"
   ]
  },
  {
   "cell_type": "code",
   "execution_count": 11,
   "id": "04e35f52",
   "metadata": {},
   "outputs": [
    {
     "name": "stdout",
     "output_type": "stream",
     "text": [
      "{'chatbot': {'messages': [AIMessage(content='Hello there, how may I assist you today?', additional_kwargs={}, response_metadata={'model': 'qwen:0.5b', 'created_at': '2025-08-07T13:20:00.1620944Z', 'done': True, 'done_reason': 'stop', 'total_duration': 472404200, 'load_duration': 34020500, 'prompt_eval_count': 10, 'prompt_eval_duration': 98713100, 'eval_count': 11, 'eval_duration': 337698500, 'model_name': 'qwen:0.5b'}, id='run--00ee30b3-1bdb-43ee-a28d-311242c12587-0', usage_metadata={'input_tokens': 10, 'output_tokens': 11, 'total_tokens': 21})]}}\n"
     ]
    }
   ],
   "source": [
    "input = {\"messages\": [HumanMessage('hi!')]}\n",
    "for chunk in graph.stream(input):\n",
    "    print(chunk)"
   ]
  },
  {
   "cell_type": "markdown",
   "id": "c5d75c4d",
   "metadata": {},
   "source": [
    "### Add memory"
   ]
  },
  {
   "cell_type": "code",
   "execution_count": 12,
   "id": "bcb5e026",
   "metadata": {},
   "outputs": [],
   "source": [
    "from langgraph.checkpoint.memory import MemorySaver\n",
    "\n",
    "graph = builder.compile(checkpointer=MemorySaver())"
   ]
  },
  {
   "cell_type": "code",
   "execution_count": 13,
   "id": "11bdf4ae",
   "metadata": {},
   "outputs": [],
   "source": [
    "thread1 = {\"configurable\": {\"thread_id\": \"1\"}} #Identify the conversation\n",
    "result_1 = graph.invoke(\n",
    "    { \"messages\": [HumanMessage(\"hi, my name is Jack!\")] }, \n",
    "    thread1\n",
    ")"
   ]
  },
  {
   "cell_type": "code",
   "execution_count": 14,
   "id": "e897879f",
   "metadata": {},
   "outputs": [
    {
     "data": {
      "text/plain": [
       "{'messages': [HumanMessage(content='hi, my name is Jack!', additional_kwargs={}, response_metadata={}, id='0339de65-5bf7-4129-a62b-a35e5411fcaa'),\n",
       "  AIMessage(content='Hello Jack! How may I assist you today?', additional_kwargs={}, response_metadata={'model': 'qwen:0.5b', 'created_at': '2025-08-07T13:20:00.5505043Z', 'done': True, 'done_reason': 'stop', 'total_duration': 348238700, 'load_duration': 24344300, 'prompt_eval_count': 15, 'prompt_eval_duration': 96849000, 'eval_count': 11, 'eval_duration': 225521900, 'model_name': 'qwen:0.5b'}, id='run--ee281e32-a59b-4457-8b99-e4214be7db0d-0', usage_metadata={'input_tokens': 15, 'output_tokens': 11, 'total_tokens': 26})]}"
      ]
     },
     "execution_count": 14,
     "metadata": {},
     "output_type": "execute_result"
    }
   ],
   "source": [
    "result_1"
   ]
  },
  {
   "cell_type": "code",
   "execution_count": 15,
   "id": "75b2a0a2",
   "metadata": {},
   "outputs": [],
   "source": [
    "result_2 = graph.invoke(\n",
    "    { \"messages\": [HumanMessage(\"what is my name?\")] }, \n",
    "    thread1\n",
    ")"
   ]
  },
  {
   "cell_type": "code",
   "execution_count": 16,
   "id": "09c183f3",
   "metadata": {},
   "outputs": [
    {
     "data": {
      "text/plain": [
       "{'messages': [HumanMessage(content='hi, my name is Jack!', additional_kwargs={}, response_metadata={}, id='0339de65-5bf7-4129-a62b-a35e5411fcaa'),\n",
       "  AIMessage(content='Hello Jack! How may I assist you today?', additional_kwargs={}, response_metadata={'model': 'qwen:0.5b', 'created_at': '2025-08-07T13:20:00.5505043Z', 'done': True, 'done_reason': 'stop', 'total_duration': 348238700, 'load_duration': 24344300, 'prompt_eval_count': 15, 'prompt_eval_duration': 96849000, 'eval_count': 11, 'eval_duration': 225521900, 'model_name': 'qwen:0.5b'}, id='run--ee281e32-a59b-4457-8b99-e4214be7db0d-0', usage_metadata={'input_tokens': 15, 'output_tokens': 11, 'total_tokens': 26}),\n",
       "  HumanMessage(content='what is my name?', additional_kwargs={}, response_metadata={}, id='8450aba2-e530-4b16-9ab1-11ec3ac8b797'),\n",
       "  AIMessage(content='Your name is Jack.', additional_kwargs={}, response_metadata={'model': 'qwen:0.5b', 'created_at': '2025-08-07T13:20:00.8221477Z', 'done': True, 'done_reason': 'stop', 'total_duration': 236563900, 'load_duration': 22427300, 'prompt_eval_count': 38, 'prompt_eval_duration': 97327700, 'eval_count': 6, 'eval_duration': 115225900, 'model_name': 'qwen:0.5b'}, id='run--2c23afe9-25c4-46dc-8529-481f5b9d8a70-0', usage_metadata={'input_tokens': 38, 'output_tokens': 6, 'total_tokens': 44})]}"
      ]
     },
     "execution_count": 16,
     "metadata": {},
     "output_type": "execute_result"
    }
   ],
   "source": [
    "result_2"
   ]
  },
  {
   "cell_type": "code",
   "execution_count": 17,
   "id": "a9da2b48",
   "metadata": {},
   "outputs": [
    {
     "data": {
      "text/plain": [
       "StateSnapshot(values={'messages': [HumanMessage(content='hi, my name is Jack!', additional_kwargs={}, response_metadata={}, id='0339de65-5bf7-4129-a62b-a35e5411fcaa'), AIMessage(content='Hello Jack! How may I assist you today?', additional_kwargs={}, response_metadata={'model': 'qwen:0.5b', 'created_at': '2025-08-07T13:20:00.5505043Z', 'done': True, 'done_reason': 'stop', 'total_duration': 348238700, 'load_duration': 24344300, 'prompt_eval_count': 15, 'prompt_eval_duration': 96849000, 'eval_count': 11, 'eval_duration': 225521900, 'model_name': 'qwen:0.5b'}, id='run--ee281e32-a59b-4457-8b99-e4214be7db0d-0', usage_metadata={'input_tokens': 15, 'output_tokens': 11, 'total_tokens': 26}), HumanMessage(content='what is my name?', additional_kwargs={}, response_metadata={}, id='8450aba2-e530-4b16-9ab1-11ec3ac8b797'), AIMessage(content='Your name is Jack.', additional_kwargs={}, response_metadata={'model': 'qwen:0.5b', 'created_at': '2025-08-07T13:20:00.8221477Z', 'done': True, 'done_reason': 'stop', 'total_duration': 236563900, 'load_duration': 22427300, 'prompt_eval_count': 38, 'prompt_eval_duration': 97327700, 'eval_count': 6, 'eval_duration': 115225900, 'model_name': 'qwen:0.5b'}, id='run--2c23afe9-25c4-46dc-8529-481f5b9d8a70-0', usage_metadata={'input_tokens': 38, 'output_tokens': 6, 'total_tokens': 44})]}, next=(), config={'configurable': {'thread_id': '1', 'checkpoint_ns': '', 'checkpoint_id': '1f073913-8c2d-6da4-8004-1bee0d6fad89'}}, metadata={'source': 'loop', 'step': 4, 'parents': {}}, created_at='2025-08-07T13:20:00.823235+00:00', parent_config={'configurable': {'thread_id': '1', 'checkpoint_ns': '', 'checkpoint_id': '1f073913-89de-6c98-8003-c3f67087c50e'}}, tasks=(), interrupts=())"
      ]
     },
     "execution_count": 17,
     "metadata": {},
     "output_type": "execute_result"
    }
   ],
   "source": [
    "graph.get_state(thread1)"
   ]
  },
  {
   "cell_type": "code",
   "execution_count": 18,
   "id": "cefa623f",
   "metadata": {},
   "outputs": [
    {
     "data": {
      "text/plain": [
       "{'configurable': {'thread_id': '1',\n",
       "  'checkpoint_ns': '',\n",
       "  'checkpoint_id': '1f073913-8cd0-6de4-8005-f2aeca29300f'}}"
      ]
     },
     "execution_count": 18,
     "metadata": {},
     "output_type": "execute_result"
    }
   ],
   "source": [
    "graph.update_state(thread1, { \"messages\": [HumanMessage(\"I Like LLMs!\")] })"
   ]
  },
  {
   "cell_type": "code",
   "execution_count": 19,
   "id": "acc20edc",
   "metadata": {},
   "outputs": [
    {
     "data": {
      "text/plain": [
       "StateSnapshot(values={'messages': [HumanMessage(content='hi, my name is Jack!', additional_kwargs={}, response_metadata={}, id='0339de65-5bf7-4129-a62b-a35e5411fcaa'), AIMessage(content='Hello Jack! How may I assist you today?', additional_kwargs={}, response_metadata={'model': 'qwen:0.5b', 'created_at': '2025-08-07T13:20:00.5505043Z', 'done': True, 'done_reason': 'stop', 'total_duration': 348238700, 'load_duration': 24344300, 'prompt_eval_count': 15, 'prompt_eval_duration': 96849000, 'eval_count': 11, 'eval_duration': 225521900, 'model_name': 'qwen:0.5b'}, id='run--ee281e32-a59b-4457-8b99-e4214be7db0d-0', usage_metadata={'input_tokens': 15, 'output_tokens': 11, 'total_tokens': 26}), HumanMessage(content='what is my name?', additional_kwargs={}, response_metadata={}, id='8450aba2-e530-4b16-9ab1-11ec3ac8b797'), AIMessage(content='Your name is Jack.', additional_kwargs={}, response_metadata={'model': 'qwen:0.5b', 'created_at': '2025-08-07T13:20:00.8221477Z', 'done': True, 'done_reason': 'stop', 'total_duration': 236563900, 'load_duration': 22427300, 'prompt_eval_count': 38, 'prompt_eval_duration': 97327700, 'eval_count': 6, 'eval_duration': 115225900, 'model_name': 'qwen:0.5b'}, id='run--2c23afe9-25c4-46dc-8529-481f5b9d8a70-0', usage_metadata={'input_tokens': 38, 'output_tokens': 6, 'total_tokens': 44}), HumanMessage(content='I Like LLMs!', additional_kwargs={}, response_metadata={}, id='997c99bb-5191-4fc1-9ff3-ade4451bc49d')]}, next=(), config={'configurable': {'thread_id': '1', 'checkpoint_ns': '', 'checkpoint_id': '1f073913-8cd0-6de4-8005-f2aeca29300f'}}, metadata={'source': 'update', 'step': 5, 'parents': {}}, created_at='2025-08-07T13:20:00.890006+00:00', parent_config={'configurable': {'thread_id': '1', 'checkpoint_ns': '', 'checkpoint_id': '1f073913-8c2d-6da4-8004-1bee0d6fad89'}}, tasks=(), interrupts=())"
      ]
     },
     "execution_count": 19,
     "metadata": {},
     "output_type": "execute_result"
    }
   ],
   "source": [
    "graph.get_state(thread1)"
   ]
  },
  {
   "cell_type": "markdown",
   "id": "6169fe64",
   "metadata": {},
   "source": [
    "### Modify Chat History\n",
    "\n",
    "* trimming (window)\n",
    "* filtering\n",
    "* merging"
   ]
  },
  {
   "cell_type": "markdown",
   "id": "d68ed8f0",
   "metadata": {},
   "source": [
    "##### Trimming"
   ]
  },
  {
   "cell_type": "code",
   "execution_count": 20,
   "id": "1d6b8ae0",
   "metadata": {},
   "outputs": [
    {
     "data": {
      "text/plain": [
       "[SystemMessage(content=\"you're a good assistant\", additional_kwargs={}, response_metadata={}),\n",
       " HumanMessage(content=\"what's 2 + 2\", additional_kwargs={}, response_metadata={}),\n",
       " AIMessage(content='4', additional_kwargs={}, response_metadata={}),\n",
       " HumanMessage(content='thanks', additional_kwargs={}, response_metadata={}),\n",
       " AIMessage(content='no problem!', additional_kwargs={}, response_metadata={}),\n",
       " HumanMessage(content='having fun?', additional_kwargs={}, response_metadata={}),\n",
       " AIMessage(content='yes!', additional_kwargs={}, response_metadata={})]"
      ]
     },
     "execution_count": 20,
     "metadata": {},
     "output_type": "execute_result"
    }
   ],
   "source": [
    "from langchain_core.messages import SystemMessage, trim_messages, AIMessage, HumanMessage\n",
    "from langchain_ollama import ChatOllama\n",
    "from langchain_core.messages.utils import count_tokens_approximately\n",
    "\n",
    "trimmer = trim_messages(\n",
    "    max_tokens=60,\n",
    "    strategy=\"last\",\n",
    "    token_counter=count_tokens_approximately,\n",
    "    include_system=True,\n",
    "    allow_partial=False,\n",
    "    start_on=\"human\",\n",
    ")\n",
    "\n",
    "messages = [\n",
    "    SystemMessage(content=\"you're a good assistant\"),\n",
    "    HumanMessage(content=\"hi! I'm bob\"),\n",
    "    AIMessage(content=\"hi!\"),\n",
    "    HumanMessage(content=\"I like vanilla ice cream\"),\n",
    "    AIMessage(content=\"nice\"),\n",
    "    HumanMessage(content=\"what's 2 + 2\"),\n",
    "    AIMessage(content=\"4\"),\n",
    "    HumanMessage(content=\"thanks\"),\n",
    "    AIMessage(content=\"no problem!\"),\n",
    "    HumanMessage(content=\"having fun?\"),\n",
    "    AIMessage(content=\"yes!\"),\n",
    "]\n",
    "\n",
    "trimmer.invoke(messages)"
   ]
  },
  {
   "cell_type": "code",
   "execution_count": 21,
   "id": "32373f9f",
   "metadata": {},
   "outputs": [
    {
     "data": {
      "text/plain": [
       "[SystemMessage(content=\"you're a good assistant\", additional_kwargs={}, response_metadata={}),\n",
       " HumanMessage(content='thanks', additional_kwargs={}, response_metadata={}),\n",
       " AIMessage(content='no problem!', additional_kwargs={}, response_metadata={}),\n",
       " HumanMessage(content='having fun?', additional_kwargs={}, response_metadata={}),\n",
       " AIMessage(content='yes!', additional_kwargs={}, response_metadata={})]"
      ]
     },
     "execution_count": 21,
     "metadata": {},
     "output_type": "execute_result"
    }
   ],
   "source": [
    "trimmer = trim_messages(\n",
    "    max_tokens=5,\n",
    "    strategy=\"last\",\n",
    "    token_counter=len, #Each message is a token\n",
    "    include_system=True,\n",
    "    allow_partial=False,\n",
    "    start_on=\"human\",\n",
    ")\n",
    "\n",
    "messages = [\n",
    "    SystemMessage(content=\"you're a good assistant\"),\n",
    "    HumanMessage(content=\"hi! I'm bob\"),\n",
    "    AIMessage(content=\"hi!\"),\n",
    "    HumanMessage(content=\"I like vanilla ice cream\"),\n",
    "    AIMessage(content=\"nice\"),\n",
    "    HumanMessage(content=\"what's 2 + 2\"),\n",
    "    AIMessage(content=\"4\"),\n",
    "    HumanMessage(content=\"thanks\"),\n",
    "    AIMessage(content=\"no problem!\"),\n",
    "    HumanMessage(content=\"having fun?\"),\n",
    "    AIMessage(content=\"yes!\"),\n",
    "]\n",
    "\n",
    "trimmer.invoke(messages)"
   ]
  },
  {
   "cell_type": "markdown",
   "id": "696aedd7",
   "metadata": {},
   "source": [
    "##### Filtering (Filter by type, id or name)"
   ]
  },
  {
   "cell_type": "markdown",
   "id": "b911b134",
   "metadata": {},
   "source": [
    "##### By Type"
   ]
  },
  {
   "cell_type": "code",
   "execution_count": 22,
   "id": "c995eefb",
   "metadata": {},
   "outputs": [
    {
     "data": {
      "text/plain": [
       "[HumanMessage(content='example input', additional_kwargs={}, response_metadata={}, name='example_user', id='2'),\n",
       " HumanMessage(content='real input', additional_kwargs={}, response_metadata={}, name='bob', id='4')]"
      ]
     },
     "execution_count": 22,
     "metadata": {},
     "output_type": "execute_result"
    }
   ],
   "source": [
    "from langchain_core.messages import (\n",
    "    AIMessage,\n",
    "    HumanMessage,\n",
    "    SystemMessage,\n",
    "    filter_messages,\n",
    ")\n",
    "\n",
    "messages = [\n",
    "    SystemMessage(\"you are a good assistant\", id=\"1\"),\n",
    "    HumanMessage(\"example input\", id=\"2\", name=\"example_user\"),\n",
    "    AIMessage(\"example output\", id=\"3\", name=\"example_assistant\"),\n",
    "    HumanMessage(\"real input\", id=\"4\", name=\"bob\"),\n",
    "    AIMessage(\"real output\", id=\"5\", name=\"alice\"),\n",
    "]\n",
    "\n",
    "filter_messages(messages, include_types=\"human\")"
   ]
  },
  {
   "cell_type": "markdown",
   "id": "c2ea617b",
   "metadata": {},
   "source": [
    "##### By name (with exclude)"
   ]
  },
  {
   "cell_type": "code",
   "execution_count": 23,
   "id": "1c0f4a94",
   "metadata": {},
   "outputs": [
    {
     "data": {
      "text/plain": [
       "[SystemMessage(content='you are a good assistant', additional_kwargs={}, response_metadata={}, id='1'),\n",
       " HumanMessage(content='real input', additional_kwargs={}, response_metadata={}, name='bob', id='4'),\n",
       " AIMessage(content='real output', additional_kwargs={}, response_metadata={}, name='alice', id='5')]"
      ]
     },
     "execution_count": 23,
     "metadata": {},
     "output_type": "execute_result"
    }
   ],
   "source": [
    "filter_messages(messages, exclude_names=[\"example_user\", \"example_assistant\"])"
   ]
  },
  {
   "cell_type": "markdown",
   "id": "04cbe411",
   "metadata": {},
   "source": [
    "##### By type and id (Mix include, exclude)"
   ]
  },
  {
   "cell_type": "code",
   "execution_count": 24,
   "id": "aec1d7f3",
   "metadata": {},
   "outputs": [
    {
     "data": {
      "text/plain": [
       "[HumanMessage(content='example input', additional_kwargs={}, response_metadata={}, name='example_user', id='2'),\n",
       " HumanMessage(content='real input', additional_kwargs={}, response_metadata={}, name='bob', id='4'),\n",
       " AIMessage(content='real output', additional_kwargs={}, response_metadata={}, name='alice', id='5')]"
      ]
     },
     "execution_count": 24,
     "metadata": {},
     "output_type": "execute_result"
    }
   ],
   "source": [
    "filter_messages(\n",
    "    messages, \n",
    "    include_types=[HumanMessage, AIMessage], \n",
    "    exclude_ids=[\"3\"]\n",
    ")"
   ]
  },
  {
   "cell_type": "code",
   "execution_count": 25,
   "id": "cca3a4e3",
   "metadata": {},
   "outputs": [],
   "source": [
    "filter_ = filter_messages(exclude_names=[\"example_user\", \"example_assistant\"])\n",
    "\n",
    "chain = filter_ | model"
   ]
  },
  {
   "cell_type": "code",
   "execution_count": 32,
   "id": "8488221e",
   "metadata": {},
   "outputs": [
    {
     "data": {
      "text/plain": [
       "AIMessage(content='There is no specific information that can be told. However, if you could provide more context or specify what you would like to know, I would be happy to assist you.', additional_kwargs={}, response_metadata={'model': 'qwen:0.5b', 'created_at': '2025-08-07T13:24:22.437432Z', 'done': True, 'done_reason': 'stop', 'total_duration': 968686400, 'load_duration': 26660600, 'prompt_eval_count': 32, 'prompt_eval_duration': 91539100, 'eval_count': 36, 'eval_duration': 845563300, 'model_name': 'qwen:0.5b'}, id='run--3e43d971-45f8-4d38-a417-6ab7d08e165d-0', usage_metadata={'input_tokens': 32, 'output_tokens': 36, 'total_tokens': 68})"
      ]
     },
     "execution_count": 32,
     "metadata": {},
     "output_type": "execute_result"
    }
   ],
   "source": [
    "messages = [\n",
    "    SystemMessage(\"you are a good assistant\", id=\"1\"),\n",
    "    HumanMessage(\"example input\", id=\"2\", name=\"example_user\"),\n",
    "    AIMessage(\"example output\", id=\"3\", name=\"example_assistant\"),\n",
    "    HumanMessage(\"real input\", id=\"4\", name=\"bob\"),\n",
    "    AIMessage(\"real output\", id=\"5\", name=\"alice\"),\n",
    "    HumanMessage(\"Tell me something\", id=\"6\", name=\"random\"),\n",
    "]\n",
    "chain.invoke(messages)"
   ]
  },
  {
   "cell_type": "markdown",
   "id": "f2517c34",
   "metadata": {},
   "source": [
    "##### Merging (Same type consecutive)"
   ]
  },
  {
   "cell_type": "code",
   "execution_count": 42,
   "id": "5841d62a",
   "metadata": {},
   "outputs": [
    {
     "data": {
      "text/plain": [
       "[SystemMessage(content=\"you're a good assistant.\\nyou always respond with a joke.\", additional_kwargs={}, response_metadata={}),\n",
       " HumanMessage(content=[{'type': 'text', 'text': \"i wonder why it's called langchain\"}, {'type': 'text', 'text': 'and who is harrison chasing anyway'}], additional_kwargs={}, response_metadata={}),\n",
       " AIMessage(content=[{'type': 'text', 'text': 'Well, I guess they thought \"WordRope\" and \"SentenceString\" just \\n        didn\\'t have the same ring to it!'}, {'type': 'text', 'text': \"Why, he's probably chasing after the last cup of coffee in the \\n        office!\"}], additional_kwargs={}, response_metadata={}),\n",
       " HumanMessage(content=[{'type': 'text', 'text': 'Tell me a joke'}], additional_kwargs={}, response_metadata={})]"
      ]
     },
     "execution_count": 42,
     "metadata": {},
     "output_type": "execute_result"
    }
   ],
   "source": [
    "from langchain_core.messages import (\n",
    "    AIMessage,\n",
    "    HumanMessage,\n",
    "    SystemMessage,\n",
    "    merge_message_runs,\n",
    ")\n",
    "\n",
    "messages = [\n",
    "    SystemMessage(\"you're a good assistant.\"),\n",
    "    SystemMessage(\"you always respond with a joke.\"),\n",
    "    HumanMessage(\n",
    "        [{\"type\": \"text\", \"text\": \"i wonder why it's called langchain\"}]\n",
    "    ),\n",
    "    HumanMessage([{ \"type\": \"text\", \"text\":\"and who is harrison chasing anyway\"}]),\n",
    "    AIMessage(\n",
    "        [{ \"type\": \"text\", \"text\":'''Well, I guess they thought \"WordRope\" and \"SentenceString\" just \n",
    "        didn\\'t have the same ring to it!'''}]\n",
    "    ),\n",
    "    AIMessage([{ \"type\": \"text\", \"text\":\"\"\"Why, he's probably chasing after the last cup of coffee in the \n",
    "        office!\"\"\"}]),\n",
    "    HumanMessage([{ \"type\": \"text\", \"text\":\"Tell me a joke\"}]),\n",
    "]\n",
    "\n",
    "merge_message_runs(messages)"
   ]
  },
  {
   "cell_type": "code",
   "execution_count": 43,
   "id": "6ff1e6ac",
   "metadata": {},
   "outputs": [],
   "source": [
    "merger = merge_message_runs()\n",
    "chain = merger | model"
   ]
  },
  {
   "cell_type": "code",
   "execution_count": 44,
   "id": "e15c4c4a",
   "metadata": {},
   "outputs": [
    {
     "data": {
      "text/plain": [
       "AIMessage(content=\"Here's a classic one for you:\\n\\nWhy was the math book sad?\\n\\nBecause it had too many problems.\", additional_kwargs={}, response_metadata={'model': 'qwen:0.5b', 'created_at': '2025-08-07T13:34:09.9548131Z', 'done': True, 'done_reason': 'stop', 'total_duration': 660641500, 'load_duration': 23518300, 'prompt_eval_count': 110, 'prompt_eval_duration': 77368000, 'eval_count': 23, 'eval_duration': 556064300, 'model_name': 'qwen:0.5b'}, id='run--07e45ec1-4454-4cfd-83aa-3bf11a11f41a-0', usage_metadata={'input_tokens': 110, 'output_tokens': 23, 'total_tokens': 133})"
      ]
     },
     "execution_count": 44,
     "metadata": {},
     "output_type": "execute_result"
    }
   ],
   "source": [
    "chain.invoke(messages)"
   ]
  }
 ],
 "metadata": {
  "kernelspec": {
   "display_name": "venv",
   "language": "python",
   "name": "python3"
  },
  "language_info": {
   "codemirror_mode": {
    "name": "ipython",
    "version": 3
   },
   "file_extension": ".py",
   "mimetype": "text/x-python",
   "name": "python",
   "nbconvert_exporter": "python",
   "pygments_lexer": "ipython3",
   "version": "3.10.0"
  }
 },
 "nbformat": 4,
 "nbformat_minor": 5
}
